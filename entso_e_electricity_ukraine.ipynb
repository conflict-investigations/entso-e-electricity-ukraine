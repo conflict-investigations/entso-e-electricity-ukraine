{
 "cells": [
  {
   "cell_type": "code",
   "execution_count": 16,
   "id": "0714b8ac",
   "metadata": {},
   "outputs": [],
   "source": [
    "import json\n",
    "import pandas as pd\n",
    "import numpy as np\n",
    "import matplotlib.pyplot as plt\n",
    "import plotly.express as px\n",
    "import plotly.graph_objects as go\n",
    "from entsoe import EntsoePandasClient\n",
    "from pandas.tseries.frequencies import to_offset"
   ]
  },
  {
   "cell_type": "code",
   "execution_count": 2,
   "id": "99c469b6",
   "metadata": {},
   "outputs": [],
   "source": [
    "plotly_config = dict(\n",
    "    autosize=True,\n",
    "    #showlegend=False,\n",
    "    margin=dict(l=0, r=0, b=0, t=0, pad=0),\n",
    ")"
   ]
  },
  {
   "cell_type": "code",
   "execution_count": 34,
   "id": "43a15de6",
   "metadata": {},
   "outputs": [],
   "source": [
    "_export_filename = 'entso_e-ukraine-exports'\n",
    "_import_filename = 'entso_e-ukraine-imports'"
   ]
  },
  {
   "cell_type": "markdown",
   "id": "84d2f157",
   "metadata": {},
   "source": [
    "# Ukraine electricity net energy flows\n",
    "\n",
    "See [github.com/EnergieID/entsoe-py](https://github.com/EnergieID/entsoe-py)  and [transparency.entsoe.eu](https://transparency.entsoe.eu/transmission-domain/physicalFlow/show?name=&defaultValue=false&viewType=GRAPH&areaType=BORDER_CTY&atch=false&dateTime.dateTime=01.01.2023+00:00|CET|DAY&border.values=CTY|10Y1001C--00003F!CTY_CTY|10Y1001C--00003F_CTY_CTY|BY&dateTime.timezone=CET_CEST&dateTime.timezone_input=CET+(UTC+1)+/+CEST+(UTC+2))\n",
    "\n",
    "Thanks to How-To from [thesmartinsights.com: How to query data from the ENTSO-E transparency platform using Python](https://thesmartinsights.com/how-to-query-data-from-the-entso-e-transparency-platform-using-python/)"
   ]
  },
  {
   "cell_type": "markdown",
   "id": "3903fb3a",
   "metadata": {},
   "source": [
    "---\n",
    "\n",
    "# Obtaining data"
   ]
  },
  {
   "cell_type": "markdown",
   "id": "2936fd6a",
   "metadata": {},
   "source": [
    "### Enter your ENTSO-E API key here\n",
    "Will later be read from `api_key.json`."
   ]
  },
  {
   "cell_type": "code",
   "execution_count": 3,
   "id": "cf2a0139",
   "metadata": {},
   "outputs": [],
   "source": [
    "#API_KEY = '<YOUR_KEY_HERE>'\n",
    "#with open('api_key.json', 'w') as f:\n",
    "#    json.dump(API_KEY, f)"
   ]
  },
  {
   "cell_type": "code",
   "execution_count": 4,
   "id": "71fdedea",
   "metadata": {},
   "outputs": [],
   "source": [
    "with open('api_key.json', 'r') as f:\n",
    "    API_KEY = json.load(f)"
   ]
  },
  {
   "cell_type": "code",
   "execution_count": 5,
   "id": "1ca20065",
   "metadata": {},
   "outputs": [],
   "source": [
    "client = EntsoePandasClient(api_key=API_KEY)"
   ]
  },
  {
   "cell_type": "code",
   "execution_count": 6,
   "id": "026aae9a",
   "metadata": {},
   "outputs": [],
   "source": [
    "start = pd.Timestamp('2022-02-01', tz ='UTC')\n",
    "end = pd.Timestamp('2023-04-01', tz ='UTC')"
   ]
  },
  {
   "cell_type": "code",
   "execution_count": 36,
   "id": "8d3dc374",
   "metadata": {},
   "outputs": [],
   "source": [
    "UKRAINE_CODE = 'UA'\n",
    "PARTNER_CODES = [\n",
    "    # 'BY', # Belarus (gives NoMatchingDataError)\n",
    "    'HU', # Hungary\n",
    "    'MD', # Moldova\n",
    "    'PL', # Poland\n",
    "    'RO', # Romania\n",
    "    # 'RU', # Russia (gives NoMatchingDataError)\n",
    "    'SK', # Slovakia\n",
    "]"
   ]
  },
  {
   "cell_type": "code",
   "execution_count": 37,
   "id": "0fef175c",
   "metadata": {},
   "outputs": [],
   "source": [
    "ukraine_exports = pd.DataFrame(columns=PARTNER_CODES)"
   ]
  },
  {
   "cell_type": "code",
   "execution_count": 38,
   "id": "5a47ed76",
   "metadata": {},
   "outputs": [
    {
     "name": "stdout",
     "output_type": "stream",
     "text": [
      "HU\n",
      "MD\n",
      "PL\n",
      "RO\n",
      "SK\n"
     ]
    }
   ],
   "source": [
    "for code in PARTNER_CODES:\n",
    "    print(code)\n",
    "    ukraine_exports[code] = client.query_crossborder_flows(UKRAINE_CODE, code, start=start,end=end)"
   ]
  },
  {
   "cell_type": "code",
   "execution_count": 39,
   "id": "d784457a",
   "metadata": {},
   "outputs": [],
   "source": [
    "ukraine_imports = pd.DataFrame(columns=PARTNER_CODES)"
   ]
  },
  {
   "cell_type": "code",
   "execution_count": 40,
   "id": "70c46549",
   "metadata": {},
   "outputs": [
    {
     "name": "stdout",
     "output_type": "stream",
     "text": [
      "HU\n",
      "MD\n",
      "PL\n",
      "RO\n",
      "SK\n"
     ]
    }
   ],
   "source": [
    "for code in PARTNER_CODES:\n",
    "    print(code)\n",
    "    ukraine_imports[code] = client.query_crossborder_flows(code, UKRAINE_CODE, start=start,end=end)"
   ]
  },
  {
   "cell_type": "code",
   "execution_count": 41,
   "id": "1649063b",
   "metadata": {},
   "outputs": [],
   "source": [
    "# Export files to usable formats\n",
    "# Need to remove timezone info for Excel export:\n",
    "# ValueError: Excel does not support datetimes with timezones. Please ensure that datetimes are timezone unaware before writing to Excel.\n",
    "# https://stackoverflow.com/questions/61802080/excelwriter-valueerror-excel-does-not-support-datetime-with-timezone-when-savin\n",
    "ukraine_exports.set_index(ukraine_exports.index.tz_localize(None)).to_excel(f'{_export_filename}.xlsx')\n",
    "ukraine_exports.to_csv(f'{_export_filename}.csv')\n",
    "ukraine_imports.set_index(ukraine_imports.index.tz_localize(None)).to_excel(f'{_import_filename}.xlsx')\n",
    "ukraine_imports.to_csv(f'{_import_filename}.csv')"
   ]
  },
  {
   "cell_type": "code",
   "execution_count": 59,
   "id": "46a241e7",
   "metadata": {},
   "outputs": [],
   "source": [
    "# Fill empty values with 0\n",
    "ukraine_exports = ukraine_exports.fillna(0)\n",
    "ukraine_imports = ukraine_imports.fillna(0)"
   ]
  },
  {
   "cell_type": "code",
   "execution_count": 60,
   "id": "3ebdac3d",
   "metadata": {},
   "outputs": [],
   "source": [
    "pd.to_pickle(ukraine_exports, f'{_export_filename}.pickle')\n",
    "pd.to_pickle(ukraine_imports, f'{_import_filename}.pickle')"
   ]
  },
  {
   "cell_type": "markdown",
   "id": "47b5d326",
   "metadata": {},
   "source": [
    "# Analysis"
   ]
  },
  {
   "cell_type": "code",
   "execution_count": 61,
   "id": "0e00d2b1",
   "metadata": {},
   "outputs": [],
   "source": [
    "ukraine_exports = pd.read_pickle(f'{_export_filename}.pickle')\n",
    "ukraine_imports = pd.read_pickle(f'{_import_filename}.pickle')"
   ]
  },
  {
   "cell_type": "code",
   "execution_count": 65,
   "id": "12accbc2",
   "metadata": {},
   "outputs": [],
   "source": [
    "ukraine_net = ukraine_exports - ukraine_imports"
   ]
  },
  {
   "cell_type": "markdown",
   "id": "c7311daa",
   "metadata": {},
   "source": [
    "### Resampling to middle of month\n",
    "See [stackoverflow: pandas monthly resample 15th day](https://stackoverflow.com/questions/47246384/pandas-monthly-resample-15th-day)\n",
    "\n",
    "```python\n",
    "df1 = df.resample('MS', loffset=pd.Timedelta(14, 'd')).sum()\n",
    "```\n",
    "\n",
    "Warnings: `FutureWarning: 'loffset' in .resample() and in Grouper() is deprecated.`\n",
    "\n",
    "```python\n",
    "df.resample(freq=\"3s\", loffset=\"8H\")\n",
    "```\n",
    "\n",
    "becomes:\n",
    "\n",
    "```python\n",
    "from pandas.tseries.frequencies import to_offset\n",
    "df = df.resample(freq=\"3s\").mean()\n",
    "df.index = df.index.to_timestamp() + to_offset(\"8H\")\n",
    "```"
   ]
  },
  {
   "cell_type": "code",
   "execution_count": 66,
   "id": "4959d4b0",
   "metadata": {},
   "outputs": [
    {
     "data": {
      "application/vnd.plotly.v1+json": {
       "config": {
        "plotlyServerURL": "https://plot.ly"
       },
       "data": [
        {
         "alignmentgroup": "True",
         "hovertemplate": "=Net flow<br>index=%{x}<br>Electricity flow in MWh=%{y}<extra></extra>",
         "legendgroup": "Net flow",
         "marker": {
          "color": "#636efa",
          "pattern": {
           "shape": ""
          }
         },
         "name": "Net flow",
         "offsetgroup": "Net flow",
         "orientation": "v",
         "showlegend": true,
         "textposition": "auto",
         "type": "bar",
         "x": [
          "2022-02-01T00:00:00+00:00",
          "2022-03-01T00:00:00+00:00",
          "2022-04-01T00:00:00+00:00",
          "2022-05-01T00:00:00+00:00",
          "2022-06-01T00:00:00+00:00",
          "2022-07-01T00:00:00+00:00",
          "2022-08-01T00:00:00+00:00",
          "2022-09-01T00:00:00+00:00",
          "2022-10-01T00:00:00+00:00",
          "2022-11-01T00:00:00+00:00",
          "2022-12-01T00:00:00+00:00",
          "2023-01-01T00:00:00+00:00",
          "2023-02-01T00:00:00+00:00",
          "2023-03-01T00:00:00+00:00"
         ],
         "xaxis": "x",
         "y": [
          322134,
          2955,
          119177,
          202247,
          251259,
          437743,
          545339,
          458218,
          148638,
          -39073,
          -23257,
          -89297,
          -126818,
          25506
         ],
         "yaxis": "y"
        }
       ],
       "layout": {
        "annotations": [
         {
          "arrowhead": 1,
          "showarrow": true,
          "text": "10.10.22: Campaign against energy infrastructure begins",
          "x": "2022-10-10T00:00:00",
          "y": 150000
         }
        ],
        "autosize": true,
        "barmode": "relative",
        "legend": {
         "title": {
          "text": ""
         },
         "tracegroupgap": 0
        },
        "margin": {
         "b": 0,
         "l": 0,
         "pad": 0,
         "r": 0,
         "t": 0
        },
        "showlegend": false,
        "template": {
         "data": {
          "bar": [
           {
            "error_x": {
             "color": "#2a3f5f"
            },
            "error_y": {
             "color": "#2a3f5f"
            },
            "marker": {
             "line": {
              "color": "#E5ECF6",
              "width": 0.5
             },
             "pattern": {
              "fillmode": "overlay",
              "size": 10,
              "solidity": 0.2
             }
            },
            "type": "bar"
           }
          ],
          "barpolar": [
           {
            "marker": {
             "line": {
              "color": "#E5ECF6",
              "width": 0.5
             },
             "pattern": {
              "fillmode": "overlay",
              "size": 10,
              "solidity": 0.2
             }
            },
            "type": "barpolar"
           }
          ],
          "carpet": [
           {
            "aaxis": {
             "endlinecolor": "#2a3f5f",
             "gridcolor": "white",
             "linecolor": "white",
             "minorgridcolor": "white",
             "startlinecolor": "#2a3f5f"
            },
            "baxis": {
             "endlinecolor": "#2a3f5f",
             "gridcolor": "white",
             "linecolor": "white",
             "minorgridcolor": "white",
             "startlinecolor": "#2a3f5f"
            },
            "type": "carpet"
           }
          ],
          "choropleth": [
           {
            "colorbar": {
             "outlinewidth": 0,
             "ticks": ""
            },
            "type": "choropleth"
           }
          ],
          "contour": [
           {
            "colorbar": {
             "outlinewidth": 0,
             "ticks": ""
            },
            "colorscale": [
             [
              0,
              "#0d0887"
             ],
             [
              0.1111111111111111,
              "#46039f"
             ],
             [
              0.2222222222222222,
              "#7201a8"
             ],
             [
              0.3333333333333333,
              "#9c179e"
             ],
             [
              0.4444444444444444,
              "#bd3786"
             ],
             [
              0.5555555555555556,
              "#d8576b"
             ],
             [
              0.6666666666666666,
              "#ed7953"
             ],
             [
              0.7777777777777778,
              "#fb9f3a"
             ],
             [
              0.8888888888888888,
              "#fdca26"
             ],
             [
              1,
              "#f0f921"
             ]
            ],
            "type": "contour"
           }
          ],
          "contourcarpet": [
           {
            "colorbar": {
             "outlinewidth": 0,
             "ticks": ""
            },
            "type": "contourcarpet"
           }
          ],
          "heatmap": [
           {
            "colorbar": {
             "outlinewidth": 0,
             "ticks": ""
            },
            "colorscale": [
             [
              0,
              "#0d0887"
             ],
             [
              0.1111111111111111,
              "#46039f"
             ],
             [
              0.2222222222222222,
              "#7201a8"
             ],
             [
              0.3333333333333333,
              "#9c179e"
             ],
             [
              0.4444444444444444,
              "#bd3786"
             ],
             [
              0.5555555555555556,
              "#d8576b"
             ],
             [
              0.6666666666666666,
              "#ed7953"
             ],
             [
              0.7777777777777778,
              "#fb9f3a"
             ],
             [
              0.8888888888888888,
              "#fdca26"
             ],
             [
              1,
              "#f0f921"
             ]
            ],
            "type": "heatmap"
           }
          ],
          "heatmapgl": [
           {
            "colorbar": {
             "outlinewidth": 0,
             "ticks": ""
            },
            "colorscale": [
             [
              0,
              "#0d0887"
             ],
             [
              0.1111111111111111,
              "#46039f"
             ],
             [
              0.2222222222222222,
              "#7201a8"
             ],
             [
              0.3333333333333333,
              "#9c179e"
             ],
             [
              0.4444444444444444,
              "#bd3786"
             ],
             [
              0.5555555555555556,
              "#d8576b"
             ],
             [
              0.6666666666666666,
              "#ed7953"
             ],
             [
              0.7777777777777778,
              "#fb9f3a"
             ],
             [
              0.8888888888888888,
              "#fdca26"
             ],
             [
              1,
              "#f0f921"
             ]
            ],
            "type": "heatmapgl"
           }
          ],
          "histogram": [
           {
            "marker": {
             "pattern": {
              "fillmode": "overlay",
              "size": 10,
              "solidity": 0.2
             }
            },
            "type": "histogram"
           }
          ],
          "histogram2d": [
           {
            "colorbar": {
             "outlinewidth": 0,
             "ticks": ""
            },
            "colorscale": [
             [
              0,
              "#0d0887"
             ],
             [
              0.1111111111111111,
              "#46039f"
             ],
             [
              0.2222222222222222,
              "#7201a8"
             ],
             [
              0.3333333333333333,
              "#9c179e"
             ],
             [
              0.4444444444444444,
              "#bd3786"
             ],
             [
              0.5555555555555556,
              "#d8576b"
             ],
             [
              0.6666666666666666,
              "#ed7953"
             ],
             [
              0.7777777777777778,
              "#fb9f3a"
             ],
             [
              0.8888888888888888,
              "#fdca26"
             ],
             [
              1,
              "#f0f921"
             ]
            ],
            "type": "histogram2d"
           }
          ],
          "histogram2dcontour": [
           {
            "colorbar": {
             "outlinewidth": 0,
             "ticks": ""
            },
            "colorscale": [
             [
              0,
              "#0d0887"
             ],
             [
              0.1111111111111111,
              "#46039f"
             ],
             [
              0.2222222222222222,
              "#7201a8"
             ],
             [
              0.3333333333333333,
              "#9c179e"
             ],
             [
              0.4444444444444444,
              "#bd3786"
             ],
             [
              0.5555555555555556,
              "#d8576b"
             ],
             [
              0.6666666666666666,
              "#ed7953"
             ],
             [
              0.7777777777777778,
              "#fb9f3a"
             ],
             [
              0.8888888888888888,
              "#fdca26"
             ],
             [
              1,
              "#f0f921"
             ]
            ],
            "type": "histogram2dcontour"
           }
          ],
          "mesh3d": [
           {
            "colorbar": {
             "outlinewidth": 0,
             "ticks": ""
            },
            "type": "mesh3d"
           }
          ],
          "parcoords": [
           {
            "line": {
             "colorbar": {
              "outlinewidth": 0,
              "ticks": ""
             }
            },
            "type": "parcoords"
           }
          ],
          "pie": [
           {
            "automargin": true,
            "type": "pie"
           }
          ],
          "scatter": [
           {
            "fillpattern": {
             "fillmode": "overlay",
             "size": 10,
             "solidity": 0.2
            },
            "type": "scatter"
           }
          ],
          "scatter3d": [
           {
            "line": {
             "colorbar": {
              "outlinewidth": 0,
              "ticks": ""
             }
            },
            "marker": {
             "colorbar": {
              "outlinewidth": 0,
              "ticks": ""
             }
            },
            "type": "scatter3d"
           }
          ],
          "scattercarpet": [
           {
            "marker": {
             "colorbar": {
              "outlinewidth": 0,
              "ticks": ""
             }
            },
            "type": "scattercarpet"
           }
          ],
          "scattergeo": [
           {
            "marker": {
             "colorbar": {
              "outlinewidth": 0,
              "ticks": ""
             }
            },
            "type": "scattergeo"
           }
          ],
          "scattergl": [
           {
            "marker": {
             "colorbar": {
              "outlinewidth": 0,
              "ticks": ""
             }
            },
            "type": "scattergl"
           }
          ],
          "scattermapbox": [
           {
            "marker": {
             "colorbar": {
              "outlinewidth": 0,
              "ticks": ""
             }
            },
            "type": "scattermapbox"
           }
          ],
          "scatterpolar": [
           {
            "marker": {
             "colorbar": {
              "outlinewidth": 0,
              "ticks": ""
             }
            },
            "type": "scatterpolar"
           }
          ],
          "scatterpolargl": [
           {
            "marker": {
             "colorbar": {
              "outlinewidth": 0,
              "ticks": ""
             }
            },
            "type": "scatterpolargl"
           }
          ],
          "scatterternary": [
           {
            "marker": {
             "colorbar": {
              "outlinewidth": 0,
              "ticks": ""
             }
            },
            "type": "scatterternary"
           }
          ],
          "surface": [
           {
            "colorbar": {
             "outlinewidth": 0,
             "ticks": ""
            },
            "colorscale": [
             [
              0,
              "#0d0887"
             ],
             [
              0.1111111111111111,
              "#46039f"
             ],
             [
              0.2222222222222222,
              "#7201a8"
             ],
             [
              0.3333333333333333,
              "#9c179e"
             ],
             [
              0.4444444444444444,
              "#bd3786"
             ],
             [
              0.5555555555555556,
              "#d8576b"
             ],
             [
              0.6666666666666666,
              "#ed7953"
             ],
             [
              0.7777777777777778,
              "#fb9f3a"
             ],
             [
              0.8888888888888888,
              "#fdca26"
             ],
             [
              1,
              "#f0f921"
             ]
            ],
            "type": "surface"
           }
          ],
          "table": [
           {
            "cells": {
             "fill": {
              "color": "#EBF0F8"
             },
             "line": {
              "color": "white"
             }
            },
            "header": {
             "fill": {
              "color": "#C8D4E3"
             },
             "line": {
              "color": "white"
             }
            },
            "type": "table"
           }
          ]
         },
         "layout": {
          "annotationdefaults": {
           "arrowcolor": "#2a3f5f",
           "arrowhead": 0,
           "arrowwidth": 1
          },
          "autotypenumbers": "strict",
          "coloraxis": {
           "colorbar": {
            "outlinewidth": 0,
            "ticks": ""
           }
          },
          "colorscale": {
           "diverging": [
            [
             0,
             "#8e0152"
            ],
            [
             0.1,
             "#c51b7d"
            ],
            [
             0.2,
             "#de77ae"
            ],
            [
             0.3,
             "#f1b6da"
            ],
            [
             0.4,
             "#fde0ef"
            ],
            [
             0.5,
             "#f7f7f7"
            ],
            [
             0.6,
             "#e6f5d0"
            ],
            [
             0.7,
             "#b8e186"
            ],
            [
             0.8,
             "#7fbc41"
            ],
            [
             0.9,
             "#4d9221"
            ],
            [
             1,
             "#276419"
            ]
           ],
           "sequential": [
            [
             0,
             "#0d0887"
            ],
            [
             0.1111111111111111,
             "#46039f"
            ],
            [
             0.2222222222222222,
             "#7201a8"
            ],
            [
             0.3333333333333333,
             "#9c179e"
            ],
            [
             0.4444444444444444,
             "#bd3786"
            ],
            [
             0.5555555555555556,
             "#d8576b"
            ],
            [
             0.6666666666666666,
             "#ed7953"
            ],
            [
             0.7777777777777778,
             "#fb9f3a"
            ],
            [
             0.8888888888888888,
             "#fdca26"
            ],
            [
             1,
             "#f0f921"
            ]
           ],
           "sequentialminus": [
            [
             0,
             "#0d0887"
            ],
            [
             0.1111111111111111,
             "#46039f"
            ],
            [
             0.2222222222222222,
             "#7201a8"
            ],
            [
             0.3333333333333333,
             "#9c179e"
            ],
            [
             0.4444444444444444,
             "#bd3786"
            ],
            [
             0.5555555555555556,
             "#d8576b"
            ],
            [
             0.6666666666666666,
             "#ed7953"
            ],
            [
             0.7777777777777778,
             "#fb9f3a"
            ],
            [
             0.8888888888888888,
             "#fdca26"
            ],
            [
             1,
             "#f0f921"
            ]
           ]
          },
          "colorway": [
           "#636efa",
           "#EF553B",
           "#00cc96",
           "#ab63fa",
           "#FFA15A",
           "#19d3f3",
           "#FF6692",
           "#B6E880",
           "#FF97FF",
           "#FECB52"
          ],
          "font": {
           "color": "#2a3f5f"
          },
          "geo": {
           "bgcolor": "white",
           "lakecolor": "white",
           "landcolor": "#E5ECF6",
           "showlakes": true,
           "showland": true,
           "subunitcolor": "white"
          },
          "hoverlabel": {
           "align": "left"
          },
          "hovermode": "closest",
          "mapbox": {
           "style": "light"
          },
          "paper_bgcolor": "white",
          "plot_bgcolor": "#E5ECF6",
          "polar": {
           "angularaxis": {
            "gridcolor": "white",
            "linecolor": "white",
            "ticks": ""
           },
           "bgcolor": "#E5ECF6",
           "radialaxis": {
            "gridcolor": "white",
            "linecolor": "white",
            "ticks": ""
           }
          },
          "scene": {
           "xaxis": {
            "backgroundcolor": "#E5ECF6",
            "gridcolor": "white",
            "gridwidth": 2,
            "linecolor": "white",
            "showbackground": true,
            "ticks": "",
            "zerolinecolor": "white"
           },
           "yaxis": {
            "backgroundcolor": "#E5ECF6",
            "gridcolor": "white",
            "gridwidth": 2,
            "linecolor": "white",
            "showbackground": true,
            "ticks": "",
            "zerolinecolor": "white"
           },
           "zaxis": {
            "backgroundcolor": "#E5ECF6",
            "gridcolor": "white",
            "gridwidth": 2,
            "linecolor": "white",
            "showbackground": true,
            "ticks": "",
            "zerolinecolor": "white"
           }
          },
          "shapedefaults": {
           "line": {
            "color": "#2a3f5f"
           }
          },
          "ternary": {
           "aaxis": {
            "gridcolor": "white",
            "linecolor": "white",
            "ticks": ""
           },
           "baxis": {
            "gridcolor": "white",
            "linecolor": "white",
            "ticks": ""
           },
           "bgcolor": "#E5ECF6",
           "caxis": {
            "gridcolor": "white",
            "linecolor": "white",
            "ticks": ""
           }
          },
          "title": {
           "x": 0.05
          },
          "xaxis": {
           "automargin": true,
           "gridcolor": "white",
           "linecolor": "white",
           "ticks": "",
           "title": {
            "standoff": 15
           },
           "zerolinecolor": "white",
           "zerolinewidth": 2
          },
          "yaxis": {
           "automargin": true,
           "gridcolor": "white",
           "linecolor": "white",
           "ticks": "",
           "title": {
            "standoff": 15
           },
           "zerolinecolor": "white",
           "zerolinewidth": 2
          }
         }
        },
        "xaxis": {
         "anchor": "y",
         "domain": [
          0,
          1
         ],
         "title": {
          "text": "index"
         }
        },
        "yaxis": {
         "anchor": "x",
         "domain": [
          0,
          1
         ],
         "title": {
          "text": "Electricity flow in MWh"
         }
        }
       }
      },
      "text/html": [
       "<div>                            <div id=\"adb482a5-b351-4b77-81fc-4c337ed0c0a2\" class=\"plotly-graph-div\" style=\"height:525px; width:100%;\"></div>            <script type=\"text/javascript\">                require([\"plotly\"], function(Plotly) {                    window.PLOTLYENV=window.PLOTLYENV || {};                                    if (document.getElementById(\"adb482a5-b351-4b77-81fc-4c337ed0c0a2\")) {                    Plotly.newPlot(                        \"adb482a5-b351-4b77-81fc-4c337ed0c0a2\",                        [{\"alignmentgroup\":\"True\",\"hovertemplate\":\"=Net flow<br>index=%{x}<br>Electricity flow in MWh=%{y}<extra></extra>\",\"legendgroup\":\"Net flow\",\"marker\":{\"color\":\"#636efa\",\"pattern\":{\"shape\":\"\"}},\"name\":\"Net flow\",\"offsetgroup\":\"Net flow\",\"orientation\":\"v\",\"showlegend\":true,\"textposition\":\"auto\",\"x\":[\"2022-02-01T00:00:00+00:00\",\"2022-03-01T00:00:00+00:00\",\"2022-04-01T00:00:00+00:00\",\"2022-05-01T00:00:00+00:00\",\"2022-06-01T00:00:00+00:00\",\"2022-07-01T00:00:00+00:00\",\"2022-08-01T00:00:00+00:00\",\"2022-09-01T00:00:00+00:00\",\"2022-10-01T00:00:00+00:00\",\"2022-11-01T00:00:00+00:00\",\"2022-12-01T00:00:00+00:00\",\"2023-01-01T00:00:00+00:00\",\"2023-02-01T00:00:00+00:00\",\"2023-03-01T00:00:00+00:00\"],\"xaxis\":\"x\",\"y\":[322134.0,2955.0,119177.0,202247.0,251259.0,437743.0,545339.0,458218.0,148638.0,-39073.0,-23257.0,-89297.0,-126818.0,25506.0],\"yaxis\":\"y\",\"type\":\"bar\"}],                        {\"template\":{\"data\":{\"histogram2dcontour\":[{\"type\":\"histogram2dcontour\",\"colorbar\":{\"outlinewidth\":0,\"ticks\":\"\"},\"colorscale\":[[0.0,\"#0d0887\"],[0.1111111111111111,\"#46039f\"],[0.2222222222222222,\"#7201a8\"],[0.3333333333333333,\"#9c179e\"],[0.4444444444444444,\"#bd3786\"],[0.5555555555555556,\"#d8576b\"],[0.6666666666666666,\"#ed7953\"],[0.7777777777777778,\"#fb9f3a\"],[0.8888888888888888,\"#fdca26\"],[1.0,\"#f0f921\"]]}],\"choropleth\":[{\"type\":\"choropleth\",\"colorbar\":{\"outlinewidth\":0,\"ticks\":\"\"}}],\"histogram2d\":[{\"type\":\"histogram2d\",\"colorbar\":{\"outlinewidth\":0,\"ticks\":\"\"},\"colorscale\":[[0.0,\"#0d0887\"],[0.1111111111111111,\"#46039f\"],[0.2222222222222222,\"#7201a8\"],[0.3333333333333333,\"#9c179e\"],[0.4444444444444444,\"#bd3786\"],[0.5555555555555556,\"#d8576b\"],[0.6666666666666666,\"#ed7953\"],[0.7777777777777778,\"#fb9f3a\"],[0.8888888888888888,\"#fdca26\"],[1.0,\"#f0f921\"]]}],\"heatmap\":[{\"type\":\"heatmap\",\"colorbar\":{\"outlinewidth\":0,\"ticks\":\"\"},\"colorscale\":[[0.0,\"#0d0887\"],[0.1111111111111111,\"#46039f\"],[0.2222222222222222,\"#7201a8\"],[0.3333333333333333,\"#9c179e\"],[0.4444444444444444,\"#bd3786\"],[0.5555555555555556,\"#d8576b\"],[0.6666666666666666,\"#ed7953\"],[0.7777777777777778,\"#fb9f3a\"],[0.8888888888888888,\"#fdca26\"],[1.0,\"#f0f921\"]]}],\"heatmapgl\":[{\"type\":\"heatmapgl\",\"colorbar\":{\"outlinewidth\":0,\"ticks\":\"\"},\"colorscale\":[[0.0,\"#0d0887\"],[0.1111111111111111,\"#46039f\"],[0.2222222222222222,\"#7201a8\"],[0.3333333333333333,\"#9c179e\"],[0.4444444444444444,\"#bd3786\"],[0.5555555555555556,\"#d8576b\"],[0.6666666666666666,\"#ed7953\"],[0.7777777777777778,\"#fb9f3a\"],[0.8888888888888888,\"#fdca26\"],[1.0,\"#f0f921\"]]}],\"contourcarpet\":[{\"type\":\"contourcarpet\",\"colorbar\":{\"outlinewidth\":0,\"ticks\":\"\"}}],\"contour\":[{\"type\":\"contour\",\"colorbar\":{\"outlinewidth\":0,\"ticks\":\"\"},\"colorscale\":[[0.0,\"#0d0887\"],[0.1111111111111111,\"#46039f\"],[0.2222222222222222,\"#7201a8\"],[0.3333333333333333,\"#9c179e\"],[0.4444444444444444,\"#bd3786\"],[0.5555555555555556,\"#d8576b\"],[0.6666666666666666,\"#ed7953\"],[0.7777777777777778,\"#fb9f3a\"],[0.8888888888888888,\"#fdca26\"],[1.0,\"#f0f921\"]]}],\"surface\":[{\"type\":\"surface\",\"colorbar\":{\"outlinewidth\":0,\"ticks\":\"\"},\"colorscale\":[[0.0,\"#0d0887\"],[0.1111111111111111,\"#46039f\"],[0.2222222222222222,\"#7201a8\"],[0.3333333333333333,\"#9c179e\"],[0.4444444444444444,\"#bd3786\"],[0.5555555555555556,\"#d8576b\"],[0.6666666666666666,\"#ed7953\"],[0.7777777777777778,\"#fb9f3a\"],[0.8888888888888888,\"#fdca26\"],[1.0,\"#f0f921\"]]}],\"mesh3d\":[{\"type\":\"mesh3d\",\"colorbar\":{\"outlinewidth\":0,\"ticks\":\"\"}}],\"scatter\":[{\"fillpattern\":{\"fillmode\":\"overlay\",\"size\":10,\"solidity\":0.2},\"type\":\"scatter\"}],\"parcoords\":[{\"type\":\"parcoords\",\"line\":{\"colorbar\":{\"outlinewidth\":0,\"ticks\":\"\"}}}],\"scatterpolargl\":[{\"type\":\"scatterpolargl\",\"marker\":{\"colorbar\":{\"outlinewidth\":0,\"ticks\":\"\"}}}],\"bar\":[{\"error_x\":{\"color\":\"#2a3f5f\"},\"error_y\":{\"color\":\"#2a3f5f\"},\"marker\":{\"line\":{\"color\":\"#E5ECF6\",\"width\":0.5},\"pattern\":{\"fillmode\":\"overlay\",\"size\":10,\"solidity\":0.2}},\"type\":\"bar\"}],\"scattergeo\":[{\"type\":\"scattergeo\",\"marker\":{\"colorbar\":{\"outlinewidth\":0,\"ticks\":\"\"}}}],\"scatterpolar\":[{\"type\":\"scatterpolar\",\"marker\":{\"colorbar\":{\"outlinewidth\":0,\"ticks\":\"\"}}}],\"histogram\":[{\"marker\":{\"pattern\":{\"fillmode\":\"overlay\",\"size\":10,\"solidity\":0.2}},\"type\":\"histogram\"}],\"scattergl\":[{\"type\":\"scattergl\",\"marker\":{\"colorbar\":{\"outlinewidth\":0,\"ticks\":\"\"}}}],\"scatter3d\":[{\"type\":\"scatter3d\",\"line\":{\"colorbar\":{\"outlinewidth\":0,\"ticks\":\"\"}},\"marker\":{\"colorbar\":{\"outlinewidth\":0,\"ticks\":\"\"}}}],\"scattermapbox\":[{\"type\":\"scattermapbox\",\"marker\":{\"colorbar\":{\"outlinewidth\":0,\"ticks\":\"\"}}}],\"scatterternary\":[{\"type\":\"scatterternary\",\"marker\":{\"colorbar\":{\"outlinewidth\":0,\"ticks\":\"\"}}}],\"scattercarpet\":[{\"type\":\"scattercarpet\",\"marker\":{\"colorbar\":{\"outlinewidth\":0,\"ticks\":\"\"}}}],\"carpet\":[{\"aaxis\":{\"endlinecolor\":\"#2a3f5f\",\"gridcolor\":\"white\",\"linecolor\":\"white\",\"minorgridcolor\":\"white\",\"startlinecolor\":\"#2a3f5f\"},\"baxis\":{\"endlinecolor\":\"#2a3f5f\",\"gridcolor\":\"white\",\"linecolor\":\"white\",\"minorgridcolor\":\"white\",\"startlinecolor\":\"#2a3f5f\"},\"type\":\"carpet\"}],\"table\":[{\"cells\":{\"fill\":{\"color\":\"#EBF0F8\"},\"line\":{\"color\":\"white\"}},\"header\":{\"fill\":{\"color\":\"#C8D4E3\"},\"line\":{\"color\":\"white\"}},\"type\":\"table\"}],\"barpolar\":[{\"marker\":{\"line\":{\"color\":\"#E5ECF6\",\"width\":0.5},\"pattern\":{\"fillmode\":\"overlay\",\"size\":10,\"solidity\":0.2}},\"type\":\"barpolar\"}],\"pie\":[{\"automargin\":true,\"type\":\"pie\"}]},\"layout\":{\"autotypenumbers\":\"strict\",\"colorway\":[\"#636efa\",\"#EF553B\",\"#00cc96\",\"#ab63fa\",\"#FFA15A\",\"#19d3f3\",\"#FF6692\",\"#B6E880\",\"#FF97FF\",\"#FECB52\"],\"font\":{\"color\":\"#2a3f5f\"},\"hovermode\":\"closest\",\"hoverlabel\":{\"align\":\"left\"},\"paper_bgcolor\":\"white\",\"plot_bgcolor\":\"#E5ECF6\",\"polar\":{\"bgcolor\":\"#E5ECF6\",\"angularaxis\":{\"gridcolor\":\"white\",\"linecolor\":\"white\",\"ticks\":\"\"},\"radialaxis\":{\"gridcolor\":\"white\",\"linecolor\":\"white\",\"ticks\":\"\"}},\"ternary\":{\"bgcolor\":\"#E5ECF6\",\"aaxis\":{\"gridcolor\":\"white\",\"linecolor\":\"white\",\"ticks\":\"\"},\"baxis\":{\"gridcolor\":\"white\",\"linecolor\":\"white\",\"ticks\":\"\"},\"caxis\":{\"gridcolor\":\"white\",\"linecolor\":\"white\",\"ticks\":\"\"}},\"coloraxis\":{\"colorbar\":{\"outlinewidth\":0,\"ticks\":\"\"}},\"colorscale\":{\"sequential\":[[0.0,\"#0d0887\"],[0.1111111111111111,\"#46039f\"],[0.2222222222222222,\"#7201a8\"],[0.3333333333333333,\"#9c179e\"],[0.4444444444444444,\"#bd3786\"],[0.5555555555555556,\"#d8576b\"],[0.6666666666666666,\"#ed7953\"],[0.7777777777777778,\"#fb9f3a\"],[0.8888888888888888,\"#fdca26\"],[1.0,\"#f0f921\"]],\"sequentialminus\":[[0.0,\"#0d0887\"],[0.1111111111111111,\"#46039f\"],[0.2222222222222222,\"#7201a8\"],[0.3333333333333333,\"#9c179e\"],[0.4444444444444444,\"#bd3786\"],[0.5555555555555556,\"#d8576b\"],[0.6666666666666666,\"#ed7953\"],[0.7777777777777778,\"#fb9f3a\"],[0.8888888888888888,\"#fdca26\"],[1.0,\"#f0f921\"]],\"diverging\":[[0,\"#8e0152\"],[0.1,\"#c51b7d\"],[0.2,\"#de77ae\"],[0.3,\"#f1b6da\"],[0.4,\"#fde0ef\"],[0.5,\"#f7f7f7\"],[0.6,\"#e6f5d0\"],[0.7,\"#b8e186\"],[0.8,\"#7fbc41\"],[0.9,\"#4d9221\"],[1,\"#276419\"]]},\"xaxis\":{\"gridcolor\":\"white\",\"linecolor\":\"white\",\"ticks\":\"\",\"title\":{\"standoff\":15},\"zerolinecolor\":\"white\",\"automargin\":true,\"zerolinewidth\":2},\"yaxis\":{\"gridcolor\":\"white\",\"linecolor\":\"white\",\"ticks\":\"\",\"title\":{\"standoff\":15},\"zerolinecolor\":\"white\",\"automargin\":true,\"zerolinewidth\":2},\"scene\":{\"xaxis\":{\"backgroundcolor\":\"#E5ECF6\",\"gridcolor\":\"white\",\"linecolor\":\"white\",\"showbackground\":true,\"ticks\":\"\",\"zerolinecolor\":\"white\",\"gridwidth\":2},\"yaxis\":{\"backgroundcolor\":\"#E5ECF6\",\"gridcolor\":\"white\",\"linecolor\":\"white\",\"showbackground\":true,\"ticks\":\"\",\"zerolinecolor\":\"white\",\"gridwidth\":2},\"zaxis\":{\"backgroundcolor\":\"#E5ECF6\",\"gridcolor\":\"white\",\"linecolor\":\"white\",\"showbackground\":true,\"ticks\":\"\",\"zerolinecolor\":\"white\",\"gridwidth\":2}},\"shapedefaults\":{\"line\":{\"color\":\"#2a3f5f\"}},\"annotationdefaults\":{\"arrowcolor\":\"#2a3f5f\",\"arrowhead\":0,\"arrowwidth\":1},\"geo\":{\"bgcolor\":\"white\",\"landcolor\":\"#E5ECF6\",\"subunitcolor\":\"white\",\"showland\":true,\"showlakes\":true,\"lakecolor\":\"white\"},\"title\":{\"x\":0.05},\"mapbox\":{\"style\":\"light\"}}},\"xaxis\":{\"anchor\":\"y\",\"domain\":[0.0,1.0],\"title\":{\"text\":\"index\"}},\"yaxis\":{\"anchor\":\"x\",\"domain\":[0.0,1.0],\"title\":{\"text\":\"Electricity flow in MWh\"}},\"legend\":{\"title\":{\"text\":\"\"},\"tracegroupgap\":0},\"margin\":{\"t\":0,\"l\":0,\"r\":0,\"b\":0,\"pad\":0},\"barmode\":\"relative\",\"autosize\":true,\"annotations\":[{\"arrowhead\":1,\"showarrow\":true,\"text\":\"10.10.22: Campaign against energy infrastructure begins\",\"x\":\"2022-10-10T00:00:00\",\"y\":150000.0}],\"showlegend\":false},                        {\"responsive\": true}                    ).then(function(){\n",
       "                            \n",
       "var gd = document.getElementById('adb482a5-b351-4b77-81fc-4c337ed0c0a2');\n",
       "var x = new MutationObserver(function (mutations, observer) {{\n",
       "        var display = window.getComputedStyle(gd).display;\n",
       "        if (!display || display === 'none') {{\n",
       "            console.log([gd, 'removed!']);\n",
       "            Plotly.purge(gd);\n",
       "            observer.disconnect();\n",
       "        }}\n",
       "}});\n",
       "\n",
       "// Listen for the removal of the full notebook cells\n",
       "var notebookContainer = gd.closest('#notebook-container');\n",
       "if (notebookContainer) {{\n",
       "    x.observe(notebookContainer, {childList: true});\n",
       "}}\n",
       "\n",
       "// Listen for the clearing of the current output cell\n",
       "var outputEl = gd.closest('.output');\n",
       "if (outputEl) {{\n",
       "    x.observe(outputEl, {childList: true});\n",
       "}}\n",
       "\n",
       "                        })                };                });            </script>        </div>"
      ]
     },
     "metadata": {},
     "output_type": "display_data"
    }
   ],
   "source": [
    "fig = px.bar(\n",
    "    pd.DataFrame({\n",
    "        'Net flow': ukraine_net.apply(sum, axis=1).resample('MS').sum(),\n",
    "    }),\n",
    "    #title='Net electricity flows of Ukraine to neighboring countries',\n",
    "    labels={'value': 'Electricity flow in MWh', 'variable': ''},\n",
    "    #category_orders={'variable': ['Net flows']},\n",
    ")\n",
    "fig.update_layout(**plotly_config)\n",
    "fig.add_annotation( # add a text callout with arrow\n",
    "    text=\"10.10.22: Campaign against energy infrastructure begins\",\n",
    "    x=pd.to_datetime('2022-10-10'), y=1.5 * 10e4,\n",
    "    arrowhead=1, showarrow=True\n",
    ")\n",
    "fig.update_layout(showlegend=False)"
   ]
  },
  {
   "cell_type": "code",
   "execution_count": 79,
   "id": "ff580b52",
   "metadata": {},
   "outputs": [
    {
     "data": {
      "application/vnd.plotly.v1+json": {
       "config": {
        "plotlyServerURL": "https://plot.ly"
       },
       "data": [
        {
         "alignmentgroup": "True",
         "hovertemplate": "Flow direction=Imports<br>=%{x}<br>Monthly electricity flow in MWh=%{y}<extra></extra>",
         "legendgroup": "Imports",
         "marker": {
          "color": "#636efa",
          "pattern": {
           "shape": ""
          }
         },
         "name": "Imports",
         "offsetgroup": "Imports",
         "orientation": "v",
         "showlegend": true,
         "textposition": "auto",
         "type": "bar",
         "x": [
          "2022-02-01T00:00:00+00:00",
          "2022-03-01T00:00:00+00:00",
          "2022-04-01T00:00:00+00:00",
          "2022-05-01T00:00:00+00:00",
          "2022-06-01T00:00:00+00:00",
          "2022-07-01T00:00:00+00:00",
          "2022-08-01T00:00:00+00:00",
          "2022-09-01T00:00:00+00:00",
          "2022-10-01T00:00:00+00:00",
          "2022-11-01T00:00:00+00:00",
          "2022-12-01T00:00:00+00:00",
          "2023-01-01T00:00:00+00:00",
          "2023-02-01T00:00:00+00:00",
          "2023-03-01T00:00:00+00:00"
         ],
         "xaxis": "x",
         "y": [
          -281986,
          -361151,
          -403880,
          -223087,
          -217042,
          -118201,
          -90706,
          -140840,
          -343652,
          -365873,
          -446350,
          -521789,
          -500572,
          -381971
         ],
         "yaxis": "y"
        },
        {
         "alignmentgroup": "True",
         "hovertemplate": "Flow direction=Exports<br>=%{x}<br>Monthly electricity flow in MWh=%{y}<extra></extra>",
         "legendgroup": "Exports",
         "marker": {
          "color": "#EF553B",
          "pattern": {
           "shape": ""
          }
         },
         "name": "Exports",
         "offsetgroup": "Exports",
         "orientation": "v",
         "showlegend": true,
         "textposition": "auto",
         "type": "bar",
         "x": [
          "2022-02-01T00:00:00+00:00",
          "2022-03-01T00:00:00+00:00",
          "2022-04-01T00:00:00+00:00",
          "2022-05-01T00:00:00+00:00",
          "2022-06-01T00:00:00+00:00",
          "2022-07-01T00:00:00+00:00",
          "2022-08-01T00:00:00+00:00",
          "2022-09-01T00:00:00+00:00",
          "2022-10-01T00:00:00+00:00",
          "2022-11-01T00:00:00+00:00",
          "2022-12-01T00:00:00+00:00",
          "2023-01-01T00:00:00+00:00",
          "2023-02-01T00:00:00+00:00",
          "2023-03-01T00:00:00+00:00"
         ],
         "xaxis": "x",
         "y": [
          604120,
          364106,
          523057,
          425334,
          468301,
          555944,
          636045,
          599058,
          492290,
          326800,
          423093,
          432492,
          373754,
          407477
         ],
         "yaxis": "y"
        },
        {
         "name": "Net",
         "type": "scatter",
         "x": [
          "2022-02-01T00:00:00+00:00",
          "2022-03-01T00:00:00+00:00",
          "2022-04-01T00:00:00+00:00",
          "2022-05-01T00:00:00+00:00",
          "2022-06-01T00:00:00+00:00",
          "2022-07-01T00:00:00+00:00",
          "2022-08-01T00:00:00+00:00",
          "2022-09-01T00:00:00+00:00",
          "2022-10-01T00:00:00+00:00",
          "2022-11-01T00:00:00+00:00",
          "2022-12-01T00:00:00+00:00",
          "2023-01-01T00:00:00+00:00",
          "2023-02-01T00:00:00+00:00",
          "2023-03-01T00:00:00+00:00"
         ],
         "y": [
          322134,
          2955,
          119177,
          202247,
          251259,
          437743,
          545339,
          458218,
          148638,
          -39073,
          -23257,
          -89297,
          -126818,
          25506
         ]
        }
       ],
       "layout": {
        "annotations": [
         {
          "arrowhead": 1,
          "ax": -100,
          "axref": "x domain",
          "ay": -459999.99999999994,
          "ayref": "y",
          "showarrow": true,
          "text": "10.10.22: Campaign against energy infrastructure begins",
          "x": "2022-10-10T00:00:00",
          "y": -100000
         }
        ],
        "autosize": true,
        "barmode": "relative",
        "legend": {
         "title": {
          "text": "Flow direction"
         },
         "tracegroupgap": 0,
         "x": 0.9,
         "xanchor": "center",
         "y": 0.99,
         "yanchor": "top"
        },
        "margin": {
         "b": 0,
         "l": 0,
         "pad": 0,
         "r": 0,
         "t": 0
        },
        "template": {
         "data": {
          "bar": [
           {
            "error_x": {
             "color": "#2a3f5f"
            },
            "error_y": {
             "color": "#2a3f5f"
            },
            "marker": {
             "line": {
              "color": "#E5ECF6",
              "width": 0.5
             },
             "pattern": {
              "fillmode": "overlay",
              "size": 10,
              "solidity": 0.2
             }
            },
            "type": "bar"
           }
          ],
          "barpolar": [
           {
            "marker": {
             "line": {
              "color": "#E5ECF6",
              "width": 0.5
             },
             "pattern": {
              "fillmode": "overlay",
              "size": 10,
              "solidity": 0.2
             }
            },
            "type": "barpolar"
           }
          ],
          "carpet": [
           {
            "aaxis": {
             "endlinecolor": "#2a3f5f",
             "gridcolor": "white",
             "linecolor": "white",
             "minorgridcolor": "white",
             "startlinecolor": "#2a3f5f"
            },
            "baxis": {
             "endlinecolor": "#2a3f5f",
             "gridcolor": "white",
             "linecolor": "white",
             "minorgridcolor": "white",
             "startlinecolor": "#2a3f5f"
            },
            "type": "carpet"
           }
          ],
          "choropleth": [
           {
            "colorbar": {
             "outlinewidth": 0,
             "ticks": ""
            },
            "type": "choropleth"
           }
          ],
          "contour": [
           {
            "colorbar": {
             "outlinewidth": 0,
             "ticks": ""
            },
            "colorscale": [
             [
              0,
              "#0d0887"
             ],
             [
              0.1111111111111111,
              "#46039f"
             ],
             [
              0.2222222222222222,
              "#7201a8"
             ],
             [
              0.3333333333333333,
              "#9c179e"
             ],
             [
              0.4444444444444444,
              "#bd3786"
             ],
             [
              0.5555555555555556,
              "#d8576b"
             ],
             [
              0.6666666666666666,
              "#ed7953"
             ],
             [
              0.7777777777777778,
              "#fb9f3a"
             ],
             [
              0.8888888888888888,
              "#fdca26"
             ],
             [
              1,
              "#f0f921"
             ]
            ],
            "type": "contour"
           }
          ],
          "contourcarpet": [
           {
            "colorbar": {
             "outlinewidth": 0,
             "ticks": ""
            },
            "type": "contourcarpet"
           }
          ],
          "heatmap": [
           {
            "colorbar": {
             "outlinewidth": 0,
             "ticks": ""
            },
            "colorscale": [
             [
              0,
              "#0d0887"
             ],
             [
              0.1111111111111111,
              "#46039f"
             ],
             [
              0.2222222222222222,
              "#7201a8"
             ],
             [
              0.3333333333333333,
              "#9c179e"
             ],
             [
              0.4444444444444444,
              "#bd3786"
             ],
             [
              0.5555555555555556,
              "#d8576b"
             ],
             [
              0.6666666666666666,
              "#ed7953"
             ],
             [
              0.7777777777777778,
              "#fb9f3a"
             ],
             [
              0.8888888888888888,
              "#fdca26"
             ],
             [
              1,
              "#f0f921"
             ]
            ],
            "type": "heatmap"
           }
          ],
          "heatmapgl": [
           {
            "colorbar": {
             "outlinewidth": 0,
             "ticks": ""
            },
            "colorscale": [
             [
              0,
              "#0d0887"
             ],
             [
              0.1111111111111111,
              "#46039f"
             ],
             [
              0.2222222222222222,
              "#7201a8"
             ],
             [
              0.3333333333333333,
              "#9c179e"
             ],
             [
              0.4444444444444444,
              "#bd3786"
             ],
             [
              0.5555555555555556,
              "#d8576b"
             ],
             [
              0.6666666666666666,
              "#ed7953"
             ],
             [
              0.7777777777777778,
              "#fb9f3a"
             ],
             [
              0.8888888888888888,
              "#fdca26"
             ],
             [
              1,
              "#f0f921"
             ]
            ],
            "type": "heatmapgl"
           }
          ],
          "histogram": [
           {
            "marker": {
             "pattern": {
              "fillmode": "overlay",
              "size": 10,
              "solidity": 0.2
             }
            },
            "type": "histogram"
           }
          ],
          "histogram2d": [
           {
            "colorbar": {
             "outlinewidth": 0,
             "ticks": ""
            },
            "colorscale": [
             [
              0,
              "#0d0887"
             ],
             [
              0.1111111111111111,
              "#46039f"
             ],
             [
              0.2222222222222222,
              "#7201a8"
             ],
             [
              0.3333333333333333,
              "#9c179e"
             ],
             [
              0.4444444444444444,
              "#bd3786"
             ],
             [
              0.5555555555555556,
              "#d8576b"
             ],
             [
              0.6666666666666666,
              "#ed7953"
             ],
             [
              0.7777777777777778,
              "#fb9f3a"
             ],
             [
              0.8888888888888888,
              "#fdca26"
             ],
             [
              1,
              "#f0f921"
             ]
            ],
            "type": "histogram2d"
           }
          ],
          "histogram2dcontour": [
           {
            "colorbar": {
             "outlinewidth": 0,
             "ticks": ""
            },
            "colorscale": [
             [
              0,
              "#0d0887"
             ],
             [
              0.1111111111111111,
              "#46039f"
             ],
             [
              0.2222222222222222,
              "#7201a8"
             ],
             [
              0.3333333333333333,
              "#9c179e"
             ],
             [
              0.4444444444444444,
              "#bd3786"
             ],
             [
              0.5555555555555556,
              "#d8576b"
             ],
             [
              0.6666666666666666,
              "#ed7953"
             ],
             [
              0.7777777777777778,
              "#fb9f3a"
             ],
             [
              0.8888888888888888,
              "#fdca26"
             ],
             [
              1,
              "#f0f921"
             ]
            ],
            "type": "histogram2dcontour"
           }
          ],
          "mesh3d": [
           {
            "colorbar": {
             "outlinewidth": 0,
             "ticks": ""
            },
            "type": "mesh3d"
           }
          ],
          "parcoords": [
           {
            "line": {
             "colorbar": {
              "outlinewidth": 0,
              "ticks": ""
             }
            },
            "type": "parcoords"
           }
          ],
          "pie": [
           {
            "automargin": true,
            "type": "pie"
           }
          ],
          "scatter": [
           {
            "fillpattern": {
             "fillmode": "overlay",
             "size": 10,
             "solidity": 0.2
            },
            "type": "scatter"
           }
          ],
          "scatter3d": [
           {
            "line": {
             "colorbar": {
              "outlinewidth": 0,
              "ticks": ""
             }
            },
            "marker": {
             "colorbar": {
              "outlinewidth": 0,
              "ticks": ""
             }
            },
            "type": "scatter3d"
           }
          ],
          "scattercarpet": [
           {
            "marker": {
             "colorbar": {
              "outlinewidth": 0,
              "ticks": ""
             }
            },
            "type": "scattercarpet"
           }
          ],
          "scattergeo": [
           {
            "marker": {
             "colorbar": {
              "outlinewidth": 0,
              "ticks": ""
             }
            },
            "type": "scattergeo"
           }
          ],
          "scattergl": [
           {
            "marker": {
             "colorbar": {
              "outlinewidth": 0,
              "ticks": ""
             }
            },
            "type": "scattergl"
           }
          ],
          "scattermapbox": [
           {
            "marker": {
             "colorbar": {
              "outlinewidth": 0,
              "ticks": ""
             }
            },
            "type": "scattermapbox"
           }
          ],
          "scatterpolar": [
           {
            "marker": {
             "colorbar": {
              "outlinewidth": 0,
              "ticks": ""
             }
            },
            "type": "scatterpolar"
           }
          ],
          "scatterpolargl": [
           {
            "marker": {
             "colorbar": {
              "outlinewidth": 0,
              "ticks": ""
             }
            },
            "type": "scatterpolargl"
           }
          ],
          "scatterternary": [
           {
            "marker": {
             "colorbar": {
              "outlinewidth": 0,
              "ticks": ""
             }
            },
            "type": "scatterternary"
           }
          ],
          "surface": [
           {
            "colorbar": {
             "outlinewidth": 0,
             "ticks": ""
            },
            "colorscale": [
             [
              0,
              "#0d0887"
             ],
             [
              0.1111111111111111,
              "#46039f"
             ],
             [
              0.2222222222222222,
              "#7201a8"
             ],
             [
              0.3333333333333333,
              "#9c179e"
             ],
             [
              0.4444444444444444,
              "#bd3786"
             ],
             [
              0.5555555555555556,
              "#d8576b"
             ],
             [
              0.6666666666666666,
              "#ed7953"
             ],
             [
              0.7777777777777778,
              "#fb9f3a"
             ],
             [
              0.8888888888888888,
              "#fdca26"
             ],
             [
              1,
              "#f0f921"
             ]
            ],
            "type": "surface"
           }
          ],
          "table": [
           {
            "cells": {
             "fill": {
              "color": "#EBF0F8"
             },
             "line": {
              "color": "white"
             }
            },
            "header": {
             "fill": {
              "color": "#C8D4E3"
             },
             "line": {
              "color": "white"
             }
            },
            "type": "table"
           }
          ]
         },
         "layout": {
          "annotationdefaults": {
           "arrowcolor": "#2a3f5f",
           "arrowhead": 0,
           "arrowwidth": 1
          },
          "autotypenumbers": "strict",
          "coloraxis": {
           "colorbar": {
            "outlinewidth": 0,
            "ticks": ""
           }
          },
          "colorscale": {
           "diverging": [
            [
             0,
             "#8e0152"
            ],
            [
             0.1,
             "#c51b7d"
            ],
            [
             0.2,
             "#de77ae"
            ],
            [
             0.3,
             "#f1b6da"
            ],
            [
             0.4,
             "#fde0ef"
            ],
            [
             0.5,
             "#f7f7f7"
            ],
            [
             0.6,
             "#e6f5d0"
            ],
            [
             0.7,
             "#b8e186"
            ],
            [
             0.8,
             "#7fbc41"
            ],
            [
             0.9,
             "#4d9221"
            ],
            [
             1,
             "#276419"
            ]
           ],
           "sequential": [
            [
             0,
             "#0d0887"
            ],
            [
             0.1111111111111111,
             "#46039f"
            ],
            [
             0.2222222222222222,
             "#7201a8"
            ],
            [
             0.3333333333333333,
             "#9c179e"
            ],
            [
             0.4444444444444444,
             "#bd3786"
            ],
            [
             0.5555555555555556,
             "#d8576b"
            ],
            [
             0.6666666666666666,
             "#ed7953"
            ],
            [
             0.7777777777777778,
             "#fb9f3a"
            ],
            [
             0.8888888888888888,
             "#fdca26"
            ],
            [
             1,
             "#f0f921"
            ]
           ],
           "sequentialminus": [
            [
             0,
             "#0d0887"
            ],
            [
             0.1111111111111111,
             "#46039f"
            ],
            [
             0.2222222222222222,
             "#7201a8"
            ],
            [
             0.3333333333333333,
             "#9c179e"
            ],
            [
             0.4444444444444444,
             "#bd3786"
            ],
            [
             0.5555555555555556,
             "#d8576b"
            ],
            [
             0.6666666666666666,
             "#ed7953"
            ],
            [
             0.7777777777777778,
             "#fb9f3a"
            ],
            [
             0.8888888888888888,
             "#fdca26"
            ],
            [
             1,
             "#f0f921"
            ]
           ]
          },
          "colorway": [
           "#636efa",
           "#EF553B",
           "#00cc96",
           "#ab63fa",
           "#FFA15A",
           "#19d3f3",
           "#FF6692",
           "#B6E880",
           "#FF97FF",
           "#FECB52"
          ],
          "font": {
           "color": "#2a3f5f"
          },
          "geo": {
           "bgcolor": "white",
           "lakecolor": "white",
           "landcolor": "#E5ECF6",
           "showlakes": true,
           "showland": true,
           "subunitcolor": "white"
          },
          "hoverlabel": {
           "align": "left"
          },
          "hovermode": "closest",
          "mapbox": {
           "style": "light"
          },
          "paper_bgcolor": "white",
          "plot_bgcolor": "#E5ECF6",
          "polar": {
           "angularaxis": {
            "gridcolor": "white",
            "linecolor": "white",
            "ticks": ""
           },
           "bgcolor": "#E5ECF6",
           "radialaxis": {
            "gridcolor": "white",
            "linecolor": "white",
            "ticks": ""
           }
          },
          "scene": {
           "xaxis": {
            "backgroundcolor": "#E5ECF6",
            "gridcolor": "white",
            "gridwidth": 2,
            "linecolor": "white",
            "showbackground": true,
            "ticks": "",
            "zerolinecolor": "white"
           },
           "yaxis": {
            "backgroundcolor": "#E5ECF6",
            "gridcolor": "white",
            "gridwidth": 2,
            "linecolor": "white",
            "showbackground": true,
            "ticks": "",
            "zerolinecolor": "white"
           },
           "zaxis": {
            "backgroundcolor": "#E5ECF6",
            "gridcolor": "white",
            "gridwidth": 2,
            "linecolor": "white",
            "showbackground": true,
            "ticks": "",
            "zerolinecolor": "white"
           }
          },
          "shapedefaults": {
           "line": {
            "color": "#2a3f5f"
           }
          },
          "ternary": {
           "aaxis": {
            "gridcolor": "white",
            "linecolor": "white",
            "ticks": ""
           },
           "baxis": {
            "gridcolor": "white",
            "linecolor": "white",
            "ticks": ""
           },
           "bgcolor": "#E5ECF6",
           "caxis": {
            "gridcolor": "white",
            "linecolor": "white",
            "ticks": ""
           }
          },
          "title": {
           "x": 0.05
          },
          "xaxis": {
           "automargin": true,
           "gridcolor": "white",
           "linecolor": "white",
           "ticks": "",
           "title": {
            "standoff": 15
           },
           "zerolinecolor": "white",
           "zerolinewidth": 2
          },
          "yaxis": {
           "automargin": true,
           "gridcolor": "white",
           "linecolor": "white",
           "ticks": "",
           "title": {
            "standoff": 15
           },
           "zerolinecolor": "white",
           "zerolinewidth": 2
          }
         }
        },
        "xaxis": {
         "anchor": "y",
         "domain": [
          0,
          1
         ],
         "title": {
          "text": ""
         }
        },
        "yaxis": {
         "anchor": "x",
         "domain": [
          0,
          1
         ],
         "title": {
          "text": "Monthly electricity flow in MWh"
         }
        }
       }
      },
      "text/html": [
       "<div>                            <div id=\"75787178-f120-4c66-b718-f59fae182367\" class=\"plotly-graph-div\" style=\"height:525px; width:100%;\"></div>            <script type=\"text/javascript\">                require([\"plotly\"], function(Plotly) {                    window.PLOTLYENV=window.PLOTLYENV || {};                                    if (document.getElementById(\"75787178-f120-4c66-b718-f59fae182367\")) {                    Plotly.newPlot(                        \"75787178-f120-4c66-b718-f59fae182367\",                        [{\"alignmentgroup\":\"True\",\"hovertemplate\":\"Flow direction=Imports<br>=%{x}<br>Monthly electricity flow in MWh=%{y}<extra></extra>\",\"legendgroup\":\"Imports\",\"marker\":{\"color\":\"#636efa\",\"pattern\":{\"shape\":\"\"}},\"name\":\"Imports\",\"offsetgroup\":\"Imports\",\"orientation\":\"v\",\"showlegend\":true,\"textposition\":\"auto\",\"x\":[\"2022-02-01T00:00:00+00:00\",\"2022-03-01T00:00:00+00:00\",\"2022-04-01T00:00:00+00:00\",\"2022-05-01T00:00:00+00:00\",\"2022-06-01T00:00:00+00:00\",\"2022-07-01T00:00:00+00:00\",\"2022-08-01T00:00:00+00:00\",\"2022-09-01T00:00:00+00:00\",\"2022-10-01T00:00:00+00:00\",\"2022-11-01T00:00:00+00:00\",\"2022-12-01T00:00:00+00:00\",\"2023-01-01T00:00:00+00:00\",\"2023-02-01T00:00:00+00:00\",\"2023-03-01T00:00:00+00:00\"],\"xaxis\":\"x\",\"y\":[-281986.0,-361151.0,-403880.0,-223087.0,-217042.0,-118201.0,-90706.0,-140840.0,-343652.0,-365873.0,-446350.0,-521789.0,-500572.0,-381971.0],\"yaxis\":\"y\",\"type\":\"bar\"},{\"alignmentgroup\":\"True\",\"hovertemplate\":\"Flow direction=Exports<br>=%{x}<br>Monthly electricity flow in MWh=%{y}<extra></extra>\",\"legendgroup\":\"Exports\",\"marker\":{\"color\":\"#EF553B\",\"pattern\":{\"shape\":\"\"}},\"name\":\"Exports\",\"offsetgroup\":\"Exports\",\"orientation\":\"v\",\"showlegend\":true,\"textposition\":\"auto\",\"x\":[\"2022-02-01T00:00:00+00:00\",\"2022-03-01T00:00:00+00:00\",\"2022-04-01T00:00:00+00:00\",\"2022-05-01T00:00:00+00:00\",\"2022-06-01T00:00:00+00:00\",\"2022-07-01T00:00:00+00:00\",\"2022-08-01T00:00:00+00:00\",\"2022-09-01T00:00:00+00:00\",\"2022-10-01T00:00:00+00:00\",\"2022-11-01T00:00:00+00:00\",\"2022-12-01T00:00:00+00:00\",\"2023-01-01T00:00:00+00:00\",\"2023-02-01T00:00:00+00:00\",\"2023-03-01T00:00:00+00:00\"],\"xaxis\":\"x\",\"y\":[604120.0,364106.0,523057.0,425334.0,468301.0,555944.0,636045.0,599058.0,492290.0,326800.0,423093.0,432492.0,373754.0,407477.0],\"yaxis\":\"y\",\"type\":\"bar\"},{\"name\":\"Net\",\"x\":[\"2022-02-01T00:00:00+00:00\",\"2022-03-01T00:00:00+00:00\",\"2022-04-01T00:00:00+00:00\",\"2022-05-01T00:00:00+00:00\",\"2022-06-01T00:00:00+00:00\",\"2022-07-01T00:00:00+00:00\",\"2022-08-01T00:00:00+00:00\",\"2022-09-01T00:00:00+00:00\",\"2022-10-01T00:00:00+00:00\",\"2022-11-01T00:00:00+00:00\",\"2022-12-01T00:00:00+00:00\",\"2023-01-01T00:00:00+00:00\",\"2023-02-01T00:00:00+00:00\",\"2023-03-01T00:00:00+00:00\"],\"y\":[322134.0,2955.0,119177.0,202247.0,251259.0,437743.0,545339.0,458218.0,148638.0,-39073.0,-23257.0,-89297.0,-126818.0,25506.0],\"type\":\"scatter\"}],                        {\"template\":{\"data\":{\"histogram2dcontour\":[{\"type\":\"histogram2dcontour\",\"colorbar\":{\"outlinewidth\":0,\"ticks\":\"\"},\"colorscale\":[[0.0,\"#0d0887\"],[0.1111111111111111,\"#46039f\"],[0.2222222222222222,\"#7201a8\"],[0.3333333333333333,\"#9c179e\"],[0.4444444444444444,\"#bd3786\"],[0.5555555555555556,\"#d8576b\"],[0.6666666666666666,\"#ed7953\"],[0.7777777777777778,\"#fb9f3a\"],[0.8888888888888888,\"#fdca26\"],[1.0,\"#f0f921\"]]}],\"choropleth\":[{\"type\":\"choropleth\",\"colorbar\":{\"outlinewidth\":0,\"ticks\":\"\"}}],\"histogram2d\":[{\"type\":\"histogram2d\",\"colorbar\":{\"outlinewidth\":0,\"ticks\":\"\"},\"colorscale\":[[0.0,\"#0d0887\"],[0.1111111111111111,\"#46039f\"],[0.2222222222222222,\"#7201a8\"],[0.3333333333333333,\"#9c179e\"],[0.4444444444444444,\"#bd3786\"],[0.5555555555555556,\"#d8576b\"],[0.6666666666666666,\"#ed7953\"],[0.7777777777777778,\"#fb9f3a\"],[0.8888888888888888,\"#fdca26\"],[1.0,\"#f0f921\"]]}],\"heatmap\":[{\"type\":\"heatmap\",\"colorbar\":{\"outlinewidth\":0,\"ticks\":\"\"},\"colorscale\":[[0.0,\"#0d0887\"],[0.1111111111111111,\"#46039f\"],[0.2222222222222222,\"#7201a8\"],[0.3333333333333333,\"#9c179e\"],[0.4444444444444444,\"#bd3786\"],[0.5555555555555556,\"#d8576b\"],[0.6666666666666666,\"#ed7953\"],[0.7777777777777778,\"#fb9f3a\"],[0.8888888888888888,\"#fdca26\"],[1.0,\"#f0f921\"]]}],\"heatmapgl\":[{\"type\":\"heatmapgl\",\"colorbar\":{\"outlinewidth\":0,\"ticks\":\"\"},\"colorscale\":[[0.0,\"#0d0887\"],[0.1111111111111111,\"#46039f\"],[0.2222222222222222,\"#7201a8\"],[0.3333333333333333,\"#9c179e\"],[0.4444444444444444,\"#bd3786\"],[0.5555555555555556,\"#d8576b\"],[0.6666666666666666,\"#ed7953\"],[0.7777777777777778,\"#fb9f3a\"],[0.8888888888888888,\"#fdca26\"],[1.0,\"#f0f921\"]]}],\"contourcarpet\":[{\"type\":\"contourcarpet\",\"colorbar\":{\"outlinewidth\":0,\"ticks\":\"\"}}],\"contour\":[{\"type\":\"contour\",\"colorbar\":{\"outlinewidth\":0,\"ticks\":\"\"},\"colorscale\":[[0.0,\"#0d0887\"],[0.1111111111111111,\"#46039f\"],[0.2222222222222222,\"#7201a8\"],[0.3333333333333333,\"#9c179e\"],[0.4444444444444444,\"#bd3786\"],[0.5555555555555556,\"#d8576b\"],[0.6666666666666666,\"#ed7953\"],[0.7777777777777778,\"#fb9f3a\"],[0.8888888888888888,\"#fdca26\"],[1.0,\"#f0f921\"]]}],\"surface\":[{\"type\":\"surface\",\"colorbar\":{\"outlinewidth\":0,\"ticks\":\"\"},\"colorscale\":[[0.0,\"#0d0887\"],[0.1111111111111111,\"#46039f\"],[0.2222222222222222,\"#7201a8\"],[0.3333333333333333,\"#9c179e\"],[0.4444444444444444,\"#bd3786\"],[0.5555555555555556,\"#d8576b\"],[0.6666666666666666,\"#ed7953\"],[0.7777777777777778,\"#fb9f3a\"],[0.8888888888888888,\"#fdca26\"],[1.0,\"#f0f921\"]]}],\"mesh3d\":[{\"type\":\"mesh3d\",\"colorbar\":{\"outlinewidth\":0,\"ticks\":\"\"}}],\"scatter\":[{\"fillpattern\":{\"fillmode\":\"overlay\",\"size\":10,\"solidity\":0.2},\"type\":\"scatter\"}],\"parcoords\":[{\"type\":\"parcoords\",\"line\":{\"colorbar\":{\"outlinewidth\":0,\"ticks\":\"\"}}}],\"scatterpolargl\":[{\"type\":\"scatterpolargl\",\"marker\":{\"colorbar\":{\"outlinewidth\":0,\"ticks\":\"\"}}}],\"bar\":[{\"error_x\":{\"color\":\"#2a3f5f\"},\"error_y\":{\"color\":\"#2a3f5f\"},\"marker\":{\"line\":{\"color\":\"#E5ECF6\",\"width\":0.5},\"pattern\":{\"fillmode\":\"overlay\",\"size\":10,\"solidity\":0.2}},\"type\":\"bar\"}],\"scattergeo\":[{\"type\":\"scattergeo\",\"marker\":{\"colorbar\":{\"outlinewidth\":0,\"ticks\":\"\"}}}],\"scatterpolar\":[{\"type\":\"scatterpolar\",\"marker\":{\"colorbar\":{\"outlinewidth\":0,\"ticks\":\"\"}}}],\"histogram\":[{\"marker\":{\"pattern\":{\"fillmode\":\"overlay\",\"size\":10,\"solidity\":0.2}},\"type\":\"histogram\"}],\"scattergl\":[{\"type\":\"scattergl\",\"marker\":{\"colorbar\":{\"outlinewidth\":0,\"ticks\":\"\"}}}],\"scatter3d\":[{\"type\":\"scatter3d\",\"line\":{\"colorbar\":{\"outlinewidth\":0,\"ticks\":\"\"}},\"marker\":{\"colorbar\":{\"outlinewidth\":0,\"ticks\":\"\"}}}],\"scattermapbox\":[{\"type\":\"scattermapbox\",\"marker\":{\"colorbar\":{\"outlinewidth\":0,\"ticks\":\"\"}}}],\"scatterternary\":[{\"type\":\"scatterternary\",\"marker\":{\"colorbar\":{\"outlinewidth\":0,\"ticks\":\"\"}}}],\"scattercarpet\":[{\"type\":\"scattercarpet\",\"marker\":{\"colorbar\":{\"outlinewidth\":0,\"ticks\":\"\"}}}],\"carpet\":[{\"aaxis\":{\"endlinecolor\":\"#2a3f5f\",\"gridcolor\":\"white\",\"linecolor\":\"white\",\"minorgridcolor\":\"white\",\"startlinecolor\":\"#2a3f5f\"},\"baxis\":{\"endlinecolor\":\"#2a3f5f\",\"gridcolor\":\"white\",\"linecolor\":\"white\",\"minorgridcolor\":\"white\",\"startlinecolor\":\"#2a3f5f\"},\"type\":\"carpet\"}],\"table\":[{\"cells\":{\"fill\":{\"color\":\"#EBF0F8\"},\"line\":{\"color\":\"white\"}},\"header\":{\"fill\":{\"color\":\"#C8D4E3\"},\"line\":{\"color\":\"white\"}},\"type\":\"table\"}],\"barpolar\":[{\"marker\":{\"line\":{\"color\":\"#E5ECF6\",\"width\":0.5},\"pattern\":{\"fillmode\":\"overlay\",\"size\":10,\"solidity\":0.2}},\"type\":\"barpolar\"}],\"pie\":[{\"automargin\":true,\"type\":\"pie\"}]},\"layout\":{\"autotypenumbers\":\"strict\",\"colorway\":[\"#636efa\",\"#EF553B\",\"#00cc96\",\"#ab63fa\",\"#FFA15A\",\"#19d3f3\",\"#FF6692\",\"#B6E880\",\"#FF97FF\",\"#FECB52\"],\"font\":{\"color\":\"#2a3f5f\"},\"hovermode\":\"closest\",\"hoverlabel\":{\"align\":\"left\"},\"paper_bgcolor\":\"white\",\"plot_bgcolor\":\"#E5ECF6\",\"polar\":{\"bgcolor\":\"#E5ECF6\",\"angularaxis\":{\"gridcolor\":\"white\",\"linecolor\":\"white\",\"ticks\":\"\"},\"radialaxis\":{\"gridcolor\":\"white\",\"linecolor\":\"white\",\"ticks\":\"\"}},\"ternary\":{\"bgcolor\":\"#E5ECF6\",\"aaxis\":{\"gridcolor\":\"white\",\"linecolor\":\"white\",\"ticks\":\"\"},\"baxis\":{\"gridcolor\":\"white\",\"linecolor\":\"white\",\"ticks\":\"\"},\"caxis\":{\"gridcolor\":\"white\",\"linecolor\":\"white\",\"ticks\":\"\"}},\"coloraxis\":{\"colorbar\":{\"outlinewidth\":0,\"ticks\":\"\"}},\"colorscale\":{\"sequential\":[[0.0,\"#0d0887\"],[0.1111111111111111,\"#46039f\"],[0.2222222222222222,\"#7201a8\"],[0.3333333333333333,\"#9c179e\"],[0.4444444444444444,\"#bd3786\"],[0.5555555555555556,\"#d8576b\"],[0.6666666666666666,\"#ed7953\"],[0.7777777777777778,\"#fb9f3a\"],[0.8888888888888888,\"#fdca26\"],[1.0,\"#f0f921\"]],\"sequentialminus\":[[0.0,\"#0d0887\"],[0.1111111111111111,\"#46039f\"],[0.2222222222222222,\"#7201a8\"],[0.3333333333333333,\"#9c179e\"],[0.4444444444444444,\"#bd3786\"],[0.5555555555555556,\"#d8576b\"],[0.6666666666666666,\"#ed7953\"],[0.7777777777777778,\"#fb9f3a\"],[0.8888888888888888,\"#fdca26\"],[1.0,\"#f0f921\"]],\"diverging\":[[0,\"#8e0152\"],[0.1,\"#c51b7d\"],[0.2,\"#de77ae\"],[0.3,\"#f1b6da\"],[0.4,\"#fde0ef\"],[0.5,\"#f7f7f7\"],[0.6,\"#e6f5d0\"],[0.7,\"#b8e186\"],[0.8,\"#7fbc41\"],[0.9,\"#4d9221\"],[1,\"#276419\"]]},\"xaxis\":{\"gridcolor\":\"white\",\"linecolor\":\"white\",\"ticks\":\"\",\"title\":{\"standoff\":15},\"zerolinecolor\":\"white\",\"automargin\":true,\"zerolinewidth\":2},\"yaxis\":{\"gridcolor\":\"white\",\"linecolor\":\"white\",\"ticks\":\"\",\"title\":{\"standoff\":15},\"zerolinecolor\":\"white\",\"automargin\":true,\"zerolinewidth\":2},\"scene\":{\"xaxis\":{\"backgroundcolor\":\"#E5ECF6\",\"gridcolor\":\"white\",\"linecolor\":\"white\",\"showbackground\":true,\"ticks\":\"\",\"zerolinecolor\":\"white\",\"gridwidth\":2},\"yaxis\":{\"backgroundcolor\":\"#E5ECF6\",\"gridcolor\":\"white\",\"linecolor\":\"white\",\"showbackground\":true,\"ticks\":\"\",\"zerolinecolor\":\"white\",\"gridwidth\":2},\"zaxis\":{\"backgroundcolor\":\"#E5ECF6\",\"gridcolor\":\"white\",\"linecolor\":\"white\",\"showbackground\":true,\"ticks\":\"\",\"zerolinecolor\":\"white\",\"gridwidth\":2}},\"shapedefaults\":{\"line\":{\"color\":\"#2a3f5f\"}},\"annotationdefaults\":{\"arrowcolor\":\"#2a3f5f\",\"arrowhead\":0,\"arrowwidth\":1},\"geo\":{\"bgcolor\":\"white\",\"landcolor\":\"#E5ECF6\",\"subunitcolor\":\"white\",\"showland\":true,\"showlakes\":true,\"lakecolor\":\"white\"},\"title\":{\"x\":0.05},\"mapbox\":{\"style\":\"light\"}}},\"xaxis\":{\"anchor\":\"y\",\"domain\":[0.0,1.0],\"title\":{\"text\":\"\"}},\"yaxis\":{\"anchor\":\"x\",\"domain\":[0.0,1.0],\"title\":{\"text\":\"Monthly electricity flow in MWh\"}},\"legend\":{\"title\":{\"text\":\"Flow direction\"},\"tracegroupgap\":0,\"yanchor\":\"top\",\"y\":0.99,\"xanchor\":\"center\",\"x\":0.9},\"margin\":{\"t\":0,\"l\":0,\"r\":0,\"b\":0,\"pad\":0},\"barmode\":\"relative\",\"autosize\":true,\"annotations\":[{\"arrowhead\":1,\"ax\":-100,\"axref\":\"x domain\",\"ay\":-459999.99999999994,\"ayref\":\"y\",\"showarrow\":true,\"text\":\"10.10.22: Campaign against energy infrastructure begins\",\"x\":\"2022-10-10T00:00:00\",\"y\":-100000.0}]},                        {\"responsive\": true}                    ).then(function(){\n",
       "                            \n",
       "var gd = document.getElementById('75787178-f120-4c66-b718-f59fae182367');\n",
       "var x = new MutationObserver(function (mutations, observer) {{\n",
       "        var display = window.getComputedStyle(gd).display;\n",
       "        if (!display || display === 'none') {{\n",
       "            console.log([gd, 'removed!']);\n",
       "            Plotly.purge(gd);\n",
       "            observer.disconnect();\n",
       "        }}\n",
       "}});\n",
       "\n",
       "// Listen for the removal of the full notebook cells\n",
       "var notebookContainer = gd.closest('#notebook-container');\n",
       "if (notebookContainer) {{\n",
       "    x.observe(notebookContainer, {childList: true});\n",
       "}}\n",
       "\n",
       "// Listen for the clearing of the current output cell\n",
       "var outputEl = gd.closest('.output');\n",
       "if (outputEl) {{\n",
       "    x.observe(outputEl, {childList: true});\n",
       "}}\n",
       "\n",
       "                        })                };                });            </script>        </div>"
      ]
     },
     "metadata": {},
     "output_type": "display_data"
    }
   ],
   "source": [
    "fig = px.bar(\n",
    "    pd.DataFrame({\n",
    "        'Imports': ukraine_imports.apply(lambda x: sum(-x), axis=1),\n",
    "        'Exports': ukraine_exports.apply(sum, axis=1),\n",
    "    }).resample('MS').sum(),\n",
    "    labels={\n",
    "        'value': 'Monthly electricity flow in MWh',\n",
    "        'variable': 'Flow direction',\n",
    "        'index': '',\n",
    "    },\n",
    "    # category_orders={'Flow direction': ['Exports', 'Imports']},\n",
    ")\n",
    "fig.update_layout(**plotly_config)\n",
    "fig.update_layout(legend=dict(\n",
    "    yanchor=\"top\",\n",
    "    y=0.99,\n",
    "    xanchor=\"center\",\n",
    "    x=0.9,\n",
    "))\n",
    "fig.add_trace(\n",
    "    go.Scatter(\n",
    "        y=ukraine_net.apply(sum, axis=1).resample('MS').sum(),\n",
    "        x=ukraine_net.apply(sum, axis=1).resample('MS').sum().index,\n",
    "        name='Net'\n",
    "    )\n",
    ")\n",
    "fig.add_annotation( # add a text callout with arrow\n",
    "    text=\"10.10.22: Campaign against energy infrastructure begins\",\n",
    "    x=pd.to_datetime('2022-10-10'),\n",
    "    y=(-1) * 10e4,\n",
    "    axref=\"x domain\",\n",
    "    ayref=\"y\",\n",
    "    ax=-100,\n",
    "    ay=(-4.6) * 10e4,\n",
    "    arrowhead=1,\n",
    "    showarrow=True,\n",
    "    #bordercolor=\"#c7c7c7\",\n",
    "    #borderwidth=2,\n",
    "    #borderpad=4,\n",
    "    #bgcolor=\"#ff7f0e\",\n",
    "    #opacity=0.8\n",
    ")\n",
    "_filename = 'entso_e-ukraine-electricity-combined_monthly'\n",
    "fig.write_image(f'{_filename}.svg')\n",
    "fig.show()"
   ]
  },
  {
   "cell_type": "code",
   "execution_count": 91,
   "id": "45c9442a",
   "metadata": {},
   "outputs": [
    {
     "data": {
      "application/vnd.plotly.v1+json": {
       "config": {
        "plotlyServerURL": "https://plot.ly"
       },
       "data": [
        {
         "alignmentgroup": "True",
         "hovertemplate": "Flow direction=Imports<br>=%{x}<br>Weekly electricity flow in MWh=%{y}<extra></extra>",
         "legendgroup": "Imports",
         "marker": {
          "color": "#636efa",
          "pattern": {
           "shape": ""
          }
         },
         "name": "Imports",
         "offsetgroup": "Imports",
         "orientation": "v",
         "showlegend": true,
         "textposition": "auto",
         "type": "bar",
         "x": [
          "2022-02-06T00:00:00+00:00",
          "2022-02-13T00:00:00+00:00",
          "2022-02-20T00:00:00+00:00",
          "2022-02-27T00:00:00+00:00",
          "2022-03-06T00:00:00+00:00",
          "2022-03-13T00:00:00+00:00",
          "2022-03-20T00:00:00+00:00",
          "2022-03-27T00:00:00+00:00",
          "2022-04-03T00:00:00+00:00",
          "2022-04-10T00:00:00+00:00",
          "2022-04-17T00:00:00+00:00",
          "2022-04-24T00:00:00+00:00",
          "2022-05-01T00:00:00+00:00",
          "2022-05-08T00:00:00+00:00",
          "2022-05-15T00:00:00+00:00",
          "2022-05-22T00:00:00+00:00",
          "2022-05-29T00:00:00+00:00",
          "2022-06-05T00:00:00+00:00",
          "2022-06-12T00:00:00+00:00",
          "2022-06-19T00:00:00+00:00",
          "2022-06-26T00:00:00+00:00",
          "2022-07-03T00:00:00+00:00",
          "2022-07-10T00:00:00+00:00",
          "2022-07-17T00:00:00+00:00",
          "2022-07-24T00:00:00+00:00",
          "2022-07-31T00:00:00+00:00",
          "2022-08-07T00:00:00+00:00",
          "2022-08-14T00:00:00+00:00",
          "2022-08-21T00:00:00+00:00",
          "2022-08-28T00:00:00+00:00",
          "2022-09-04T00:00:00+00:00",
          "2022-09-11T00:00:00+00:00",
          "2022-09-18T00:00:00+00:00",
          "2022-09-25T00:00:00+00:00",
          "2022-10-02T00:00:00+00:00",
          "2022-10-09T00:00:00+00:00",
          "2022-10-16T00:00:00+00:00",
          "2022-10-23T00:00:00+00:00",
          "2022-10-30T00:00:00+00:00",
          "2022-11-06T00:00:00+00:00",
          "2022-11-13T00:00:00+00:00",
          "2022-11-20T00:00:00+00:00",
          "2022-11-27T00:00:00+00:00",
          "2022-12-04T00:00:00+00:00",
          "2022-12-11T00:00:00+00:00",
          "2022-12-18T00:00:00+00:00",
          "2022-12-25T00:00:00+00:00",
          "2023-01-01T00:00:00+00:00",
          "2023-01-08T00:00:00+00:00",
          "2023-01-15T00:00:00+00:00",
          "2023-01-22T00:00:00+00:00",
          "2023-01-29T00:00:00+00:00",
          "2023-02-05T00:00:00+00:00",
          "2023-02-12T00:00:00+00:00",
          "2023-02-19T00:00:00+00:00",
          "2023-02-26T00:00:00+00:00",
          "2023-03-05T00:00:00+00:00",
          "2023-03-12T00:00:00+00:00",
          "2023-03-19T00:00:00+00:00",
          "2023-03-26T00:00:00+00:00",
          "2023-04-02T00:00:00+00:00"
         ],
         "xaxis": "x",
         "y": [
          -68180,
          -68295,
          -74984,
          -63056,
          -45033,
          -53966,
          -99268,
          -110587,
          -103402,
          -104838,
          -89161,
          -99328,
          -73434,
          -62004,
          -31542,
          -48273,
          -59842,
          -60729,
          -44773,
          -41322,
          -61098,
          -44646,
          -30690,
          -28214,
          -26165,
          -12517,
          -18579,
          -27991,
          -23210,
          -19618,
          -20108,
          -36305,
          -17054,
          -34763,
          -44476,
          -39393,
          -88132,
          -97096,
          -94653,
          -86022,
          -81530,
          -74572,
          -94262,
          -94332,
          -101171,
          -98459,
          -105740,
          -105548,
          -116417,
          -111201,
          -124436,
          -121197,
          -131034,
          -140852,
          -122812,
          -111347,
          -79817,
          -106991,
          -92455,
          -69197,
          -60983
         ],
         "yaxis": "y"
        },
        {
         "alignmentgroup": "True",
         "hovertemplate": "Flow direction=Exports<br>=%{x}<br>Weekly electricity flow in MWh=%{y}<extra></extra>",
         "legendgroup": "Exports",
         "marker": {
          "color": "#EF553B",
          "pattern": {
           "shape": ""
          }
         },
         "name": "Exports",
         "offsetgroup": "Exports",
         "orientation": "v",
         "showlegend": true,
         "textposition": "auto",
         "type": "bar",
         "x": [
          "2022-02-06T00:00:00+00:00",
          "2022-02-13T00:00:00+00:00",
          "2022-02-20T00:00:00+00:00",
          "2022-02-27T00:00:00+00:00",
          "2022-03-06T00:00:00+00:00",
          "2022-03-13T00:00:00+00:00",
          "2022-03-20T00:00:00+00:00",
          "2022-03-27T00:00:00+00:00",
          "2022-04-03T00:00:00+00:00",
          "2022-04-10T00:00:00+00:00",
          "2022-04-17T00:00:00+00:00",
          "2022-04-24T00:00:00+00:00",
          "2022-05-01T00:00:00+00:00",
          "2022-05-08T00:00:00+00:00",
          "2022-05-15T00:00:00+00:00",
          "2022-05-22T00:00:00+00:00",
          "2022-05-29T00:00:00+00:00",
          "2022-06-05T00:00:00+00:00",
          "2022-06-12T00:00:00+00:00",
          "2022-06-19T00:00:00+00:00",
          "2022-06-26T00:00:00+00:00",
          "2022-07-03T00:00:00+00:00",
          "2022-07-10T00:00:00+00:00",
          "2022-07-17T00:00:00+00:00",
          "2022-07-24T00:00:00+00:00",
          "2022-07-31T00:00:00+00:00",
          "2022-08-07T00:00:00+00:00",
          "2022-08-14T00:00:00+00:00",
          "2022-08-21T00:00:00+00:00",
          "2022-08-28T00:00:00+00:00",
          "2022-09-04T00:00:00+00:00",
          "2022-09-11T00:00:00+00:00",
          "2022-09-18T00:00:00+00:00",
          "2022-09-25T00:00:00+00:00",
          "2022-10-02T00:00:00+00:00",
          "2022-10-09T00:00:00+00:00",
          "2022-10-16T00:00:00+00:00",
          "2022-10-23T00:00:00+00:00",
          "2022-10-30T00:00:00+00:00",
          "2022-11-06T00:00:00+00:00",
          "2022-11-13T00:00:00+00:00",
          "2022-11-20T00:00:00+00:00",
          "2022-11-27T00:00:00+00:00",
          "2022-12-04T00:00:00+00:00",
          "2022-12-11T00:00:00+00:00",
          "2022-12-18T00:00:00+00:00",
          "2022-12-25T00:00:00+00:00",
          "2023-01-01T00:00:00+00:00",
          "2023-01-08T00:00:00+00:00",
          "2023-01-15T00:00:00+00:00",
          "2023-01-22T00:00:00+00:00",
          "2023-01-29T00:00:00+00:00",
          "2023-02-05T00:00:00+00:00",
          "2023-02-12T00:00:00+00:00",
          "2023-02-19T00:00:00+00:00",
          "2023-02-26T00:00:00+00:00",
          "2023-03-05T00:00:00+00:00",
          "2023-03-12T00:00:00+00:00",
          "2023-03-19T00:00:00+00:00",
          "2023-03-26T00:00:00+00:00",
          "2023-04-02T00:00:00+00:00"
         ],
         "xaxis": "x",
         "y": [
          147525,
          174654,
          180787,
          94373,
          43368,
          52997,
          99104,
          105032,
          128784,
          134391,
          111692,
          125399,
          101211,
          87064,
          77000,
          103809,
          117716,
          113052,
          105117,
          98933,
          122956,
          113390,
          113438,
          123785,
          135389,
          129896,
          141124,
          159088,
          134827,
          140753,
          144712,
          138457,
          129560,
          133683,
          155817,
          142536,
          104423,
          96071,
          92525,
          68620,
          80277,
          73502,
          76334,
          91372,
          97017,
          97472,
          100973,
          91642,
          106919,
          104354,
          104401,
          87238,
          58678,
          75728,
          108562,
          117591,
          85753,
          113276,
          97159,
          75530,
          65035
         ],
         "yaxis": "y"
        },
        {
         "line": {
          "color": "#313131",
          "width": 2
         },
         "name": "Net",
         "type": "scatter",
         "x": [
          "2022-02-06T00:00:00+00:00",
          "2022-02-13T00:00:00+00:00",
          "2022-02-20T00:00:00+00:00",
          "2022-02-27T00:00:00+00:00",
          "2022-03-06T00:00:00+00:00",
          "2022-03-13T00:00:00+00:00",
          "2022-03-20T00:00:00+00:00",
          "2022-03-27T00:00:00+00:00",
          "2022-04-03T00:00:00+00:00",
          "2022-04-10T00:00:00+00:00",
          "2022-04-17T00:00:00+00:00",
          "2022-04-24T00:00:00+00:00",
          "2022-05-01T00:00:00+00:00",
          "2022-05-08T00:00:00+00:00",
          "2022-05-15T00:00:00+00:00",
          "2022-05-22T00:00:00+00:00",
          "2022-05-29T00:00:00+00:00",
          "2022-06-05T00:00:00+00:00",
          "2022-06-12T00:00:00+00:00",
          "2022-06-19T00:00:00+00:00",
          "2022-06-26T00:00:00+00:00",
          "2022-07-03T00:00:00+00:00",
          "2022-07-10T00:00:00+00:00",
          "2022-07-17T00:00:00+00:00",
          "2022-07-24T00:00:00+00:00",
          "2022-07-31T00:00:00+00:00",
          "2022-08-07T00:00:00+00:00",
          "2022-08-14T00:00:00+00:00",
          "2022-08-21T00:00:00+00:00",
          "2022-08-28T00:00:00+00:00",
          "2022-09-04T00:00:00+00:00",
          "2022-09-11T00:00:00+00:00",
          "2022-09-18T00:00:00+00:00",
          "2022-09-25T00:00:00+00:00",
          "2022-10-02T00:00:00+00:00",
          "2022-10-09T00:00:00+00:00",
          "2022-10-16T00:00:00+00:00",
          "2022-10-23T00:00:00+00:00",
          "2022-10-30T00:00:00+00:00",
          "2022-11-06T00:00:00+00:00",
          "2022-11-13T00:00:00+00:00",
          "2022-11-20T00:00:00+00:00",
          "2022-11-27T00:00:00+00:00",
          "2022-12-04T00:00:00+00:00",
          "2022-12-11T00:00:00+00:00",
          "2022-12-18T00:00:00+00:00",
          "2022-12-25T00:00:00+00:00",
          "2023-01-01T00:00:00+00:00",
          "2023-01-08T00:00:00+00:00",
          "2023-01-15T00:00:00+00:00",
          "2023-01-22T00:00:00+00:00",
          "2023-01-29T00:00:00+00:00",
          "2023-02-05T00:00:00+00:00",
          "2023-02-12T00:00:00+00:00",
          "2023-02-19T00:00:00+00:00",
          "2023-02-26T00:00:00+00:00",
          "2023-03-05T00:00:00+00:00",
          "2023-03-12T00:00:00+00:00",
          "2023-03-19T00:00:00+00:00",
          "2023-03-26T00:00:00+00:00",
          "2023-04-02T00:00:00+00:00"
         ],
         "y": [
          79345,
          106359,
          105803,
          31317,
          -1665,
          -969,
          -164,
          -5555,
          25382,
          29553,
          22531,
          26071,
          27777,
          25060,
          45458,
          55536,
          57874,
          52323,
          60344,
          57611,
          61858,
          68744,
          82748,
          95571,
          109224,
          117379,
          122545,
          131097,
          111617,
          121135,
          124604,
          102152,
          112506,
          98920,
          111341,
          103143,
          16291,
          -1025,
          -2128,
          -17402,
          -1253,
          -1070,
          -17928,
          -2960,
          -4154,
          -987,
          -4767,
          -13906,
          -9498,
          -6847,
          -20035,
          -33959,
          -72356,
          -65124,
          -14250,
          6244,
          5936,
          6285,
          4704,
          6333,
          4052
         ]
        }
       ],
       "layout": {
        "annotations": [
         {
          "arrowhead": 1,
          "ax": -100,
          "axref": "x domain",
          "ay": -120000,
          "ayref": "y",
          "showarrow": true,
          "text": "10.10.22: Campaign against energy infrastructure begins",
          "x": "2022-10-10T00:00:00",
          "y": 0
         }
        ],
        "autosize": true,
        "barmode": "relative",
        "legend": {
         "title": {
          "text": "Flow direction"
         },
         "tracegroupgap": 0,
         "x": 0.68,
         "xanchor": "center",
         "y": 0.99,
         "yanchor": "top"
        },
        "margin": {
         "b": 0,
         "l": 0,
         "pad": 0,
         "r": 0,
         "t": 0
        },
        "shapes": [
         {
          "line": {
           "color": "purple",
           "dash": "dash",
           "width": 3
          },
          "type": "line",
          "x0": "2022-02-24T00:00:00",
          "x1": "2022-02-24T00:00:00",
          "xref": "x",
          "y0": 0,
          "y1": 1,
          "yref": "y domain"
         }
        ],
        "template": {
         "data": {
          "bar": [
           {
            "error_x": {
             "color": "#2a3f5f"
            },
            "error_y": {
             "color": "#2a3f5f"
            },
            "marker": {
             "line": {
              "color": "#E5ECF6",
              "width": 0.5
             },
             "pattern": {
              "fillmode": "overlay",
              "size": 10,
              "solidity": 0.2
             }
            },
            "type": "bar"
           }
          ],
          "barpolar": [
           {
            "marker": {
             "line": {
              "color": "#E5ECF6",
              "width": 0.5
             },
             "pattern": {
              "fillmode": "overlay",
              "size": 10,
              "solidity": 0.2
             }
            },
            "type": "barpolar"
           }
          ],
          "carpet": [
           {
            "aaxis": {
             "endlinecolor": "#2a3f5f",
             "gridcolor": "white",
             "linecolor": "white",
             "minorgridcolor": "white",
             "startlinecolor": "#2a3f5f"
            },
            "baxis": {
             "endlinecolor": "#2a3f5f",
             "gridcolor": "white",
             "linecolor": "white",
             "minorgridcolor": "white",
             "startlinecolor": "#2a3f5f"
            },
            "type": "carpet"
           }
          ],
          "choropleth": [
           {
            "colorbar": {
             "outlinewidth": 0,
             "ticks": ""
            },
            "type": "choropleth"
           }
          ],
          "contour": [
           {
            "colorbar": {
             "outlinewidth": 0,
             "ticks": ""
            },
            "colorscale": [
             [
              0,
              "#0d0887"
             ],
             [
              0.1111111111111111,
              "#46039f"
             ],
             [
              0.2222222222222222,
              "#7201a8"
             ],
             [
              0.3333333333333333,
              "#9c179e"
             ],
             [
              0.4444444444444444,
              "#bd3786"
             ],
             [
              0.5555555555555556,
              "#d8576b"
             ],
             [
              0.6666666666666666,
              "#ed7953"
             ],
             [
              0.7777777777777778,
              "#fb9f3a"
             ],
             [
              0.8888888888888888,
              "#fdca26"
             ],
             [
              1,
              "#f0f921"
             ]
            ],
            "type": "contour"
           }
          ],
          "contourcarpet": [
           {
            "colorbar": {
             "outlinewidth": 0,
             "ticks": ""
            },
            "type": "contourcarpet"
           }
          ],
          "heatmap": [
           {
            "colorbar": {
             "outlinewidth": 0,
             "ticks": ""
            },
            "colorscale": [
             [
              0,
              "#0d0887"
             ],
             [
              0.1111111111111111,
              "#46039f"
             ],
             [
              0.2222222222222222,
              "#7201a8"
             ],
             [
              0.3333333333333333,
              "#9c179e"
             ],
             [
              0.4444444444444444,
              "#bd3786"
             ],
             [
              0.5555555555555556,
              "#d8576b"
             ],
             [
              0.6666666666666666,
              "#ed7953"
             ],
             [
              0.7777777777777778,
              "#fb9f3a"
             ],
             [
              0.8888888888888888,
              "#fdca26"
             ],
             [
              1,
              "#f0f921"
             ]
            ],
            "type": "heatmap"
           }
          ],
          "heatmapgl": [
           {
            "colorbar": {
             "outlinewidth": 0,
             "ticks": ""
            },
            "colorscale": [
             [
              0,
              "#0d0887"
             ],
             [
              0.1111111111111111,
              "#46039f"
             ],
             [
              0.2222222222222222,
              "#7201a8"
             ],
             [
              0.3333333333333333,
              "#9c179e"
             ],
             [
              0.4444444444444444,
              "#bd3786"
             ],
             [
              0.5555555555555556,
              "#d8576b"
             ],
             [
              0.6666666666666666,
              "#ed7953"
             ],
             [
              0.7777777777777778,
              "#fb9f3a"
             ],
             [
              0.8888888888888888,
              "#fdca26"
             ],
             [
              1,
              "#f0f921"
             ]
            ],
            "type": "heatmapgl"
           }
          ],
          "histogram": [
           {
            "marker": {
             "pattern": {
              "fillmode": "overlay",
              "size": 10,
              "solidity": 0.2
             }
            },
            "type": "histogram"
           }
          ],
          "histogram2d": [
           {
            "colorbar": {
             "outlinewidth": 0,
             "ticks": ""
            },
            "colorscale": [
             [
              0,
              "#0d0887"
             ],
             [
              0.1111111111111111,
              "#46039f"
             ],
             [
              0.2222222222222222,
              "#7201a8"
             ],
             [
              0.3333333333333333,
              "#9c179e"
             ],
             [
              0.4444444444444444,
              "#bd3786"
             ],
             [
              0.5555555555555556,
              "#d8576b"
             ],
             [
              0.6666666666666666,
              "#ed7953"
             ],
             [
              0.7777777777777778,
              "#fb9f3a"
             ],
             [
              0.8888888888888888,
              "#fdca26"
             ],
             [
              1,
              "#f0f921"
             ]
            ],
            "type": "histogram2d"
           }
          ],
          "histogram2dcontour": [
           {
            "colorbar": {
             "outlinewidth": 0,
             "ticks": ""
            },
            "colorscale": [
             [
              0,
              "#0d0887"
             ],
             [
              0.1111111111111111,
              "#46039f"
             ],
             [
              0.2222222222222222,
              "#7201a8"
             ],
             [
              0.3333333333333333,
              "#9c179e"
             ],
             [
              0.4444444444444444,
              "#bd3786"
             ],
             [
              0.5555555555555556,
              "#d8576b"
             ],
             [
              0.6666666666666666,
              "#ed7953"
             ],
             [
              0.7777777777777778,
              "#fb9f3a"
             ],
             [
              0.8888888888888888,
              "#fdca26"
             ],
             [
              1,
              "#f0f921"
             ]
            ],
            "type": "histogram2dcontour"
           }
          ],
          "mesh3d": [
           {
            "colorbar": {
             "outlinewidth": 0,
             "ticks": ""
            },
            "type": "mesh3d"
           }
          ],
          "parcoords": [
           {
            "line": {
             "colorbar": {
              "outlinewidth": 0,
              "ticks": ""
             }
            },
            "type": "parcoords"
           }
          ],
          "pie": [
           {
            "automargin": true,
            "type": "pie"
           }
          ],
          "scatter": [
           {
            "fillpattern": {
             "fillmode": "overlay",
             "size": 10,
             "solidity": 0.2
            },
            "type": "scatter"
           }
          ],
          "scatter3d": [
           {
            "line": {
             "colorbar": {
              "outlinewidth": 0,
              "ticks": ""
             }
            },
            "marker": {
             "colorbar": {
              "outlinewidth": 0,
              "ticks": ""
             }
            },
            "type": "scatter3d"
           }
          ],
          "scattercarpet": [
           {
            "marker": {
             "colorbar": {
              "outlinewidth": 0,
              "ticks": ""
             }
            },
            "type": "scattercarpet"
           }
          ],
          "scattergeo": [
           {
            "marker": {
             "colorbar": {
              "outlinewidth": 0,
              "ticks": ""
             }
            },
            "type": "scattergeo"
           }
          ],
          "scattergl": [
           {
            "marker": {
             "colorbar": {
              "outlinewidth": 0,
              "ticks": ""
             }
            },
            "type": "scattergl"
           }
          ],
          "scattermapbox": [
           {
            "marker": {
             "colorbar": {
              "outlinewidth": 0,
              "ticks": ""
             }
            },
            "type": "scattermapbox"
           }
          ],
          "scatterpolar": [
           {
            "marker": {
             "colorbar": {
              "outlinewidth": 0,
              "ticks": ""
             }
            },
            "type": "scatterpolar"
           }
          ],
          "scatterpolargl": [
           {
            "marker": {
             "colorbar": {
              "outlinewidth": 0,
              "ticks": ""
             }
            },
            "type": "scatterpolargl"
           }
          ],
          "scatterternary": [
           {
            "marker": {
             "colorbar": {
              "outlinewidth": 0,
              "ticks": ""
             }
            },
            "type": "scatterternary"
           }
          ],
          "surface": [
           {
            "colorbar": {
             "outlinewidth": 0,
             "ticks": ""
            },
            "colorscale": [
             [
              0,
              "#0d0887"
             ],
             [
              0.1111111111111111,
              "#46039f"
             ],
             [
              0.2222222222222222,
              "#7201a8"
             ],
             [
              0.3333333333333333,
              "#9c179e"
             ],
             [
              0.4444444444444444,
              "#bd3786"
             ],
             [
              0.5555555555555556,
              "#d8576b"
             ],
             [
              0.6666666666666666,
              "#ed7953"
             ],
             [
              0.7777777777777778,
              "#fb9f3a"
             ],
             [
              0.8888888888888888,
              "#fdca26"
             ],
             [
              1,
              "#f0f921"
             ]
            ],
            "type": "surface"
           }
          ],
          "table": [
           {
            "cells": {
             "fill": {
              "color": "#EBF0F8"
             },
             "line": {
              "color": "white"
             }
            },
            "header": {
             "fill": {
              "color": "#C8D4E3"
             },
             "line": {
              "color": "white"
             }
            },
            "type": "table"
           }
          ]
         },
         "layout": {
          "annotationdefaults": {
           "arrowcolor": "#2a3f5f",
           "arrowhead": 0,
           "arrowwidth": 1
          },
          "autotypenumbers": "strict",
          "coloraxis": {
           "colorbar": {
            "outlinewidth": 0,
            "ticks": ""
           }
          },
          "colorscale": {
           "diverging": [
            [
             0,
             "#8e0152"
            ],
            [
             0.1,
             "#c51b7d"
            ],
            [
             0.2,
             "#de77ae"
            ],
            [
             0.3,
             "#f1b6da"
            ],
            [
             0.4,
             "#fde0ef"
            ],
            [
             0.5,
             "#f7f7f7"
            ],
            [
             0.6,
             "#e6f5d0"
            ],
            [
             0.7,
             "#b8e186"
            ],
            [
             0.8,
             "#7fbc41"
            ],
            [
             0.9,
             "#4d9221"
            ],
            [
             1,
             "#276419"
            ]
           ],
           "sequential": [
            [
             0,
             "#0d0887"
            ],
            [
             0.1111111111111111,
             "#46039f"
            ],
            [
             0.2222222222222222,
             "#7201a8"
            ],
            [
             0.3333333333333333,
             "#9c179e"
            ],
            [
             0.4444444444444444,
             "#bd3786"
            ],
            [
             0.5555555555555556,
             "#d8576b"
            ],
            [
             0.6666666666666666,
             "#ed7953"
            ],
            [
             0.7777777777777778,
             "#fb9f3a"
            ],
            [
             0.8888888888888888,
             "#fdca26"
            ],
            [
             1,
             "#f0f921"
            ]
           ],
           "sequentialminus": [
            [
             0,
             "#0d0887"
            ],
            [
             0.1111111111111111,
             "#46039f"
            ],
            [
             0.2222222222222222,
             "#7201a8"
            ],
            [
             0.3333333333333333,
             "#9c179e"
            ],
            [
             0.4444444444444444,
             "#bd3786"
            ],
            [
             0.5555555555555556,
             "#d8576b"
            ],
            [
             0.6666666666666666,
             "#ed7953"
            ],
            [
             0.7777777777777778,
             "#fb9f3a"
            ],
            [
             0.8888888888888888,
             "#fdca26"
            ],
            [
             1,
             "#f0f921"
            ]
           ]
          },
          "colorway": [
           "#636efa",
           "#EF553B",
           "#00cc96",
           "#ab63fa",
           "#FFA15A",
           "#19d3f3",
           "#FF6692",
           "#B6E880",
           "#FF97FF",
           "#FECB52"
          ],
          "font": {
           "color": "#2a3f5f"
          },
          "geo": {
           "bgcolor": "white",
           "lakecolor": "white",
           "landcolor": "#E5ECF6",
           "showlakes": true,
           "showland": true,
           "subunitcolor": "white"
          },
          "hoverlabel": {
           "align": "left"
          },
          "hovermode": "closest",
          "mapbox": {
           "style": "light"
          },
          "paper_bgcolor": "white",
          "plot_bgcolor": "#E5ECF6",
          "polar": {
           "angularaxis": {
            "gridcolor": "white",
            "linecolor": "white",
            "ticks": ""
           },
           "bgcolor": "#E5ECF6",
           "radialaxis": {
            "gridcolor": "white",
            "linecolor": "white",
            "ticks": ""
           }
          },
          "scene": {
           "xaxis": {
            "backgroundcolor": "#E5ECF6",
            "gridcolor": "white",
            "gridwidth": 2,
            "linecolor": "white",
            "showbackground": true,
            "ticks": "",
            "zerolinecolor": "white"
           },
           "yaxis": {
            "backgroundcolor": "#E5ECF6",
            "gridcolor": "white",
            "gridwidth": 2,
            "linecolor": "white",
            "showbackground": true,
            "ticks": "",
            "zerolinecolor": "white"
           },
           "zaxis": {
            "backgroundcolor": "#E5ECF6",
            "gridcolor": "white",
            "gridwidth": 2,
            "linecolor": "white",
            "showbackground": true,
            "ticks": "",
            "zerolinecolor": "white"
           }
          },
          "shapedefaults": {
           "line": {
            "color": "#2a3f5f"
           }
          },
          "ternary": {
           "aaxis": {
            "gridcolor": "white",
            "linecolor": "white",
            "ticks": ""
           },
           "baxis": {
            "gridcolor": "white",
            "linecolor": "white",
            "ticks": ""
           },
           "bgcolor": "#E5ECF6",
           "caxis": {
            "gridcolor": "white",
            "linecolor": "white",
            "ticks": ""
           }
          },
          "title": {
           "x": 0.05
          },
          "xaxis": {
           "automargin": true,
           "gridcolor": "white",
           "linecolor": "white",
           "ticks": "",
           "title": {
            "standoff": 15
           },
           "zerolinecolor": "white",
           "zerolinewidth": 2
          },
          "yaxis": {
           "automargin": true,
           "gridcolor": "white",
           "linecolor": "white",
           "ticks": "",
           "title": {
            "standoff": 15
           },
           "zerolinecolor": "white",
           "zerolinewidth": 2
          }
         }
        },
        "xaxis": {
         "anchor": "y",
         "domain": [
          0,
          1
         ],
         "title": {
          "text": ""
         }
        },
        "yaxis": {
         "anchor": "x",
         "domain": [
          0,
          1
         ],
         "title": {
          "text": "Weekly electricity flow in MWh"
         }
        }
       }
      },
      "text/html": [
       "<div>                            <div id=\"8c9b9a1c-4ec1-4142-9e35-28c3449e397e\" class=\"plotly-graph-div\" style=\"height:525px; width:100%;\"></div>            <script type=\"text/javascript\">                require([\"plotly\"], function(Plotly) {                    window.PLOTLYENV=window.PLOTLYENV || {};                                    if (document.getElementById(\"8c9b9a1c-4ec1-4142-9e35-28c3449e397e\")) {                    Plotly.newPlot(                        \"8c9b9a1c-4ec1-4142-9e35-28c3449e397e\",                        [{\"alignmentgroup\":\"True\",\"hovertemplate\":\"Flow direction=Imports<br>=%{x}<br>Weekly electricity flow in MWh=%{y}<extra></extra>\",\"legendgroup\":\"Imports\",\"marker\":{\"color\":\"#636efa\",\"pattern\":{\"shape\":\"\"}},\"name\":\"Imports\",\"offsetgroup\":\"Imports\",\"orientation\":\"v\",\"showlegend\":true,\"textposition\":\"auto\",\"x\":[\"2022-02-06T00:00:00+00:00\",\"2022-02-13T00:00:00+00:00\",\"2022-02-20T00:00:00+00:00\",\"2022-02-27T00:00:00+00:00\",\"2022-03-06T00:00:00+00:00\",\"2022-03-13T00:00:00+00:00\",\"2022-03-20T00:00:00+00:00\",\"2022-03-27T00:00:00+00:00\",\"2022-04-03T00:00:00+00:00\",\"2022-04-10T00:00:00+00:00\",\"2022-04-17T00:00:00+00:00\",\"2022-04-24T00:00:00+00:00\",\"2022-05-01T00:00:00+00:00\",\"2022-05-08T00:00:00+00:00\",\"2022-05-15T00:00:00+00:00\",\"2022-05-22T00:00:00+00:00\",\"2022-05-29T00:00:00+00:00\",\"2022-06-05T00:00:00+00:00\",\"2022-06-12T00:00:00+00:00\",\"2022-06-19T00:00:00+00:00\",\"2022-06-26T00:00:00+00:00\",\"2022-07-03T00:00:00+00:00\",\"2022-07-10T00:00:00+00:00\",\"2022-07-17T00:00:00+00:00\",\"2022-07-24T00:00:00+00:00\",\"2022-07-31T00:00:00+00:00\",\"2022-08-07T00:00:00+00:00\",\"2022-08-14T00:00:00+00:00\",\"2022-08-21T00:00:00+00:00\",\"2022-08-28T00:00:00+00:00\",\"2022-09-04T00:00:00+00:00\",\"2022-09-11T00:00:00+00:00\",\"2022-09-18T00:00:00+00:00\",\"2022-09-25T00:00:00+00:00\",\"2022-10-02T00:00:00+00:00\",\"2022-10-09T00:00:00+00:00\",\"2022-10-16T00:00:00+00:00\",\"2022-10-23T00:00:00+00:00\",\"2022-10-30T00:00:00+00:00\",\"2022-11-06T00:00:00+00:00\",\"2022-11-13T00:00:00+00:00\",\"2022-11-20T00:00:00+00:00\",\"2022-11-27T00:00:00+00:00\",\"2022-12-04T00:00:00+00:00\",\"2022-12-11T00:00:00+00:00\",\"2022-12-18T00:00:00+00:00\",\"2022-12-25T00:00:00+00:00\",\"2023-01-01T00:00:00+00:00\",\"2023-01-08T00:00:00+00:00\",\"2023-01-15T00:00:00+00:00\",\"2023-01-22T00:00:00+00:00\",\"2023-01-29T00:00:00+00:00\",\"2023-02-05T00:00:00+00:00\",\"2023-02-12T00:00:00+00:00\",\"2023-02-19T00:00:00+00:00\",\"2023-02-26T00:00:00+00:00\",\"2023-03-05T00:00:00+00:00\",\"2023-03-12T00:00:00+00:00\",\"2023-03-19T00:00:00+00:00\",\"2023-03-26T00:00:00+00:00\",\"2023-04-02T00:00:00+00:00\"],\"xaxis\":\"x\",\"y\":[-68180.0,-68295.0,-74984.0,-63056.0,-45033.0,-53966.0,-99268.0,-110587.0,-103402.0,-104838.0,-89161.0,-99328.0,-73434.0,-62004.0,-31542.0,-48273.0,-59842.0,-60729.0,-44773.0,-41322.0,-61098.0,-44646.0,-30690.0,-28214.0,-26165.0,-12517.0,-18579.0,-27991.0,-23210.0,-19618.0,-20108.0,-36305.0,-17054.0,-34763.0,-44476.0,-39393.0,-88132.0,-97096.0,-94653.0,-86022.0,-81530.0,-74572.0,-94262.0,-94332.0,-101171.0,-98459.0,-105740.0,-105548.0,-116417.0,-111201.0,-124436.0,-121197.0,-131034.0,-140852.0,-122812.0,-111347.0,-79817.0,-106991.0,-92455.0,-69197.0,-60983.0],\"yaxis\":\"y\",\"type\":\"bar\"},{\"alignmentgroup\":\"True\",\"hovertemplate\":\"Flow direction=Exports<br>=%{x}<br>Weekly electricity flow in MWh=%{y}<extra></extra>\",\"legendgroup\":\"Exports\",\"marker\":{\"color\":\"#EF553B\",\"pattern\":{\"shape\":\"\"}},\"name\":\"Exports\",\"offsetgroup\":\"Exports\",\"orientation\":\"v\",\"showlegend\":true,\"textposition\":\"auto\",\"x\":[\"2022-02-06T00:00:00+00:00\",\"2022-02-13T00:00:00+00:00\",\"2022-02-20T00:00:00+00:00\",\"2022-02-27T00:00:00+00:00\",\"2022-03-06T00:00:00+00:00\",\"2022-03-13T00:00:00+00:00\",\"2022-03-20T00:00:00+00:00\",\"2022-03-27T00:00:00+00:00\",\"2022-04-03T00:00:00+00:00\",\"2022-04-10T00:00:00+00:00\",\"2022-04-17T00:00:00+00:00\",\"2022-04-24T00:00:00+00:00\",\"2022-05-01T00:00:00+00:00\",\"2022-05-08T00:00:00+00:00\",\"2022-05-15T00:00:00+00:00\",\"2022-05-22T00:00:00+00:00\",\"2022-05-29T00:00:00+00:00\",\"2022-06-05T00:00:00+00:00\",\"2022-06-12T00:00:00+00:00\",\"2022-06-19T00:00:00+00:00\",\"2022-06-26T00:00:00+00:00\",\"2022-07-03T00:00:00+00:00\",\"2022-07-10T00:00:00+00:00\",\"2022-07-17T00:00:00+00:00\",\"2022-07-24T00:00:00+00:00\",\"2022-07-31T00:00:00+00:00\",\"2022-08-07T00:00:00+00:00\",\"2022-08-14T00:00:00+00:00\",\"2022-08-21T00:00:00+00:00\",\"2022-08-28T00:00:00+00:00\",\"2022-09-04T00:00:00+00:00\",\"2022-09-11T00:00:00+00:00\",\"2022-09-18T00:00:00+00:00\",\"2022-09-25T00:00:00+00:00\",\"2022-10-02T00:00:00+00:00\",\"2022-10-09T00:00:00+00:00\",\"2022-10-16T00:00:00+00:00\",\"2022-10-23T00:00:00+00:00\",\"2022-10-30T00:00:00+00:00\",\"2022-11-06T00:00:00+00:00\",\"2022-11-13T00:00:00+00:00\",\"2022-11-20T00:00:00+00:00\",\"2022-11-27T00:00:00+00:00\",\"2022-12-04T00:00:00+00:00\",\"2022-12-11T00:00:00+00:00\",\"2022-12-18T00:00:00+00:00\",\"2022-12-25T00:00:00+00:00\",\"2023-01-01T00:00:00+00:00\",\"2023-01-08T00:00:00+00:00\",\"2023-01-15T00:00:00+00:00\",\"2023-01-22T00:00:00+00:00\",\"2023-01-29T00:00:00+00:00\",\"2023-02-05T00:00:00+00:00\",\"2023-02-12T00:00:00+00:00\",\"2023-02-19T00:00:00+00:00\",\"2023-02-26T00:00:00+00:00\",\"2023-03-05T00:00:00+00:00\",\"2023-03-12T00:00:00+00:00\",\"2023-03-19T00:00:00+00:00\",\"2023-03-26T00:00:00+00:00\",\"2023-04-02T00:00:00+00:00\"],\"xaxis\":\"x\",\"y\":[147525.0,174654.0,180787.0,94373.0,43368.0,52997.0,99104.0,105032.0,128784.0,134391.0,111692.0,125399.0,101211.0,87064.0,77000.0,103809.0,117716.0,113052.0,105117.0,98933.0,122956.0,113390.0,113438.0,123785.0,135389.0,129896.0,141124.0,159088.0,134827.0,140753.0,144712.0,138457.0,129560.0,133683.0,155817.0,142536.0,104423.0,96071.0,92525.0,68620.0,80277.0,73502.0,76334.0,91372.0,97017.0,97472.0,100973.0,91642.0,106919.0,104354.0,104401.0,87238.0,58678.0,75728.0,108562.0,117591.0,85753.0,113276.0,97159.0,75530.0,65035.0],\"yaxis\":\"y\",\"type\":\"bar\"},{\"line\":{\"color\":\"#313131\",\"width\":2},\"name\":\"Net\",\"x\":[\"2022-02-06T00:00:00+00:00\",\"2022-02-13T00:00:00+00:00\",\"2022-02-20T00:00:00+00:00\",\"2022-02-27T00:00:00+00:00\",\"2022-03-06T00:00:00+00:00\",\"2022-03-13T00:00:00+00:00\",\"2022-03-20T00:00:00+00:00\",\"2022-03-27T00:00:00+00:00\",\"2022-04-03T00:00:00+00:00\",\"2022-04-10T00:00:00+00:00\",\"2022-04-17T00:00:00+00:00\",\"2022-04-24T00:00:00+00:00\",\"2022-05-01T00:00:00+00:00\",\"2022-05-08T00:00:00+00:00\",\"2022-05-15T00:00:00+00:00\",\"2022-05-22T00:00:00+00:00\",\"2022-05-29T00:00:00+00:00\",\"2022-06-05T00:00:00+00:00\",\"2022-06-12T00:00:00+00:00\",\"2022-06-19T00:00:00+00:00\",\"2022-06-26T00:00:00+00:00\",\"2022-07-03T00:00:00+00:00\",\"2022-07-10T00:00:00+00:00\",\"2022-07-17T00:00:00+00:00\",\"2022-07-24T00:00:00+00:00\",\"2022-07-31T00:00:00+00:00\",\"2022-08-07T00:00:00+00:00\",\"2022-08-14T00:00:00+00:00\",\"2022-08-21T00:00:00+00:00\",\"2022-08-28T00:00:00+00:00\",\"2022-09-04T00:00:00+00:00\",\"2022-09-11T00:00:00+00:00\",\"2022-09-18T00:00:00+00:00\",\"2022-09-25T00:00:00+00:00\",\"2022-10-02T00:00:00+00:00\",\"2022-10-09T00:00:00+00:00\",\"2022-10-16T00:00:00+00:00\",\"2022-10-23T00:00:00+00:00\",\"2022-10-30T00:00:00+00:00\",\"2022-11-06T00:00:00+00:00\",\"2022-11-13T00:00:00+00:00\",\"2022-11-20T00:00:00+00:00\",\"2022-11-27T00:00:00+00:00\",\"2022-12-04T00:00:00+00:00\",\"2022-12-11T00:00:00+00:00\",\"2022-12-18T00:00:00+00:00\",\"2022-12-25T00:00:00+00:00\",\"2023-01-01T00:00:00+00:00\",\"2023-01-08T00:00:00+00:00\",\"2023-01-15T00:00:00+00:00\",\"2023-01-22T00:00:00+00:00\",\"2023-01-29T00:00:00+00:00\",\"2023-02-05T00:00:00+00:00\",\"2023-02-12T00:00:00+00:00\",\"2023-02-19T00:00:00+00:00\",\"2023-02-26T00:00:00+00:00\",\"2023-03-05T00:00:00+00:00\",\"2023-03-12T00:00:00+00:00\",\"2023-03-19T00:00:00+00:00\",\"2023-03-26T00:00:00+00:00\",\"2023-04-02T00:00:00+00:00\"],\"y\":[79345.0,106359.0,105803.0,31317.0,-1665.0,-969.0,-164.0,-5555.0,25382.0,29553.0,22531.0,26071.0,27777.0,25060.0,45458.0,55536.0,57874.0,52323.0,60344.0,57611.0,61858.0,68744.0,82748.0,95571.0,109224.0,117379.0,122545.0,131097.0,111617.0,121135.0,124604.0,102152.0,112506.0,98920.0,111341.0,103143.0,16291.0,-1025.0,-2128.0,-17402.0,-1253.0,-1070.0,-17928.0,-2960.0,-4154.0,-987.0,-4767.0,-13906.0,-9498.0,-6847.0,-20035.0,-33959.0,-72356.0,-65124.0,-14250.0,6244.0,5936.0,6285.0,4704.0,6333.0,4052.0],\"type\":\"scatter\"}],                        {\"template\":{\"data\":{\"histogram2dcontour\":[{\"type\":\"histogram2dcontour\",\"colorbar\":{\"outlinewidth\":0,\"ticks\":\"\"},\"colorscale\":[[0.0,\"#0d0887\"],[0.1111111111111111,\"#46039f\"],[0.2222222222222222,\"#7201a8\"],[0.3333333333333333,\"#9c179e\"],[0.4444444444444444,\"#bd3786\"],[0.5555555555555556,\"#d8576b\"],[0.6666666666666666,\"#ed7953\"],[0.7777777777777778,\"#fb9f3a\"],[0.8888888888888888,\"#fdca26\"],[1.0,\"#f0f921\"]]}],\"choropleth\":[{\"type\":\"choropleth\",\"colorbar\":{\"outlinewidth\":0,\"ticks\":\"\"}}],\"histogram2d\":[{\"type\":\"histogram2d\",\"colorbar\":{\"outlinewidth\":0,\"ticks\":\"\"},\"colorscale\":[[0.0,\"#0d0887\"],[0.1111111111111111,\"#46039f\"],[0.2222222222222222,\"#7201a8\"],[0.3333333333333333,\"#9c179e\"],[0.4444444444444444,\"#bd3786\"],[0.5555555555555556,\"#d8576b\"],[0.6666666666666666,\"#ed7953\"],[0.7777777777777778,\"#fb9f3a\"],[0.8888888888888888,\"#fdca26\"],[1.0,\"#f0f921\"]]}],\"heatmap\":[{\"type\":\"heatmap\",\"colorbar\":{\"outlinewidth\":0,\"ticks\":\"\"},\"colorscale\":[[0.0,\"#0d0887\"],[0.1111111111111111,\"#46039f\"],[0.2222222222222222,\"#7201a8\"],[0.3333333333333333,\"#9c179e\"],[0.4444444444444444,\"#bd3786\"],[0.5555555555555556,\"#d8576b\"],[0.6666666666666666,\"#ed7953\"],[0.7777777777777778,\"#fb9f3a\"],[0.8888888888888888,\"#fdca26\"],[1.0,\"#f0f921\"]]}],\"heatmapgl\":[{\"type\":\"heatmapgl\",\"colorbar\":{\"outlinewidth\":0,\"ticks\":\"\"},\"colorscale\":[[0.0,\"#0d0887\"],[0.1111111111111111,\"#46039f\"],[0.2222222222222222,\"#7201a8\"],[0.3333333333333333,\"#9c179e\"],[0.4444444444444444,\"#bd3786\"],[0.5555555555555556,\"#d8576b\"],[0.6666666666666666,\"#ed7953\"],[0.7777777777777778,\"#fb9f3a\"],[0.8888888888888888,\"#fdca26\"],[1.0,\"#f0f921\"]]}],\"contourcarpet\":[{\"type\":\"contourcarpet\",\"colorbar\":{\"outlinewidth\":0,\"ticks\":\"\"}}],\"contour\":[{\"type\":\"contour\",\"colorbar\":{\"outlinewidth\":0,\"ticks\":\"\"},\"colorscale\":[[0.0,\"#0d0887\"],[0.1111111111111111,\"#46039f\"],[0.2222222222222222,\"#7201a8\"],[0.3333333333333333,\"#9c179e\"],[0.4444444444444444,\"#bd3786\"],[0.5555555555555556,\"#d8576b\"],[0.6666666666666666,\"#ed7953\"],[0.7777777777777778,\"#fb9f3a\"],[0.8888888888888888,\"#fdca26\"],[1.0,\"#f0f921\"]]}],\"surface\":[{\"type\":\"surface\",\"colorbar\":{\"outlinewidth\":0,\"ticks\":\"\"},\"colorscale\":[[0.0,\"#0d0887\"],[0.1111111111111111,\"#46039f\"],[0.2222222222222222,\"#7201a8\"],[0.3333333333333333,\"#9c179e\"],[0.4444444444444444,\"#bd3786\"],[0.5555555555555556,\"#d8576b\"],[0.6666666666666666,\"#ed7953\"],[0.7777777777777778,\"#fb9f3a\"],[0.8888888888888888,\"#fdca26\"],[1.0,\"#f0f921\"]]}],\"mesh3d\":[{\"type\":\"mesh3d\",\"colorbar\":{\"outlinewidth\":0,\"ticks\":\"\"}}],\"scatter\":[{\"fillpattern\":{\"fillmode\":\"overlay\",\"size\":10,\"solidity\":0.2},\"type\":\"scatter\"}],\"parcoords\":[{\"type\":\"parcoords\",\"line\":{\"colorbar\":{\"outlinewidth\":0,\"ticks\":\"\"}}}],\"scatterpolargl\":[{\"type\":\"scatterpolargl\",\"marker\":{\"colorbar\":{\"outlinewidth\":0,\"ticks\":\"\"}}}],\"bar\":[{\"error_x\":{\"color\":\"#2a3f5f\"},\"error_y\":{\"color\":\"#2a3f5f\"},\"marker\":{\"line\":{\"color\":\"#E5ECF6\",\"width\":0.5},\"pattern\":{\"fillmode\":\"overlay\",\"size\":10,\"solidity\":0.2}},\"type\":\"bar\"}],\"scattergeo\":[{\"type\":\"scattergeo\",\"marker\":{\"colorbar\":{\"outlinewidth\":0,\"ticks\":\"\"}}}],\"scatterpolar\":[{\"type\":\"scatterpolar\",\"marker\":{\"colorbar\":{\"outlinewidth\":0,\"ticks\":\"\"}}}],\"histogram\":[{\"marker\":{\"pattern\":{\"fillmode\":\"overlay\",\"size\":10,\"solidity\":0.2}},\"type\":\"histogram\"}],\"scattergl\":[{\"type\":\"scattergl\",\"marker\":{\"colorbar\":{\"outlinewidth\":0,\"ticks\":\"\"}}}],\"scatter3d\":[{\"type\":\"scatter3d\",\"line\":{\"colorbar\":{\"outlinewidth\":0,\"ticks\":\"\"}},\"marker\":{\"colorbar\":{\"outlinewidth\":0,\"ticks\":\"\"}}}],\"scattermapbox\":[{\"type\":\"scattermapbox\",\"marker\":{\"colorbar\":{\"outlinewidth\":0,\"ticks\":\"\"}}}],\"scatterternary\":[{\"type\":\"scatterternary\",\"marker\":{\"colorbar\":{\"outlinewidth\":0,\"ticks\":\"\"}}}],\"scattercarpet\":[{\"type\":\"scattercarpet\",\"marker\":{\"colorbar\":{\"outlinewidth\":0,\"ticks\":\"\"}}}],\"carpet\":[{\"aaxis\":{\"endlinecolor\":\"#2a3f5f\",\"gridcolor\":\"white\",\"linecolor\":\"white\",\"minorgridcolor\":\"white\",\"startlinecolor\":\"#2a3f5f\"},\"baxis\":{\"endlinecolor\":\"#2a3f5f\",\"gridcolor\":\"white\",\"linecolor\":\"white\",\"minorgridcolor\":\"white\",\"startlinecolor\":\"#2a3f5f\"},\"type\":\"carpet\"}],\"table\":[{\"cells\":{\"fill\":{\"color\":\"#EBF0F8\"},\"line\":{\"color\":\"white\"}},\"header\":{\"fill\":{\"color\":\"#C8D4E3\"},\"line\":{\"color\":\"white\"}},\"type\":\"table\"}],\"barpolar\":[{\"marker\":{\"line\":{\"color\":\"#E5ECF6\",\"width\":0.5},\"pattern\":{\"fillmode\":\"overlay\",\"size\":10,\"solidity\":0.2}},\"type\":\"barpolar\"}],\"pie\":[{\"automargin\":true,\"type\":\"pie\"}]},\"layout\":{\"autotypenumbers\":\"strict\",\"colorway\":[\"#636efa\",\"#EF553B\",\"#00cc96\",\"#ab63fa\",\"#FFA15A\",\"#19d3f3\",\"#FF6692\",\"#B6E880\",\"#FF97FF\",\"#FECB52\"],\"font\":{\"color\":\"#2a3f5f\"},\"hovermode\":\"closest\",\"hoverlabel\":{\"align\":\"left\"},\"paper_bgcolor\":\"white\",\"plot_bgcolor\":\"#E5ECF6\",\"polar\":{\"bgcolor\":\"#E5ECF6\",\"angularaxis\":{\"gridcolor\":\"white\",\"linecolor\":\"white\",\"ticks\":\"\"},\"radialaxis\":{\"gridcolor\":\"white\",\"linecolor\":\"white\",\"ticks\":\"\"}},\"ternary\":{\"bgcolor\":\"#E5ECF6\",\"aaxis\":{\"gridcolor\":\"white\",\"linecolor\":\"white\",\"ticks\":\"\"},\"baxis\":{\"gridcolor\":\"white\",\"linecolor\":\"white\",\"ticks\":\"\"},\"caxis\":{\"gridcolor\":\"white\",\"linecolor\":\"white\",\"ticks\":\"\"}},\"coloraxis\":{\"colorbar\":{\"outlinewidth\":0,\"ticks\":\"\"}},\"colorscale\":{\"sequential\":[[0.0,\"#0d0887\"],[0.1111111111111111,\"#46039f\"],[0.2222222222222222,\"#7201a8\"],[0.3333333333333333,\"#9c179e\"],[0.4444444444444444,\"#bd3786\"],[0.5555555555555556,\"#d8576b\"],[0.6666666666666666,\"#ed7953\"],[0.7777777777777778,\"#fb9f3a\"],[0.8888888888888888,\"#fdca26\"],[1.0,\"#f0f921\"]],\"sequentialminus\":[[0.0,\"#0d0887\"],[0.1111111111111111,\"#46039f\"],[0.2222222222222222,\"#7201a8\"],[0.3333333333333333,\"#9c179e\"],[0.4444444444444444,\"#bd3786\"],[0.5555555555555556,\"#d8576b\"],[0.6666666666666666,\"#ed7953\"],[0.7777777777777778,\"#fb9f3a\"],[0.8888888888888888,\"#fdca26\"],[1.0,\"#f0f921\"]],\"diverging\":[[0,\"#8e0152\"],[0.1,\"#c51b7d\"],[0.2,\"#de77ae\"],[0.3,\"#f1b6da\"],[0.4,\"#fde0ef\"],[0.5,\"#f7f7f7\"],[0.6,\"#e6f5d0\"],[0.7,\"#b8e186\"],[0.8,\"#7fbc41\"],[0.9,\"#4d9221\"],[1,\"#276419\"]]},\"xaxis\":{\"gridcolor\":\"white\",\"linecolor\":\"white\",\"ticks\":\"\",\"title\":{\"standoff\":15},\"zerolinecolor\":\"white\",\"automargin\":true,\"zerolinewidth\":2},\"yaxis\":{\"gridcolor\":\"white\",\"linecolor\":\"white\",\"ticks\":\"\",\"title\":{\"standoff\":15},\"zerolinecolor\":\"white\",\"automargin\":true,\"zerolinewidth\":2},\"scene\":{\"xaxis\":{\"backgroundcolor\":\"#E5ECF6\",\"gridcolor\":\"white\",\"linecolor\":\"white\",\"showbackground\":true,\"ticks\":\"\",\"zerolinecolor\":\"white\",\"gridwidth\":2},\"yaxis\":{\"backgroundcolor\":\"#E5ECF6\",\"gridcolor\":\"white\",\"linecolor\":\"white\",\"showbackground\":true,\"ticks\":\"\",\"zerolinecolor\":\"white\",\"gridwidth\":2},\"zaxis\":{\"backgroundcolor\":\"#E5ECF6\",\"gridcolor\":\"white\",\"linecolor\":\"white\",\"showbackground\":true,\"ticks\":\"\",\"zerolinecolor\":\"white\",\"gridwidth\":2}},\"shapedefaults\":{\"line\":{\"color\":\"#2a3f5f\"}},\"annotationdefaults\":{\"arrowcolor\":\"#2a3f5f\",\"arrowhead\":0,\"arrowwidth\":1},\"geo\":{\"bgcolor\":\"white\",\"landcolor\":\"#E5ECF6\",\"subunitcolor\":\"white\",\"showland\":true,\"showlakes\":true,\"lakecolor\":\"white\"},\"title\":{\"x\":0.05},\"mapbox\":{\"style\":\"light\"}}},\"xaxis\":{\"anchor\":\"y\",\"domain\":[0.0,1.0],\"title\":{\"text\":\"\"}},\"yaxis\":{\"anchor\":\"x\",\"domain\":[0.0,1.0],\"title\":{\"text\":\"Weekly electricity flow in MWh\"}},\"legend\":{\"title\":{\"text\":\"Flow direction\"},\"tracegroupgap\":0,\"yanchor\":\"top\",\"y\":0.99,\"xanchor\":\"center\",\"x\":0.68},\"margin\":{\"t\":0,\"l\":0,\"r\":0,\"b\":0,\"pad\":0},\"barmode\":\"relative\",\"autosize\":true,\"annotations\":[{\"arrowhead\":1,\"ax\":-100,\"axref\":\"x domain\",\"ay\":-120000.0,\"ayref\":\"y\",\"showarrow\":true,\"text\":\"10.10.22: Campaign against energy infrastructure begins\",\"x\":\"2022-10-10T00:00:00\",\"y\":0}],\"shapes\":[{\"line\":{\"color\":\"purple\",\"dash\":\"dash\",\"width\":3},\"type\":\"line\",\"x0\":\"2022-02-24T00:00:00\",\"x1\":\"2022-02-24T00:00:00\",\"xref\":\"x\",\"y0\":0,\"y1\":1,\"yref\":\"y domain\"}]},                        {\"responsive\": true}                    ).then(function(){\n",
       "                            \n",
       "var gd = document.getElementById('8c9b9a1c-4ec1-4142-9e35-28c3449e397e');\n",
       "var x = new MutationObserver(function (mutations, observer) {{\n",
       "        var display = window.getComputedStyle(gd).display;\n",
       "        if (!display || display === 'none') {{\n",
       "            console.log([gd, 'removed!']);\n",
       "            Plotly.purge(gd);\n",
       "            observer.disconnect();\n",
       "        }}\n",
       "}});\n",
       "\n",
       "// Listen for the removal of the full notebook cells\n",
       "var notebookContainer = gd.closest('#notebook-container');\n",
       "if (notebookContainer) {{\n",
       "    x.observe(notebookContainer, {childList: true});\n",
       "}}\n",
       "\n",
       "// Listen for the clearing of the current output cell\n",
       "var outputEl = gd.closest('.output');\n",
       "if (outputEl) {{\n",
       "    x.observe(outputEl, {childList: true});\n",
       "}}\n",
       "\n",
       "                        })                };                });            </script>        </div>"
      ]
     },
     "metadata": {},
     "output_type": "display_data"
    }
   ],
   "source": [
    "fig = px.bar(\n",
    "    pd.DataFrame({\n",
    "        'Imports': ukraine_imports.apply(lambda x: sum(-x), axis=1),\n",
    "        'Exports': ukraine_exports.apply(sum, axis=1),\n",
    "    }).resample('1w').sum(),\n",
    "    labels={\n",
    "        'value': 'Weekly electricity flow in MWh',\n",
    "        'variable': 'Flow direction',\n",
    "        'index': '',\n",
    "    },\n",
    "    # category_orders={'Flow direction': ['Exports', 'Imports']},\n",
    ")\n",
    "fig.update_layout(**plotly_config)\n",
    "fig.update_layout(legend=dict(\n",
    "    yanchor=\"top\",\n",
    "    y=0.99,\n",
    "    xanchor=\"center\",\n",
    "    x=0.68,\n",
    "))\n",
    "fig.add_trace(\n",
    "    go.Scatter(\n",
    "        y=ukraine_net.apply(sum, axis=1).resample('1w').sum(),\n",
    "        x=ukraine_net.apply(sum, axis=1).resample('1w').sum().index,\n",
    "        name='Net',\n",
    "        line_color='#313131',\n",
    "        line_width=2,\n",
    "    ),\n",
    ")\n",
    "fig.add_annotation( # add a text callout with arrow\n",
    "    text=\"10.10.22: Campaign against energy infrastructure begins\",\n",
    "    x=pd.to_datetime('2022-10-10'),\n",
    "    y=0,\n",
    "    axref=\"x domain\",\n",
    "    ayref=\"y\",\n",
    "    ax=-100,\n",
    "    ay=(-1.2) * 10e4,\n",
    "    arrowhead=1,\n",
    "    showarrow=True,\n",
    "    #bordercolor=\"#c7c7c7\",\n",
    "    #borderwidth=2,\n",
    "    #borderpad=4,\n",
    "    #bgcolor=\"#ff7f0e\",\n",
    "    #opacity=0.8\n",
    ")\n",
    "fig.add_vline(x=pd.to_datetime('2022-02-24'), line_width=3, line_dash=\"dash\", line_color=\"purple\")\n",
    "_filename = 'entso_e-ukraine-electricity-combined_weekly'\n",
    "fig.write_image(f'{_filename}.svg')\n",
    "fig.write_image(f'{_filename}.png')\n",
    "fig.show()"
   ]
  },
  {
   "cell_type": "code",
   "execution_count": 68,
   "id": "dd91b6e4",
   "metadata": {},
   "outputs": [
    {
     "data": {
      "application/vnd.plotly.v1+json": {
       "config": {
        "plotlyServerURL": "https://plot.ly"
       },
       "data": [
        {
         "hovertemplate": "variable=HU<br>index=%{x}<br>value=%{y}<extra></extra>",
         "legendgroup": "HU",
         "line": {
          "color": "#636efa",
          "dash": "solid"
         },
         "marker": {
          "symbol": "circle"
         },
         "mode": "lines",
         "name": "HU",
         "orientation": "v",
         "showlegend": true,
         "type": "scatter",
         "x": [
          "2022-02-06T00:00:00+02:00",
          "2022-02-13T00:00:00+02:00",
          "2022-02-20T00:00:00+02:00",
          "2022-02-27T00:00:00+02:00",
          "2022-03-06T00:00:00+02:00",
          "2022-03-13T00:00:00+02:00",
          "2022-03-20T00:00:00+02:00",
          "2022-03-27T00:00:00+02:00",
          "2022-04-03T00:00:00+03:00",
          "2022-04-10T00:00:00+03:00",
          "2022-04-17T00:00:00+03:00",
          "2022-04-24T00:00:00+03:00",
          "2022-05-01T00:00:00+03:00",
          "2022-05-08T00:00:00+03:00",
          "2022-05-15T00:00:00+03:00",
          "2022-05-22T00:00:00+03:00",
          "2022-05-29T00:00:00+03:00",
          "2022-06-05T00:00:00+03:00",
          "2022-06-12T00:00:00+03:00",
          "2022-06-19T00:00:00+03:00",
          "2022-06-26T00:00:00+03:00",
          "2022-07-03T00:00:00+03:00",
          "2022-07-10T00:00:00+03:00",
          "2022-07-17T00:00:00+03:00",
          "2022-07-24T00:00:00+03:00",
          "2022-07-31T00:00:00+03:00",
          "2022-08-07T00:00:00+03:00",
          "2022-08-14T00:00:00+03:00",
          "2022-08-21T00:00:00+03:00",
          "2022-08-28T00:00:00+03:00",
          "2022-09-04T00:00:00+03:00",
          "2022-09-11T00:00:00+03:00",
          "2022-09-18T00:00:00+03:00",
          "2022-09-25T00:00:00+03:00",
          "2022-10-02T00:00:00+03:00",
          "2022-10-09T00:00:00+03:00",
          "2022-10-16T00:00:00+03:00",
          "2022-10-23T00:00:00+03:00",
          "2022-10-30T00:00:00+03:00",
          "2022-11-06T00:00:00+02:00",
          "2022-11-13T00:00:00+02:00",
          "2022-11-20T00:00:00+02:00",
          "2022-11-27T00:00:00+02:00",
          "2022-12-04T00:00:00+02:00",
          "2022-12-11T00:00:00+02:00",
          "2022-12-18T00:00:00+02:00",
          "2022-12-25T00:00:00+02:00",
          "2023-01-01T00:00:00+02:00",
          "2023-01-08T00:00:00+02:00",
          "2023-01-15T00:00:00+02:00",
          "2023-01-22T00:00:00+02:00",
          "2023-01-29T00:00:00+02:00",
          "2023-02-05T00:00:00+02:00",
          "2023-02-12T00:00:00+02:00",
          "2023-02-19T00:00:00+02:00",
          "2023-02-26T00:00:00+02:00",
          "2023-03-05T00:00:00+02:00",
          "2023-03-12T00:00:00+02:00",
          "2023-03-19T00:00:00+02:00",
          "2023-03-26T00:00:00+02:00",
          "2023-04-02T00:00:00+03:00"
         ],
         "xaxis": "x",
         "y": [
          58362,
          76871,
          76221,
          46365,
          27249,
          24092,
          46436,
          73478,
          87333,
          68335,
          62923,
          48484,
          57206,
          46046,
          3574,
          31265,
          19037,
          33986,
          21763,
          49794,
          69949,
          64992,
          65735,
          74530,
          85141,
          59932,
          73954,
          91991,
          84031,
          76963,
          87810,
          87543,
          83824,
          65899,
          69658,
          40618,
          37099,
          39000,
          33639,
          26260,
          39447,
          42874,
          57927,
          71198,
          73253,
          72276,
          74063,
          29461,
          59058,
          52360,
          80703,
          78044,
          38511,
          43177,
          69962,
          93072,
          58965,
          77932,
          67684,
          35887,
          40055
         ],
         "yaxis": "y"
        },
        {
         "hovertemplate": "variable=MD<br>index=%{x}<br>value=%{y}<extra></extra>",
         "legendgroup": "MD",
         "line": {
          "color": "#EF553B",
          "dash": "solid"
         },
         "marker": {
          "symbol": "circle"
         },
         "mode": "lines",
         "name": "MD",
         "orientation": "v",
         "showlegend": true,
         "type": "scatter",
         "x": [
          "2022-02-06T00:00:00+02:00",
          "2022-02-13T00:00:00+02:00",
          "2022-02-20T00:00:00+02:00",
          "2022-02-27T00:00:00+02:00",
          "2022-03-06T00:00:00+02:00",
          "2022-03-13T00:00:00+02:00",
          "2022-03-20T00:00:00+02:00",
          "2022-03-27T00:00:00+02:00",
          "2022-04-03T00:00:00+03:00",
          "2022-04-10T00:00:00+03:00",
          "2022-04-17T00:00:00+03:00",
          "2022-04-24T00:00:00+03:00",
          "2022-05-01T00:00:00+03:00",
          "2022-05-08T00:00:00+03:00",
          "2022-05-15T00:00:00+03:00",
          "2022-05-22T00:00:00+03:00",
          "2022-05-29T00:00:00+03:00",
          "2022-06-05T00:00:00+03:00",
          "2022-06-12T00:00:00+03:00",
          "2022-06-19T00:00:00+03:00",
          "2022-06-26T00:00:00+03:00",
          "2022-07-03T00:00:00+03:00",
          "2022-07-10T00:00:00+03:00",
          "2022-07-17T00:00:00+03:00",
          "2022-07-24T00:00:00+03:00",
          "2022-07-31T00:00:00+03:00",
          "2022-08-07T00:00:00+03:00",
          "2022-08-14T00:00:00+03:00",
          "2022-08-21T00:00:00+03:00",
          "2022-08-28T00:00:00+03:00",
          "2022-09-04T00:00:00+03:00",
          "2022-09-11T00:00:00+03:00",
          "2022-09-18T00:00:00+03:00",
          "2022-09-25T00:00:00+03:00",
          "2022-10-02T00:00:00+03:00",
          "2022-10-09T00:00:00+03:00",
          "2022-10-16T00:00:00+03:00",
          "2022-10-23T00:00:00+03:00",
          "2022-10-30T00:00:00+03:00",
          "2022-11-06T00:00:00+02:00",
          "2022-11-13T00:00:00+02:00",
          "2022-11-20T00:00:00+02:00",
          "2022-11-27T00:00:00+02:00",
          "2022-12-04T00:00:00+02:00",
          "2022-12-11T00:00:00+02:00",
          "2022-12-18T00:00:00+02:00",
          "2022-12-25T00:00:00+02:00",
          "2023-01-01T00:00:00+02:00",
          "2023-01-08T00:00:00+02:00",
          "2023-01-15T00:00:00+02:00",
          "2023-01-22T00:00:00+02:00",
          "2023-01-29T00:00:00+02:00",
          "2023-02-05T00:00:00+02:00",
          "2023-02-12T00:00:00+02:00",
          "2023-02-19T00:00:00+02:00",
          "2023-02-26T00:00:00+02:00",
          "2023-03-05T00:00:00+02:00",
          "2023-03-12T00:00:00+02:00",
          "2023-03-19T00:00:00+02:00",
          "2023-03-26T00:00:00+02:00",
          "2023-04-02T00:00:00+03:00"
         ],
         "xaxis": "x",
         "y": [
          1809,
          2840,
          2089,
          1231,
          625,
          806,
          763,
          0,
          55,
          576,
          2304,
          4138,
          842,
          1063,
          15417,
          12012,
          29336,
          16153,
          20973,
          4360,
          4834,
          3680,
          2592,
          1821,
          1113,
          4544,
          7945,
          6645,
          2614,
          8822,
          6667,
          654,
          9490,
          12324,
          7713,
          14429,
          2895,
          538,
          3100,
          3567,
          1555,
          4605,
          0,
          3,
          0,
          324,
          634,
          3436,
          64,
          404,
          0,
          0,
          0,
          630,
          25,
          44,
          287,
          73,
          366,
          1236,
          1020
         ],
         "yaxis": "y"
        },
        {
         "hovertemplate": "variable=PL<br>index=%{x}<br>value=%{y}<extra></extra>",
         "legendgroup": "PL",
         "line": {
          "color": "#00cc96",
          "dash": "solid"
         },
         "marker": {
          "symbol": "circle"
         },
         "mode": "lines",
         "name": "PL",
         "orientation": "v",
         "showlegend": true,
         "type": "scatter",
         "x": [
          "2022-02-06T00:00:00+02:00",
          "2022-02-13T00:00:00+02:00",
          "2022-02-20T00:00:00+02:00",
          "2022-02-27T00:00:00+02:00",
          "2022-03-06T00:00:00+02:00",
          "2022-03-13T00:00:00+02:00",
          "2022-03-20T00:00:00+02:00",
          "2022-03-27T00:00:00+02:00",
          "2022-04-03T00:00:00+03:00",
          "2022-04-10T00:00:00+03:00",
          "2022-04-17T00:00:00+03:00",
          "2022-04-24T00:00:00+03:00",
          "2022-05-01T00:00:00+03:00",
          "2022-05-08T00:00:00+03:00",
          "2022-05-15T00:00:00+03:00",
          "2022-05-22T00:00:00+03:00",
          "2022-05-29T00:00:00+03:00",
          "2022-06-05T00:00:00+03:00",
          "2022-06-12T00:00:00+03:00",
          "2022-06-19T00:00:00+03:00",
          "2022-06-26T00:00:00+03:00",
          "2022-07-03T00:00:00+03:00",
          "2022-07-10T00:00:00+03:00",
          "2022-07-17T00:00:00+03:00",
          "2022-07-24T00:00:00+03:00",
          "2022-07-31T00:00:00+03:00",
          "2022-08-07T00:00:00+03:00",
          "2022-08-14T00:00:00+03:00",
          "2022-08-21T00:00:00+03:00",
          "2022-08-28T00:00:00+03:00",
          "2022-09-04T00:00:00+03:00",
          "2022-09-11T00:00:00+03:00",
          "2022-09-18T00:00:00+03:00",
          "2022-09-25T00:00:00+03:00",
          "2022-10-02T00:00:00+03:00",
          "2022-10-09T00:00:00+03:00",
          "2022-10-16T00:00:00+03:00",
          "2022-10-23T00:00:00+03:00",
          "2022-10-30T00:00:00+03:00",
          "2022-11-06T00:00:00+02:00",
          "2022-11-13T00:00:00+02:00",
          "2022-11-20T00:00:00+02:00",
          "2022-11-27T00:00:00+02:00",
          "2022-12-04T00:00:00+02:00",
          "2022-12-11T00:00:00+02:00",
          "2022-12-18T00:00:00+02:00",
          "2022-12-25T00:00:00+02:00",
          "2023-01-01T00:00:00+02:00",
          "2023-01-08T00:00:00+02:00",
          "2023-01-15T00:00:00+02:00",
          "2023-01-22T00:00:00+02:00",
          "2023-01-29T00:00:00+02:00",
          "2023-02-05T00:00:00+02:00",
          "2023-02-12T00:00:00+02:00",
          "2023-02-19T00:00:00+02:00",
          "2023-02-26T00:00:00+02:00",
          "2023-03-05T00:00:00+02:00",
          "2023-03-12T00:00:00+02:00",
          "2023-03-19T00:00:00+02:00",
          "2023-03-26T00:00:00+02:00",
          "2023-04-02T00:00:00+03:00"
         ],
         "xaxis": "x",
         "y": [
          23047,
          35854,
          36054,
          10105,
          0,
          0,
          0,
          0,
          23779,
          32567,
          23549,
          26457,
          28128,
          25285,
          34787,
          36496,
          36500,
          36399,
          36503,
          35309,
          36388,
          34765,
          32513,
          34697,
          34915,
          34863,
          35584,
          36506,
          34451,
          36467,
          34235,
          36423,
          22366,
          29652,
          36564,
          36836,
          5538,
          0,
          0,
          0,
          0,
          0,
          0,
          0,
          0,
          0,
          0,
          0,
          0,
          0,
          0,
          0,
          0,
          0,
          0,
          0,
          0,
          0,
          0,
          0,
          0
         ],
         "yaxis": "y"
        },
        {
         "hovertemplate": "variable=RO<br>index=%{x}<br>value=%{y}<extra></extra>",
         "legendgroup": "RO",
         "line": {
          "color": "#ab63fa",
          "dash": "solid"
         },
         "marker": {
          "symbol": "circle"
         },
         "mode": "lines",
         "name": "RO",
         "orientation": "v",
         "showlegend": true,
         "type": "scatter",
         "x": [
          "2022-02-06T00:00:00+02:00",
          "2022-02-13T00:00:00+02:00",
          "2022-02-20T00:00:00+02:00",
          "2022-02-27T00:00:00+02:00",
          "2022-03-06T00:00:00+02:00",
          "2022-03-13T00:00:00+02:00",
          "2022-03-20T00:00:00+02:00",
          "2022-03-27T00:00:00+02:00",
          "2022-04-03T00:00:00+03:00",
          "2022-04-10T00:00:00+03:00",
          "2022-04-17T00:00:00+03:00",
          "2022-04-24T00:00:00+03:00",
          "2022-05-01T00:00:00+03:00",
          "2022-05-08T00:00:00+03:00",
          "2022-05-15T00:00:00+03:00",
          "2022-05-22T00:00:00+03:00",
          "2022-05-29T00:00:00+03:00",
          "2022-06-05T00:00:00+03:00",
          "2022-06-12T00:00:00+03:00",
          "2022-06-19T00:00:00+03:00",
          "2022-06-26T00:00:00+03:00",
          "2022-07-03T00:00:00+03:00",
          "2022-07-10T00:00:00+03:00",
          "2022-07-17T00:00:00+03:00",
          "2022-07-24T00:00:00+03:00",
          "2022-07-31T00:00:00+03:00",
          "2022-08-07T00:00:00+03:00",
          "2022-08-14T00:00:00+03:00",
          "2022-08-21T00:00:00+03:00",
          "2022-08-28T00:00:00+03:00",
          "2022-09-04T00:00:00+03:00",
          "2022-09-11T00:00:00+03:00",
          "2022-09-18T00:00:00+03:00",
          "2022-09-25T00:00:00+03:00",
          "2022-10-02T00:00:00+03:00",
          "2022-10-09T00:00:00+03:00",
          "2022-10-16T00:00:00+03:00",
          "2022-10-23T00:00:00+03:00",
          "2022-10-30T00:00:00+03:00",
          "2022-11-06T00:00:00+02:00",
          "2022-11-13T00:00:00+02:00",
          "2022-11-20T00:00:00+02:00",
          "2022-11-27T00:00:00+02:00",
          "2022-12-04T00:00:00+02:00",
          "2022-12-11T00:00:00+02:00",
          "2022-12-18T00:00:00+02:00",
          "2022-12-25T00:00:00+02:00",
          "2023-01-01T00:00:00+02:00",
          "2023-01-08T00:00:00+02:00",
          "2023-01-15T00:00:00+02:00",
          "2023-01-22T00:00:00+02:00",
          "2023-01-29T00:00:00+02:00",
          "2023-02-05T00:00:00+02:00",
          "2023-02-12T00:00:00+02:00",
          "2023-02-19T00:00:00+02:00",
          "2023-02-26T00:00:00+02:00",
          "2023-03-05T00:00:00+02:00",
          "2023-03-12T00:00:00+02:00",
          "2023-03-19T00:00:00+02:00",
          "2023-03-26T00:00:00+02:00",
          "2023-04-02T00:00:00+03:00"
         ],
         "xaxis": "x",
         "y": [
          62265,
          58673,
          66743,
          38161,
          15558,
          27228,
          51565,
          30772,
          13720,
          32655,
          21895,
          45309,
          13140,
          13660,
          23421,
          23354,
          33265,
          26139,
          24244,
          9945,
          10356,
          9117,
          12802,
          11974,
          14817,
          30588,
          23112,
          24012,
          14413,
          17925,
          15677,
          14258,
          14442,
          24347,
          33336,
          50232,
          60097,
          54083,
          56519,
          38840,
          39255,
          22527,
          10499,
          16968,
          8763,
          10432,
          23644,
          58714,
          47815,
          48935,
          1675,
          2054,
          14844,
          26622,
          36925,
          13395,
          22887,
          4435,
          14090,
          29241,
          11039
         ],
         "yaxis": "y"
        },
        {
         "hovertemplate": "variable=SK<br>index=%{x}<br>value=%{y}<extra></extra>",
         "legendgroup": "SK",
         "line": {
          "color": "#FFA15A",
          "dash": "solid"
         },
         "marker": {
          "symbol": "circle"
         },
         "mode": "lines",
         "name": "SK",
         "orientation": "v",
         "showlegend": true,
         "type": "scatter",
         "x": [
          "2022-02-06T00:00:00+02:00",
          "2022-02-13T00:00:00+02:00",
          "2022-02-20T00:00:00+02:00",
          "2022-02-27T00:00:00+02:00",
          "2022-03-06T00:00:00+02:00",
          "2022-03-13T00:00:00+02:00",
          "2022-03-20T00:00:00+02:00",
          "2022-03-27T00:00:00+02:00",
          "2022-04-03T00:00:00+03:00",
          "2022-04-10T00:00:00+03:00",
          "2022-04-17T00:00:00+03:00",
          "2022-04-24T00:00:00+03:00",
          "2022-05-01T00:00:00+03:00",
          "2022-05-08T00:00:00+03:00",
          "2022-05-15T00:00:00+03:00",
          "2022-05-22T00:00:00+03:00",
          "2022-05-29T00:00:00+03:00",
          "2022-06-05T00:00:00+03:00",
          "2022-06-12T00:00:00+03:00",
          "2022-06-19T00:00:00+03:00",
          "2022-06-26T00:00:00+03:00",
          "2022-07-03T00:00:00+03:00",
          "2022-07-10T00:00:00+03:00",
          "2022-07-17T00:00:00+03:00",
          "2022-07-24T00:00:00+03:00",
          "2022-07-31T00:00:00+03:00",
          "2022-08-07T00:00:00+03:00",
          "2022-08-14T00:00:00+03:00",
          "2022-08-21T00:00:00+03:00",
          "2022-08-28T00:00:00+03:00",
          "2022-09-04T00:00:00+03:00",
          "2022-09-11T00:00:00+03:00",
          "2022-09-18T00:00:00+03:00",
          "2022-09-25T00:00:00+03:00",
          "2022-10-02T00:00:00+03:00",
          "2022-10-09T00:00:00+03:00",
          "2022-10-16T00:00:00+03:00",
          "2022-10-23T00:00:00+03:00",
          "2022-10-30T00:00:00+03:00",
          "2022-11-06T00:00:00+02:00",
          "2022-11-13T00:00:00+02:00",
          "2022-11-20T00:00:00+02:00",
          "2022-11-27T00:00:00+02:00",
          "2022-12-04T00:00:00+02:00",
          "2022-12-11T00:00:00+02:00",
          "2022-12-18T00:00:00+02:00",
          "2022-12-25T00:00:00+02:00",
          "2023-01-01T00:00:00+02:00",
          "2023-01-08T00:00:00+02:00",
          "2023-01-15T00:00:00+02:00",
          "2023-01-22T00:00:00+02:00",
          "2023-01-29T00:00:00+02:00",
          "2023-02-05T00:00:00+02:00",
          "2023-02-12T00:00:00+02:00",
          "2023-02-19T00:00:00+02:00",
          "2023-02-26T00:00:00+02:00",
          "2023-03-05T00:00:00+02:00",
          "2023-03-12T00:00:00+02:00",
          "2023-03-19T00:00:00+02:00",
          "2023-03-26T00:00:00+02:00",
          "2023-04-02T00:00:00+03:00"
         ],
         "xaxis": "x",
         "y": [
          47,
          0,
          0,
          0,
          226,
          36,
          7,
          377,
          3367,
          120,
          1939,
          56,
          3550,
          339,
          0,
          0,
          3,
          0,
          665,
          736,
          1092,
          470,
          33,
          0,
          0,
          0,
          0,
          0,
          0,
          0,
          0,
          0,
          0,
          524,
          8988,
          314,
          47,
          1999,
          7,
          0,
          0,
          2793,
          8933,
          2559,
          14717,
          14094,
          3407,
          19,
          6,
          3031,
          21023,
          8292,
          4685,
          5281,
          1307,
          10763,
          4440,
          30948,
          15147,
          9028,
          14074
         ],
         "yaxis": "y"
        }
       ],
       "layout": {
        "legend": {
         "title": {
          "text": "variable"
         },
         "tracegroupgap": 0
        },
        "margin": {
         "t": 60
        },
        "template": {
         "data": {
          "bar": [
           {
            "error_x": {
             "color": "#2a3f5f"
            },
            "error_y": {
             "color": "#2a3f5f"
            },
            "marker": {
             "line": {
              "color": "#E5ECF6",
              "width": 0.5
             },
             "pattern": {
              "fillmode": "overlay",
              "size": 10,
              "solidity": 0.2
             }
            },
            "type": "bar"
           }
          ],
          "barpolar": [
           {
            "marker": {
             "line": {
              "color": "#E5ECF6",
              "width": 0.5
             },
             "pattern": {
              "fillmode": "overlay",
              "size": 10,
              "solidity": 0.2
             }
            },
            "type": "barpolar"
           }
          ],
          "carpet": [
           {
            "aaxis": {
             "endlinecolor": "#2a3f5f",
             "gridcolor": "white",
             "linecolor": "white",
             "minorgridcolor": "white",
             "startlinecolor": "#2a3f5f"
            },
            "baxis": {
             "endlinecolor": "#2a3f5f",
             "gridcolor": "white",
             "linecolor": "white",
             "minorgridcolor": "white",
             "startlinecolor": "#2a3f5f"
            },
            "type": "carpet"
           }
          ],
          "choropleth": [
           {
            "colorbar": {
             "outlinewidth": 0,
             "ticks": ""
            },
            "type": "choropleth"
           }
          ],
          "contour": [
           {
            "colorbar": {
             "outlinewidth": 0,
             "ticks": ""
            },
            "colorscale": [
             [
              0,
              "#0d0887"
             ],
             [
              0.1111111111111111,
              "#46039f"
             ],
             [
              0.2222222222222222,
              "#7201a8"
             ],
             [
              0.3333333333333333,
              "#9c179e"
             ],
             [
              0.4444444444444444,
              "#bd3786"
             ],
             [
              0.5555555555555556,
              "#d8576b"
             ],
             [
              0.6666666666666666,
              "#ed7953"
             ],
             [
              0.7777777777777778,
              "#fb9f3a"
             ],
             [
              0.8888888888888888,
              "#fdca26"
             ],
             [
              1,
              "#f0f921"
             ]
            ],
            "type": "contour"
           }
          ],
          "contourcarpet": [
           {
            "colorbar": {
             "outlinewidth": 0,
             "ticks": ""
            },
            "type": "contourcarpet"
           }
          ],
          "heatmap": [
           {
            "colorbar": {
             "outlinewidth": 0,
             "ticks": ""
            },
            "colorscale": [
             [
              0,
              "#0d0887"
             ],
             [
              0.1111111111111111,
              "#46039f"
             ],
             [
              0.2222222222222222,
              "#7201a8"
             ],
             [
              0.3333333333333333,
              "#9c179e"
             ],
             [
              0.4444444444444444,
              "#bd3786"
             ],
             [
              0.5555555555555556,
              "#d8576b"
             ],
             [
              0.6666666666666666,
              "#ed7953"
             ],
             [
              0.7777777777777778,
              "#fb9f3a"
             ],
             [
              0.8888888888888888,
              "#fdca26"
             ],
             [
              1,
              "#f0f921"
             ]
            ],
            "type": "heatmap"
           }
          ],
          "heatmapgl": [
           {
            "colorbar": {
             "outlinewidth": 0,
             "ticks": ""
            },
            "colorscale": [
             [
              0,
              "#0d0887"
             ],
             [
              0.1111111111111111,
              "#46039f"
             ],
             [
              0.2222222222222222,
              "#7201a8"
             ],
             [
              0.3333333333333333,
              "#9c179e"
             ],
             [
              0.4444444444444444,
              "#bd3786"
             ],
             [
              0.5555555555555556,
              "#d8576b"
             ],
             [
              0.6666666666666666,
              "#ed7953"
             ],
             [
              0.7777777777777778,
              "#fb9f3a"
             ],
             [
              0.8888888888888888,
              "#fdca26"
             ],
             [
              1,
              "#f0f921"
             ]
            ],
            "type": "heatmapgl"
           }
          ],
          "histogram": [
           {
            "marker": {
             "pattern": {
              "fillmode": "overlay",
              "size": 10,
              "solidity": 0.2
             }
            },
            "type": "histogram"
           }
          ],
          "histogram2d": [
           {
            "colorbar": {
             "outlinewidth": 0,
             "ticks": ""
            },
            "colorscale": [
             [
              0,
              "#0d0887"
             ],
             [
              0.1111111111111111,
              "#46039f"
             ],
             [
              0.2222222222222222,
              "#7201a8"
             ],
             [
              0.3333333333333333,
              "#9c179e"
             ],
             [
              0.4444444444444444,
              "#bd3786"
             ],
             [
              0.5555555555555556,
              "#d8576b"
             ],
             [
              0.6666666666666666,
              "#ed7953"
             ],
             [
              0.7777777777777778,
              "#fb9f3a"
             ],
             [
              0.8888888888888888,
              "#fdca26"
             ],
             [
              1,
              "#f0f921"
             ]
            ],
            "type": "histogram2d"
           }
          ],
          "histogram2dcontour": [
           {
            "colorbar": {
             "outlinewidth": 0,
             "ticks": ""
            },
            "colorscale": [
             [
              0,
              "#0d0887"
             ],
             [
              0.1111111111111111,
              "#46039f"
             ],
             [
              0.2222222222222222,
              "#7201a8"
             ],
             [
              0.3333333333333333,
              "#9c179e"
             ],
             [
              0.4444444444444444,
              "#bd3786"
             ],
             [
              0.5555555555555556,
              "#d8576b"
             ],
             [
              0.6666666666666666,
              "#ed7953"
             ],
             [
              0.7777777777777778,
              "#fb9f3a"
             ],
             [
              0.8888888888888888,
              "#fdca26"
             ],
             [
              1,
              "#f0f921"
             ]
            ],
            "type": "histogram2dcontour"
           }
          ],
          "mesh3d": [
           {
            "colorbar": {
             "outlinewidth": 0,
             "ticks": ""
            },
            "type": "mesh3d"
           }
          ],
          "parcoords": [
           {
            "line": {
             "colorbar": {
              "outlinewidth": 0,
              "ticks": ""
             }
            },
            "type": "parcoords"
           }
          ],
          "pie": [
           {
            "automargin": true,
            "type": "pie"
           }
          ],
          "scatter": [
           {
            "fillpattern": {
             "fillmode": "overlay",
             "size": 10,
             "solidity": 0.2
            },
            "type": "scatter"
           }
          ],
          "scatter3d": [
           {
            "line": {
             "colorbar": {
              "outlinewidth": 0,
              "ticks": ""
             }
            },
            "marker": {
             "colorbar": {
              "outlinewidth": 0,
              "ticks": ""
             }
            },
            "type": "scatter3d"
           }
          ],
          "scattercarpet": [
           {
            "marker": {
             "colorbar": {
              "outlinewidth": 0,
              "ticks": ""
             }
            },
            "type": "scattercarpet"
           }
          ],
          "scattergeo": [
           {
            "marker": {
             "colorbar": {
              "outlinewidth": 0,
              "ticks": ""
             }
            },
            "type": "scattergeo"
           }
          ],
          "scattergl": [
           {
            "marker": {
             "colorbar": {
              "outlinewidth": 0,
              "ticks": ""
             }
            },
            "type": "scattergl"
           }
          ],
          "scattermapbox": [
           {
            "marker": {
             "colorbar": {
              "outlinewidth": 0,
              "ticks": ""
             }
            },
            "type": "scattermapbox"
           }
          ],
          "scatterpolar": [
           {
            "marker": {
             "colorbar": {
              "outlinewidth": 0,
              "ticks": ""
             }
            },
            "type": "scatterpolar"
           }
          ],
          "scatterpolargl": [
           {
            "marker": {
             "colorbar": {
              "outlinewidth": 0,
              "ticks": ""
             }
            },
            "type": "scatterpolargl"
           }
          ],
          "scatterternary": [
           {
            "marker": {
             "colorbar": {
              "outlinewidth": 0,
              "ticks": ""
             }
            },
            "type": "scatterternary"
           }
          ],
          "surface": [
           {
            "colorbar": {
             "outlinewidth": 0,
             "ticks": ""
            },
            "colorscale": [
             [
              0,
              "#0d0887"
             ],
             [
              0.1111111111111111,
              "#46039f"
             ],
             [
              0.2222222222222222,
              "#7201a8"
             ],
             [
              0.3333333333333333,
              "#9c179e"
             ],
             [
              0.4444444444444444,
              "#bd3786"
             ],
             [
              0.5555555555555556,
              "#d8576b"
             ],
             [
              0.6666666666666666,
              "#ed7953"
             ],
             [
              0.7777777777777778,
              "#fb9f3a"
             ],
             [
              0.8888888888888888,
              "#fdca26"
             ],
             [
              1,
              "#f0f921"
             ]
            ],
            "type": "surface"
           }
          ],
          "table": [
           {
            "cells": {
             "fill": {
              "color": "#EBF0F8"
             },
             "line": {
              "color": "white"
             }
            },
            "header": {
             "fill": {
              "color": "#C8D4E3"
             },
             "line": {
              "color": "white"
             }
            },
            "type": "table"
           }
          ]
         },
         "layout": {
          "annotationdefaults": {
           "arrowcolor": "#2a3f5f",
           "arrowhead": 0,
           "arrowwidth": 1
          },
          "autotypenumbers": "strict",
          "coloraxis": {
           "colorbar": {
            "outlinewidth": 0,
            "ticks": ""
           }
          },
          "colorscale": {
           "diverging": [
            [
             0,
             "#8e0152"
            ],
            [
             0.1,
             "#c51b7d"
            ],
            [
             0.2,
             "#de77ae"
            ],
            [
             0.3,
             "#f1b6da"
            ],
            [
             0.4,
             "#fde0ef"
            ],
            [
             0.5,
             "#f7f7f7"
            ],
            [
             0.6,
             "#e6f5d0"
            ],
            [
             0.7,
             "#b8e186"
            ],
            [
             0.8,
             "#7fbc41"
            ],
            [
             0.9,
             "#4d9221"
            ],
            [
             1,
             "#276419"
            ]
           ],
           "sequential": [
            [
             0,
             "#0d0887"
            ],
            [
             0.1111111111111111,
             "#46039f"
            ],
            [
             0.2222222222222222,
             "#7201a8"
            ],
            [
             0.3333333333333333,
             "#9c179e"
            ],
            [
             0.4444444444444444,
             "#bd3786"
            ],
            [
             0.5555555555555556,
             "#d8576b"
            ],
            [
             0.6666666666666666,
             "#ed7953"
            ],
            [
             0.7777777777777778,
             "#fb9f3a"
            ],
            [
             0.8888888888888888,
             "#fdca26"
            ],
            [
             1,
             "#f0f921"
            ]
           ],
           "sequentialminus": [
            [
             0,
             "#0d0887"
            ],
            [
             0.1111111111111111,
             "#46039f"
            ],
            [
             0.2222222222222222,
             "#7201a8"
            ],
            [
             0.3333333333333333,
             "#9c179e"
            ],
            [
             0.4444444444444444,
             "#bd3786"
            ],
            [
             0.5555555555555556,
             "#d8576b"
            ],
            [
             0.6666666666666666,
             "#ed7953"
            ],
            [
             0.7777777777777778,
             "#fb9f3a"
            ],
            [
             0.8888888888888888,
             "#fdca26"
            ],
            [
             1,
             "#f0f921"
            ]
           ]
          },
          "colorway": [
           "#636efa",
           "#EF553B",
           "#00cc96",
           "#ab63fa",
           "#FFA15A",
           "#19d3f3",
           "#FF6692",
           "#B6E880",
           "#FF97FF",
           "#FECB52"
          ],
          "font": {
           "color": "#2a3f5f"
          },
          "geo": {
           "bgcolor": "white",
           "lakecolor": "white",
           "landcolor": "#E5ECF6",
           "showlakes": true,
           "showland": true,
           "subunitcolor": "white"
          },
          "hoverlabel": {
           "align": "left"
          },
          "hovermode": "closest",
          "mapbox": {
           "style": "light"
          },
          "paper_bgcolor": "white",
          "plot_bgcolor": "#E5ECF6",
          "polar": {
           "angularaxis": {
            "gridcolor": "white",
            "linecolor": "white",
            "ticks": ""
           },
           "bgcolor": "#E5ECF6",
           "radialaxis": {
            "gridcolor": "white",
            "linecolor": "white",
            "ticks": ""
           }
          },
          "scene": {
           "xaxis": {
            "backgroundcolor": "#E5ECF6",
            "gridcolor": "white",
            "gridwidth": 2,
            "linecolor": "white",
            "showbackground": true,
            "ticks": "",
            "zerolinecolor": "white"
           },
           "yaxis": {
            "backgroundcolor": "#E5ECF6",
            "gridcolor": "white",
            "gridwidth": 2,
            "linecolor": "white",
            "showbackground": true,
            "ticks": "",
            "zerolinecolor": "white"
           },
           "zaxis": {
            "backgroundcolor": "#E5ECF6",
            "gridcolor": "white",
            "gridwidth": 2,
            "linecolor": "white",
            "showbackground": true,
            "ticks": "",
            "zerolinecolor": "white"
           }
          },
          "shapedefaults": {
           "line": {
            "color": "#2a3f5f"
           }
          },
          "ternary": {
           "aaxis": {
            "gridcolor": "white",
            "linecolor": "white",
            "ticks": ""
           },
           "baxis": {
            "gridcolor": "white",
            "linecolor": "white",
            "ticks": ""
           },
           "bgcolor": "#E5ECF6",
           "caxis": {
            "gridcolor": "white",
            "linecolor": "white",
            "ticks": ""
           }
          },
          "title": {
           "x": 0.05
          },
          "xaxis": {
           "automargin": true,
           "gridcolor": "white",
           "linecolor": "white",
           "ticks": "",
           "title": {
            "standoff": 15
           },
           "zerolinecolor": "white",
           "zerolinewidth": 2
          },
          "yaxis": {
           "automargin": true,
           "gridcolor": "white",
           "linecolor": "white",
           "ticks": "",
           "title": {
            "standoff": 15
           },
           "zerolinecolor": "white",
           "zerolinewidth": 2
          }
         }
        },
        "xaxis": {
         "anchor": "y",
         "domain": [
          0,
          1
         ],
         "title": {
          "text": "index"
         }
        },
        "yaxis": {
         "anchor": "x",
         "domain": [
          0,
          1
         ],
         "title": {
          "text": "value"
         }
        }
       }
      },
      "text/html": [
       "<div>                            <div id=\"a5b9db4c-4579-4d0a-9cc5-b3b29b2a0bdc\" class=\"plotly-graph-div\" style=\"height:525px; width:100%;\"></div>            <script type=\"text/javascript\">                require([\"plotly\"], function(Plotly) {                    window.PLOTLYENV=window.PLOTLYENV || {};                                    if (document.getElementById(\"a5b9db4c-4579-4d0a-9cc5-b3b29b2a0bdc\")) {                    Plotly.newPlot(                        \"a5b9db4c-4579-4d0a-9cc5-b3b29b2a0bdc\",                        [{\"hovertemplate\":\"variable=HU<br>index=%{x}<br>value=%{y}<extra></extra>\",\"legendgroup\":\"HU\",\"line\":{\"color\":\"#636efa\",\"dash\":\"solid\"},\"marker\":{\"symbol\":\"circle\"},\"mode\":\"lines\",\"name\":\"HU\",\"orientation\":\"v\",\"showlegend\":true,\"x\":[\"2022-02-06T00:00:00+02:00\",\"2022-02-13T00:00:00+02:00\",\"2022-02-20T00:00:00+02:00\",\"2022-02-27T00:00:00+02:00\",\"2022-03-06T00:00:00+02:00\",\"2022-03-13T00:00:00+02:00\",\"2022-03-20T00:00:00+02:00\",\"2022-03-27T00:00:00+02:00\",\"2022-04-03T00:00:00+03:00\",\"2022-04-10T00:00:00+03:00\",\"2022-04-17T00:00:00+03:00\",\"2022-04-24T00:00:00+03:00\",\"2022-05-01T00:00:00+03:00\",\"2022-05-08T00:00:00+03:00\",\"2022-05-15T00:00:00+03:00\",\"2022-05-22T00:00:00+03:00\",\"2022-05-29T00:00:00+03:00\",\"2022-06-05T00:00:00+03:00\",\"2022-06-12T00:00:00+03:00\",\"2022-06-19T00:00:00+03:00\",\"2022-06-26T00:00:00+03:00\",\"2022-07-03T00:00:00+03:00\",\"2022-07-10T00:00:00+03:00\",\"2022-07-17T00:00:00+03:00\",\"2022-07-24T00:00:00+03:00\",\"2022-07-31T00:00:00+03:00\",\"2022-08-07T00:00:00+03:00\",\"2022-08-14T00:00:00+03:00\",\"2022-08-21T00:00:00+03:00\",\"2022-08-28T00:00:00+03:00\",\"2022-09-04T00:00:00+03:00\",\"2022-09-11T00:00:00+03:00\",\"2022-09-18T00:00:00+03:00\",\"2022-09-25T00:00:00+03:00\",\"2022-10-02T00:00:00+03:00\",\"2022-10-09T00:00:00+03:00\",\"2022-10-16T00:00:00+03:00\",\"2022-10-23T00:00:00+03:00\",\"2022-10-30T00:00:00+03:00\",\"2022-11-06T00:00:00+02:00\",\"2022-11-13T00:00:00+02:00\",\"2022-11-20T00:00:00+02:00\",\"2022-11-27T00:00:00+02:00\",\"2022-12-04T00:00:00+02:00\",\"2022-12-11T00:00:00+02:00\",\"2022-12-18T00:00:00+02:00\",\"2022-12-25T00:00:00+02:00\",\"2023-01-01T00:00:00+02:00\",\"2023-01-08T00:00:00+02:00\",\"2023-01-15T00:00:00+02:00\",\"2023-01-22T00:00:00+02:00\",\"2023-01-29T00:00:00+02:00\",\"2023-02-05T00:00:00+02:00\",\"2023-02-12T00:00:00+02:00\",\"2023-02-19T00:00:00+02:00\",\"2023-02-26T00:00:00+02:00\",\"2023-03-05T00:00:00+02:00\",\"2023-03-12T00:00:00+02:00\",\"2023-03-19T00:00:00+02:00\",\"2023-03-26T00:00:00+02:00\",\"2023-04-02T00:00:00+03:00\"],\"xaxis\":\"x\",\"y\":[58362.0,76871.0,76221.0,46365.0,27249.0,24092.0,46436.0,73478.0,87333.0,68335.0,62923.0,48484.0,57206.0,46046.0,3574.0,31265.0,19037.0,33986.0,21763.0,49794.0,69949.0,64992.0,65735.0,74530.0,85141.0,59932.0,73954.0,91991.0,84031.0,76963.0,87810.0,87543.0,83824.0,65899.0,69658.0,40618.0,37099.0,39000.0,33639.0,26260.0,39447.0,42874.0,57927.0,71198.0,73253.0,72276.0,74063.0,29461.0,59058.0,52360.0,80703.0,78044.0,38511.0,43177.0,69962.0,93072.0,58965.0,77932.0,67684.0,35887.0,40055.0],\"yaxis\":\"y\",\"type\":\"scatter\"},{\"hovertemplate\":\"variable=MD<br>index=%{x}<br>value=%{y}<extra></extra>\",\"legendgroup\":\"MD\",\"line\":{\"color\":\"#EF553B\",\"dash\":\"solid\"},\"marker\":{\"symbol\":\"circle\"},\"mode\":\"lines\",\"name\":\"MD\",\"orientation\":\"v\",\"showlegend\":true,\"x\":[\"2022-02-06T00:00:00+02:00\",\"2022-02-13T00:00:00+02:00\",\"2022-02-20T00:00:00+02:00\",\"2022-02-27T00:00:00+02:00\",\"2022-03-06T00:00:00+02:00\",\"2022-03-13T00:00:00+02:00\",\"2022-03-20T00:00:00+02:00\",\"2022-03-27T00:00:00+02:00\",\"2022-04-03T00:00:00+03:00\",\"2022-04-10T00:00:00+03:00\",\"2022-04-17T00:00:00+03:00\",\"2022-04-24T00:00:00+03:00\",\"2022-05-01T00:00:00+03:00\",\"2022-05-08T00:00:00+03:00\",\"2022-05-15T00:00:00+03:00\",\"2022-05-22T00:00:00+03:00\",\"2022-05-29T00:00:00+03:00\",\"2022-06-05T00:00:00+03:00\",\"2022-06-12T00:00:00+03:00\",\"2022-06-19T00:00:00+03:00\",\"2022-06-26T00:00:00+03:00\",\"2022-07-03T00:00:00+03:00\",\"2022-07-10T00:00:00+03:00\",\"2022-07-17T00:00:00+03:00\",\"2022-07-24T00:00:00+03:00\",\"2022-07-31T00:00:00+03:00\",\"2022-08-07T00:00:00+03:00\",\"2022-08-14T00:00:00+03:00\",\"2022-08-21T00:00:00+03:00\",\"2022-08-28T00:00:00+03:00\",\"2022-09-04T00:00:00+03:00\",\"2022-09-11T00:00:00+03:00\",\"2022-09-18T00:00:00+03:00\",\"2022-09-25T00:00:00+03:00\",\"2022-10-02T00:00:00+03:00\",\"2022-10-09T00:00:00+03:00\",\"2022-10-16T00:00:00+03:00\",\"2022-10-23T00:00:00+03:00\",\"2022-10-30T00:00:00+03:00\",\"2022-11-06T00:00:00+02:00\",\"2022-11-13T00:00:00+02:00\",\"2022-11-20T00:00:00+02:00\",\"2022-11-27T00:00:00+02:00\",\"2022-12-04T00:00:00+02:00\",\"2022-12-11T00:00:00+02:00\",\"2022-12-18T00:00:00+02:00\",\"2022-12-25T00:00:00+02:00\",\"2023-01-01T00:00:00+02:00\",\"2023-01-08T00:00:00+02:00\",\"2023-01-15T00:00:00+02:00\",\"2023-01-22T00:00:00+02:00\",\"2023-01-29T00:00:00+02:00\",\"2023-02-05T00:00:00+02:00\",\"2023-02-12T00:00:00+02:00\",\"2023-02-19T00:00:00+02:00\",\"2023-02-26T00:00:00+02:00\",\"2023-03-05T00:00:00+02:00\",\"2023-03-12T00:00:00+02:00\",\"2023-03-19T00:00:00+02:00\",\"2023-03-26T00:00:00+02:00\",\"2023-04-02T00:00:00+03:00\"],\"xaxis\":\"x\",\"y\":[1809.0,2840.0,2089.0,1231.0,625.0,806.0,763.0,0.0,55.0,576.0,2304.0,4138.0,842.0,1063.0,15417.0,12012.0,29336.0,16153.0,20973.0,4360.0,4834.0,3680.0,2592.0,1821.0,1113.0,4544.0,7945.0,6645.0,2614.0,8822.0,6667.0,654.0,9490.0,12324.0,7713.0,14429.0,2895.0,538.0,3100.0,3567.0,1555.0,4605.0,0.0,3.0,0.0,324.0,634.0,3436.0,64.0,404.0,0.0,0.0,0.0,630.0,25.0,44.0,287.0,73.0,366.0,1236.0,1020.0],\"yaxis\":\"y\",\"type\":\"scatter\"},{\"hovertemplate\":\"variable=PL<br>index=%{x}<br>value=%{y}<extra></extra>\",\"legendgroup\":\"PL\",\"line\":{\"color\":\"#00cc96\",\"dash\":\"solid\"},\"marker\":{\"symbol\":\"circle\"},\"mode\":\"lines\",\"name\":\"PL\",\"orientation\":\"v\",\"showlegend\":true,\"x\":[\"2022-02-06T00:00:00+02:00\",\"2022-02-13T00:00:00+02:00\",\"2022-02-20T00:00:00+02:00\",\"2022-02-27T00:00:00+02:00\",\"2022-03-06T00:00:00+02:00\",\"2022-03-13T00:00:00+02:00\",\"2022-03-20T00:00:00+02:00\",\"2022-03-27T00:00:00+02:00\",\"2022-04-03T00:00:00+03:00\",\"2022-04-10T00:00:00+03:00\",\"2022-04-17T00:00:00+03:00\",\"2022-04-24T00:00:00+03:00\",\"2022-05-01T00:00:00+03:00\",\"2022-05-08T00:00:00+03:00\",\"2022-05-15T00:00:00+03:00\",\"2022-05-22T00:00:00+03:00\",\"2022-05-29T00:00:00+03:00\",\"2022-06-05T00:00:00+03:00\",\"2022-06-12T00:00:00+03:00\",\"2022-06-19T00:00:00+03:00\",\"2022-06-26T00:00:00+03:00\",\"2022-07-03T00:00:00+03:00\",\"2022-07-10T00:00:00+03:00\",\"2022-07-17T00:00:00+03:00\",\"2022-07-24T00:00:00+03:00\",\"2022-07-31T00:00:00+03:00\",\"2022-08-07T00:00:00+03:00\",\"2022-08-14T00:00:00+03:00\",\"2022-08-21T00:00:00+03:00\",\"2022-08-28T00:00:00+03:00\",\"2022-09-04T00:00:00+03:00\",\"2022-09-11T00:00:00+03:00\",\"2022-09-18T00:00:00+03:00\",\"2022-09-25T00:00:00+03:00\",\"2022-10-02T00:00:00+03:00\",\"2022-10-09T00:00:00+03:00\",\"2022-10-16T00:00:00+03:00\",\"2022-10-23T00:00:00+03:00\",\"2022-10-30T00:00:00+03:00\",\"2022-11-06T00:00:00+02:00\",\"2022-11-13T00:00:00+02:00\",\"2022-11-20T00:00:00+02:00\",\"2022-11-27T00:00:00+02:00\",\"2022-12-04T00:00:00+02:00\",\"2022-12-11T00:00:00+02:00\",\"2022-12-18T00:00:00+02:00\",\"2022-12-25T00:00:00+02:00\",\"2023-01-01T00:00:00+02:00\",\"2023-01-08T00:00:00+02:00\",\"2023-01-15T00:00:00+02:00\",\"2023-01-22T00:00:00+02:00\",\"2023-01-29T00:00:00+02:00\",\"2023-02-05T00:00:00+02:00\",\"2023-02-12T00:00:00+02:00\",\"2023-02-19T00:00:00+02:00\",\"2023-02-26T00:00:00+02:00\",\"2023-03-05T00:00:00+02:00\",\"2023-03-12T00:00:00+02:00\",\"2023-03-19T00:00:00+02:00\",\"2023-03-26T00:00:00+02:00\",\"2023-04-02T00:00:00+03:00\"],\"xaxis\":\"x\",\"y\":[23047.0,35854.0,36054.0,10105.0,0.0,0.0,0.0,0.0,23779.0,32567.0,23549.0,26457.0,28128.0,25285.0,34787.0,36496.0,36500.0,36399.0,36503.0,35309.0,36388.0,34765.0,32513.0,34697.0,34915.0,34863.0,35584.0,36506.0,34451.0,36467.0,34235.0,36423.0,22366.0,29652.0,36564.0,36836.0,5538.0,0.0,0.0,0.0,0.0,0.0,0.0,0.0,0.0,0.0,0.0,0.0,0.0,0.0,0.0,0.0,0.0,0.0,0.0,0.0,0.0,0.0,0.0,0.0,0.0],\"yaxis\":\"y\",\"type\":\"scatter\"},{\"hovertemplate\":\"variable=RO<br>index=%{x}<br>value=%{y}<extra></extra>\",\"legendgroup\":\"RO\",\"line\":{\"color\":\"#ab63fa\",\"dash\":\"solid\"},\"marker\":{\"symbol\":\"circle\"},\"mode\":\"lines\",\"name\":\"RO\",\"orientation\":\"v\",\"showlegend\":true,\"x\":[\"2022-02-06T00:00:00+02:00\",\"2022-02-13T00:00:00+02:00\",\"2022-02-20T00:00:00+02:00\",\"2022-02-27T00:00:00+02:00\",\"2022-03-06T00:00:00+02:00\",\"2022-03-13T00:00:00+02:00\",\"2022-03-20T00:00:00+02:00\",\"2022-03-27T00:00:00+02:00\",\"2022-04-03T00:00:00+03:00\",\"2022-04-10T00:00:00+03:00\",\"2022-04-17T00:00:00+03:00\",\"2022-04-24T00:00:00+03:00\",\"2022-05-01T00:00:00+03:00\",\"2022-05-08T00:00:00+03:00\",\"2022-05-15T00:00:00+03:00\",\"2022-05-22T00:00:00+03:00\",\"2022-05-29T00:00:00+03:00\",\"2022-06-05T00:00:00+03:00\",\"2022-06-12T00:00:00+03:00\",\"2022-06-19T00:00:00+03:00\",\"2022-06-26T00:00:00+03:00\",\"2022-07-03T00:00:00+03:00\",\"2022-07-10T00:00:00+03:00\",\"2022-07-17T00:00:00+03:00\",\"2022-07-24T00:00:00+03:00\",\"2022-07-31T00:00:00+03:00\",\"2022-08-07T00:00:00+03:00\",\"2022-08-14T00:00:00+03:00\",\"2022-08-21T00:00:00+03:00\",\"2022-08-28T00:00:00+03:00\",\"2022-09-04T00:00:00+03:00\",\"2022-09-11T00:00:00+03:00\",\"2022-09-18T00:00:00+03:00\",\"2022-09-25T00:00:00+03:00\",\"2022-10-02T00:00:00+03:00\",\"2022-10-09T00:00:00+03:00\",\"2022-10-16T00:00:00+03:00\",\"2022-10-23T00:00:00+03:00\",\"2022-10-30T00:00:00+03:00\",\"2022-11-06T00:00:00+02:00\",\"2022-11-13T00:00:00+02:00\",\"2022-11-20T00:00:00+02:00\",\"2022-11-27T00:00:00+02:00\",\"2022-12-04T00:00:00+02:00\",\"2022-12-11T00:00:00+02:00\",\"2022-12-18T00:00:00+02:00\",\"2022-12-25T00:00:00+02:00\",\"2023-01-01T00:00:00+02:00\",\"2023-01-08T00:00:00+02:00\",\"2023-01-15T00:00:00+02:00\",\"2023-01-22T00:00:00+02:00\",\"2023-01-29T00:00:00+02:00\",\"2023-02-05T00:00:00+02:00\",\"2023-02-12T00:00:00+02:00\",\"2023-02-19T00:00:00+02:00\",\"2023-02-26T00:00:00+02:00\",\"2023-03-05T00:00:00+02:00\",\"2023-03-12T00:00:00+02:00\",\"2023-03-19T00:00:00+02:00\",\"2023-03-26T00:00:00+02:00\",\"2023-04-02T00:00:00+03:00\"],\"xaxis\":\"x\",\"y\":[62265.0,58673.0,66743.0,38161.0,15558.0,27228.0,51565.0,30772.0,13720.0,32655.0,21895.0,45309.0,13140.0,13660.0,23421.0,23354.0,33265.0,26139.0,24244.0,9945.0,10356.0,9117.0,12802.0,11974.0,14817.0,30588.0,23112.0,24012.0,14413.0,17925.0,15677.0,14258.0,14442.0,24347.0,33336.0,50232.0,60097.0,54083.0,56519.0,38840.0,39255.0,22527.0,10499.0,16968.0,8763.0,10432.0,23644.0,58714.0,47815.0,48935.0,1675.0,2054.0,14844.0,26622.0,36925.0,13395.0,22887.0,4435.0,14090.0,29241.0,11039.0],\"yaxis\":\"y\",\"type\":\"scatter\"},{\"hovertemplate\":\"variable=SK<br>index=%{x}<br>value=%{y}<extra></extra>\",\"legendgroup\":\"SK\",\"line\":{\"color\":\"#FFA15A\",\"dash\":\"solid\"},\"marker\":{\"symbol\":\"circle\"},\"mode\":\"lines\",\"name\":\"SK\",\"orientation\":\"v\",\"showlegend\":true,\"x\":[\"2022-02-06T00:00:00+02:00\",\"2022-02-13T00:00:00+02:00\",\"2022-02-20T00:00:00+02:00\",\"2022-02-27T00:00:00+02:00\",\"2022-03-06T00:00:00+02:00\",\"2022-03-13T00:00:00+02:00\",\"2022-03-20T00:00:00+02:00\",\"2022-03-27T00:00:00+02:00\",\"2022-04-03T00:00:00+03:00\",\"2022-04-10T00:00:00+03:00\",\"2022-04-17T00:00:00+03:00\",\"2022-04-24T00:00:00+03:00\",\"2022-05-01T00:00:00+03:00\",\"2022-05-08T00:00:00+03:00\",\"2022-05-15T00:00:00+03:00\",\"2022-05-22T00:00:00+03:00\",\"2022-05-29T00:00:00+03:00\",\"2022-06-05T00:00:00+03:00\",\"2022-06-12T00:00:00+03:00\",\"2022-06-19T00:00:00+03:00\",\"2022-06-26T00:00:00+03:00\",\"2022-07-03T00:00:00+03:00\",\"2022-07-10T00:00:00+03:00\",\"2022-07-17T00:00:00+03:00\",\"2022-07-24T00:00:00+03:00\",\"2022-07-31T00:00:00+03:00\",\"2022-08-07T00:00:00+03:00\",\"2022-08-14T00:00:00+03:00\",\"2022-08-21T00:00:00+03:00\",\"2022-08-28T00:00:00+03:00\",\"2022-09-04T00:00:00+03:00\",\"2022-09-11T00:00:00+03:00\",\"2022-09-18T00:00:00+03:00\",\"2022-09-25T00:00:00+03:00\",\"2022-10-02T00:00:00+03:00\",\"2022-10-09T00:00:00+03:00\",\"2022-10-16T00:00:00+03:00\",\"2022-10-23T00:00:00+03:00\",\"2022-10-30T00:00:00+03:00\",\"2022-11-06T00:00:00+02:00\",\"2022-11-13T00:00:00+02:00\",\"2022-11-20T00:00:00+02:00\",\"2022-11-27T00:00:00+02:00\",\"2022-12-04T00:00:00+02:00\",\"2022-12-11T00:00:00+02:00\",\"2022-12-18T00:00:00+02:00\",\"2022-12-25T00:00:00+02:00\",\"2023-01-01T00:00:00+02:00\",\"2023-01-08T00:00:00+02:00\",\"2023-01-15T00:00:00+02:00\",\"2023-01-22T00:00:00+02:00\",\"2023-01-29T00:00:00+02:00\",\"2023-02-05T00:00:00+02:00\",\"2023-02-12T00:00:00+02:00\",\"2023-02-19T00:00:00+02:00\",\"2023-02-26T00:00:00+02:00\",\"2023-03-05T00:00:00+02:00\",\"2023-03-12T00:00:00+02:00\",\"2023-03-19T00:00:00+02:00\",\"2023-03-26T00:00:00+02:00\",\"2023-04-02T00:00:00+03:00\"],\"xaxis\":\"x\",\"y\":[47.0,0.0,0.0,0.0,226.0,36.0,7.0,377.0,3367.0,120.0,1939.0,56.0,3550.0,339.0,0.0,0.0,3.0,0.0,665.0,736.0,1092.0,470.0,33.0,0.0,0.0,0.0,0.0,0.0,0.0,0.0,0.0,0.0,0.0,524.0,8988.0,314.0,47.0,1999.0,7.0,0.0,0.0,2793.0,8933.0,2559.0,14717.0,14094.0,3407.0,19.0,6.0,3031.0,21023.0,8292.0,4685.0,5281.0,1307.0,10763.0,4440.0,30948.0,15147.0,9028.0,14074.0],\"yaxis\":\"y\",\"type\":\"scatter\"}],                        {\"template\":{\"data\":{\"histogram2dcontour\":[{\"type\":\"histogram2dcontour\",\"colorbar\":{\"outlinewidth\":0,\"ticks\":\"\"},\"colorscale\":[[0.0,\"#0d0887\"],[0.1111111111111111,\"#46039f\"],[0.2222222222222222,\"#7201a8\"],[0.3333333333333333,\"#9c179e\"],[0.4444444444444444,\"#bd3786\"],[0.5555555555555556,\"#d8576b\"],[0.6666666666666666,\"#ed7953\"],[0.7777777777777778,\"#fb9f3a\"],[0.8888888888888888,\"#fdca26\"],[1.0,\"#f0f921\"]]}],\"choropleth\":[{\"type\":\"choropleth\",\"colorbar\":{\"outlinewidth\":0,\"ticks\":\"\"}}],\"histogram2d\":[{\"type\":\"histogram2d\",\"colorbar\":{\"outlinewidth\":0,\"ticks\":\"\"},\"colorscale\":[[0.0,\"#0d0887\"],[0.1111111111111111,\"#46039f\"],[0.2222222222222222,\"#7201a8\"],[0.3333333333333333,\"#9c179e\"],[0.4444444444444444,\"#bd3786\"],[0.5555555555555556,\"#d8576b\"],[0.6666666666666666,\"#ed7953\"],[0.7777777777777778,\"#fb9f3a\"],[0.8888888888888888,\"#fdca26\"],[1.0,\"#f0f921\"]]}],\"heatmap\":[{\"type\":\"heatmap\",\"colorbar\":{\"outlinewidth\":0,\"ticks\":\"\"},\"colorscale\":[[0.0,\"#0d0887\"],[0.1111111111111111,\"#46039f\"],[0.2222222222222222,\"#7201a8\"],[0.3333333333333333,\"#9c179e\"],[0.4444444444444444,\"#bd3786\"],[0.5555555555555556,\"#d8576b\"],[0.6666666666666666,\"#ed7953\"],[0.7777777777777778,\"#fb9f3a\"],[0.8888888888888888,\"#fdca26\"],[1.0,\"#f0f921\"]]}],\"heatmapgl\":[{\"type\":\"heatmapgl\",\"colorbar\":{\"outlinewidth\":0,\"ticks\":\"\"},\"colorscale\":[[0.0,\"#0d0887\"],[0.1111111111111111,\"#46039f\"],[0.2222222222222222,\"#7201a8\"],[0.3333333333333333,\"#9c179e\"],[0.4444444444444444,\"#bd3786\"],[0.5555555555555556,\"#d8576b\"],[0.6666666666666666,\"#ed7953\"],[0.7777777777777778,\"#fb9f3a\"],[0.8888888888888888,\"#fdca26\"],[1.0,\"#f0f921\"]]}],\"contourcarpet\":[{\"type\":\"contourcarpet\",\"colorbar\":{\"outlinewidth\":0,\"ticks\":\"\"}}],\"contour\":[{\"type\":\"contour\",\"colorbar\":{\"outlinewidth\":0,\"ticks\":\"\"},\"colorscale\":[[0.0,\"#0d0887\"],[0.1111111111111111,\"#46039f\"],[0.2222222222222222,\"#7201a8\"],[0.3333333333333333,\"#9c179e\"],[0.4444444444444444,\"#bd3786\"],[0.5555555555555556,\"#d8576b\"],[0.6666666666666666,\"#ed7953\"],[0.7777777777777778,\"#fb9f3a\"],[0.8888888888888888,\"#fdca26\"],[1.0,\"#f0f921\"]]}],\"surface\":[{\"type\":\"surface\",\"colorbar\":{\"outlinewidth\":0,\"ticks\":\"\"},\"colorscale\":[[0.0,\"#0d0887\"],[0.1111111111111111,\"#46039f\"],[0.2222222222222222,\"#7201a8\"],[0.3333333333333333,\"#9c179e\"],[0.4444444444444444,\"#bd3786\"],[0.5555555555555556,\"#d8576b\"],[0.6666666666666666,\"#ed7953\"],[0.7777777777777778,\"#fb9f3a\"],[0.8888888888888888,\"#fdca26\"],[1.0,\"#f0f921\"]]}],\"mesh3d\":[{\"type\":\"mesh3d\",\"colorbar\":{\"outlinewidth\":0,\"ticks\":\"\"}}],\"scatter\":[{\"fillpattern\":{\"fillmode\":\"overlay\",\"size\":10,\"solidity\":0.2},\"type\":\"scatter\"}],\"parcoords\":[{\"type\":\"parcoords\",\"line\":{\"colorbar\":{\"outlinewidth\":0,\"ticks\":\"\"}}}],\"scatterpolargl\":[{\"type\":\"scatterpolargl\",\"marker\":{\"colorbar\":{\"outlinewidth\":0,\"ticks\":\"\"}}}],\"bar\":[{\"error_x\":{\"color\":\"#2a3f5f\"},\"error_y\":{\"color\":\"#2a3f5f\"},\"marker\":{\"line\":{\"color\":\"#E5ECF6\",\"width\":0.5},\"pattern\":{\"fillmode\":\"overlay\",\"size\":10,\"solidity\":0.2}},\"type\":\"bar\"}],\"scattergeo\":[{\"type\":\"scattergeo\",\"marker\":{\"colorbar\":{\"outlinewidth\":0,\"ticks\":\"\"}}}],\"scatterpolar\":[{\"type\":\"scatterpolar\",\"marker\":{\"colorbar\":{\"outlinewidth\":0,\"ticks\":\"\"}}}],\"histogram\":[{\"marker\":{\"pattern\":{\"fillmode\":\"overlay\",\"size\":10,\"solidity\":0.2}},\"type\":\"histogram\"}],\"scattergl\":[{\"type\":\"scattergl\",\"marker\":{\"colorbar\":{\"outlinewidth\":0,\"ticks\":\"\"}}}],\"scatter3d\":[{\"type\":\"scatter3d\",\"line\":{\"colorbar\":{\"outlinewidth\":0,\"ticks\":\"\"}},\"marker\":{\"colorbar\":{\"outlinewidth\":0,\"ticks\":\"\"}}}],\"scattermapbox\":[{\"type\":\"scattermapbox\",\"marker\":{\"colorbar\":{\"outlinewidth\":0,\"ticks\":\"\"}}}],\"scatterternary\":[{\"type\":\"scatterternary\",\"marker\":{\"colorbar\":{\"outlinewidth\":0,\"ticks\":\"\"}}}],\"scattercarpet\":[{\"type\":\"scattercarpet\",\"marker\":{\"colorbar\":{\"outlinewidth\":0,\"ticks\":\"\"}}}],\"carpet\":[{\"aaxis\":{\"endlinecolor\":\"#2a3f5f\",\"gridcolor\":\"white\",\"linecolor\":\"white\",\"minorgridcolor\":\"white\",\"startlinecolor\":\"#2a3f5f\"},\"baxis\":{\"endlinecolor\":\"#2a3f5f\",\"gridcolor\":\"white\",\"linecolor\":\"white\",\"minorgridcolor\":\"white\",\"startlinecolor\":\"#2a3f5f\"},\"type\":\"carpet\"}],\"table\":[{\"cells\":{\"fill\":{\"color\":\"#EBF0F8\"},\"line\":{\"color\":\"white\"}},\"header\":{\"fill\":{\"color\":\"#C8D4E3\"},\"line\":{\"color\":\"white\"}},\"type\":\"table\"}],\"barpolar\":[{\"marker\":{\"line\":{\"color\":\"#E5ECF6\",\"width\":0.5},\"pattern\":{\"fillmode\":\"overlay\",\"size\":10,\"solidity\":0.2}},\"type\":\"barpolar\"}],\"pie\":[{\"automargin\":true,\"type\":\"pie\"}]},\"layout\":{\"autotypenumbers\":\"strict\",\"colorway\":[\"#636efa\",\"#EF553B\",\"#00cc96\",\"#ab63fa\",\"#FFA15A\",\"#19d3f3\",\"#FF6692\",\"#B6E880\",\"#FF97FF\",\"#FECB52\"],\"font\":{\"color\":\"#2a3f5f\"},\"hovermode\":\"closest\",\"hoverlabel\":{\"align\":\"left\"},\"paper_bgcolor\":\"white\",\"plot_bgcolor\":\"#E5ECF6\",\"polar\":{\"bgcolor\":\"#E5ECF6\",\"angularaxis\":{\"gridcolor\":\"white\",\"linecolor\":\"white\",\"ticks\":\"\"},\"radialaxis\":{\"gridcolor\":\"white\",\"linecolor\":\"white\",\"ticks\":\"\"}},\"ternary\":{\"bgcolor\":\"#E5ECF6\",\"aaxis\":{\"gridcolor\":\"white\",\"linecolor\":\"white\",\"ticks\":\"\"},\"baxis\":{\"gridcolor\":\"white\",\"linecolor\":\"white\",\"ticks\":\"\"},\"caxis\":{\"gridcolor\":\"white\",\"linecolor\":\"white\",\"ticks\":\"\"}},\"coloraxis\":{\"colorbar\":{\"outlinewidth\":0,\"ticks\":\"\"}},\"colorscale\":{\"sequential\":[[0.0,\"#0d0887\"],[0.1111111111111111,\"#46039f\"],[0.2222222222222222,\"#7201a8\"],[0.3333333333333333,\"#9c179e\"],[0.4444444444444444,\"#bd3786\"],[0.5555555555555556,\"#d8576b\"],[0.6666666666666666,\"#ed7953\"],[0.7777777777777778,\"#fb9f3a\"],[0.8888888888888888,\"#fdca26\"],[1.0,\"#f0f921\"]],\"sequentialminus\":[[0.0,\"#0d0887\"],[0.1111111111111111,\"#46039f\"],[0.2222222222222222,\"#7201a8\"],[0.3333333333333333,\"#9c179e\"],[0.4444444444444444,\"#bd3786\"],[0.5555555555555556,\"#d8576b\"],[0.6666666666666666,\"#ed7953\"],[0.7777777777777778,\"#fb9f3a\"],[0.8888888888888888,\"#fdca26\"],[1.0,\"#f0f921\"]],\"diverging\":[[0,\"#8e0152\"],[0.1,\"#c51b7d\"],[0.2,\"#de77ae\"],[0.3,\"#f1b6da\"],[0.4,\"#fde0ef\"],[0.5,\"#f7f7f7\"],[0.6,\"#e6f5d0\"],[0.7,\"#b8e186\"],[0.8,\"#7fbc41\"],[0.9,\"#4d9221\"],[1,\"#276419\"]]},\"xaxis\":{\"gridcolor\":\"white\",\"linecolor\":\"white\",\"ticks\":\"\",\"title\":{\"standoff\":15},\"zerolinecolor\":\"white\",\"automargin\":true,\"zerolinewidth\":2},\"yaxis\":{\"gridcolor\":\"white\",\"linecolor\":\"white\",\"ticks\":\"\",\"title\":{\"standoff\":15},\"zerolinecolor\":\"white\",\"automargin\":true,\"zerolinewidth\":2},\"scene\":{\"xaxis\":{\"backgroundcolor\":\"#E5ECF6\",\"gridcolor\":\"white\",\"linecolor\":\"white\",\"showbackground\":true,\"ticks\":\"\",\"zerolinecolor\":\"white\",\"gridwidth\":2},\"yaxis\":{\"backgroundcolor\":\"#E5ECF6\",\"gridcolor\":\"white\",\"linecolor\":\"white\",\"showbackground\":true,\"ticks\":\"\",\"zerolinecolor\":\"white\",\"gridwidth\":2},\"zaxis\":{\"backgroundcolor\":\"#E5ECF6\",\"gridcolor\":\"white\",\"linecolor\":\"white\",\"showbackground\":true,\"ticks\":\"\",\"zerolinecolor\":\"white\",\"gridwidth\":2}},\"shapedefaults\":{\"line\":{\"color\":\"#2a3f5f\"}},\"annotationdefaults\":{\"arrowcolor\":\"#2a3f5f\",\"arrowhead\":0,\"arrowwidth\":1},\"geo\":{\"bgcolor\":\"white\",\"landcolor\":\"#E5ECF6\",\"subunitcolor\":\"white\",\"showland\":true,\"showlakes\":true,\"lakecolor\":\"white\"},\"title\":{\"x\":0.05},\"mapbox\":{\"style\":\"light\"}}},\"xaxis\":{\"anchor\":\"y\",\"domain\":[0.0,1.0],\"title\":{\"text\":\"index\"}},\"yaxis\":{\"anchor\":\"x\",\"domain\":[0.0,1.0],\"title\":{\"text\":\"value\"}},\"legend\":{\"title\":{\"text\":\"variable\"},\"tracegroupgap\":0},\"margin\":{\"t\":60}},                        {\"responsive\": true}                    ).then(function(){\n",
       "                            \n",
       "var gd = document.getElementById('a5b9db4c-4579-4d0a-9cc5-b3b29b2a0bdc');\n",
       "var x = new MutationObserver(function (mutations, observer) {{\n",
       "        var display = window.getComputedStyle(gd).display;\n",
       "        if (!display || display === 'none') {{\n",
       "            console.log([gd, 'removed!']);\n",
       "            Plotly.purge(gd);\n",
       "            observer.disconnect();\n",
       "        }}\n",
       "}});\n",
       "\n",
       "// Listen for the removal of the full notebook cells\n",
       "var notebookContainer = gd.closest('#notebook-container');\n",
       "if (notebookContainer) {{\n",
       "    x.observe(notebookContainer, {childList: true});\n",
       "}}\n",
       "\n",
       "// Listen for the clearing of the current output cell\n",
       "var outputEl = gd.closest('.output');\n",
       "if (outputEl) {{\n",
       "    x.observe(outputEl, {childList: true});\n",
       "}}\n",
       "\n",
       "                        })                };                });            </script>        </div>"
      ]
     },
     "metadata": {},
     "output_type": "display_data"
    }
   ],
   "source": [
    "px.line(ukraine_exports.resample('1w').sum())"
   ]
  },
  {
   "cell_type": "code",
   "execution_count": 69,
   "id": "a52e0190",
   "metadata": {},
   "outputs": [
    {
     "data": {
      "application/vnd.plotly.v1+json": {
       "config": {
        "plotlyServerURL": "https://plot.ly"
       },
       "data": [
        {
         "hovertemplate": "variable=HU<br>index=%{x}<br>value=%{y}<extra></extra>",
         "legendgroup": "HU",
         "line": {
          "color": "#636efa",
          "dash": "solid"
         },
         "marker": {
          "symbol": "circle"
         },
         "mode": "lines",
         "name": "HU",
         "orientation": "v",
         "showlegend": true,
         "type": "scatter",
         "x": [
          "2022-02-06T00:00:00+01:00",
          "2022-02-13T00:00:00+01:00",
          "2022-02-20T00:00:00+01:00",
          "2022-02-27T00:00:00+01:00",
          "2022-03-06T00:00:00+01:00",
          "2022-03-13T00:00:00+01:00",
          "2022-03-20T00:00:00+01:00",
          "2022-03-27T00:00:00+01:00",
          "2022-04-03T00:00:00+02:00",
          "2022-04-10T00:00:00+02:00",
          "2022-04-17T00:00:00+02:00",
          "2022-04-24T00:00:00+02:00",
          "2022-05-01T00:00:00+02:00",
          "2022-05-08T00:00:00+02:00",
          "2022-05-15T00:00:00+02:00",
          "2022-05-22T00:00:00+02:00",
          "2022-05-29T00:00:00+02:00",
          "2022-06-05T00:00:00+02:00",
          "2022-06-12T00:00:00+02:00",
          "2022-06-19T00:00:00+02:00",
          "2022-06-26T00:00:00+02:00",
          "2022-07-03T00:00:00+02:00",
          "2022-07-10T00:00:00+02:00",
          "2022-07-17T00:00:00+02:00",
          "2022-07-24T00:00:00+02:00",
          "2022-07-31T00:00:00+02:00",
          "2022-08-07T00:00:00+02:00",
          "2022-08-14T00:00:00+02:00",
          "2022-08-21T00:00:00+02:00",
          "2022-08-28T00:00:00+02:00",
          "2022-09-04T00:00:00+02:00",
          "2022-09-11T00:00:00+02:00",
          "2022-09-18T00:00:00+02:00",
          "2022-09-25T00:00:00+02:00",
          "2022-10-02T00:00:00+02:00",
          "2022-10-09T00:00:00+02:00",
          "2022-10-16T00:00:00+02:00",
          "2022-10-23T00:00:00+02:00",
          "2022-10-30T00:00:00+02:00",
          "2022-11-06T00:00:00+01:00",
          "2022-11-13T00:00:00+01:00",
          "2022-11-20T00:00:00+01:00",
          "2022-11-27T00:00:00+01:00",
          "2022-12-04T00:00:00+01:00",
          "2022-12-11T00:00:00+01:00",
          "2022-12-18T00:00:00+01:00",
          "2022-12-25T00:00:00+01:00",
          "2023-01-01T00:00:00+01:00",
          "2023-01-08T00:00:00+01:00",
          "2023-01-15T00:00:00+01:00",
          "2023-01-22T00:00:00+01:00",
          "2023-01-29T00:00:00+01:00",
          "2023-02-05T00:00:00+01:00",
          "2023-02-12T00:00:00+01:00",
          "2023-02-19T00:00:00+01:00",
          "2023-02-26T00:00:00+01:00",
          "2023-03-05T00:00:00+01:00",
          "2023-03-12T00:00:00+01:00",
          "2023-03-19T00:00:00+01:00",
          "2023-03-26T00:00:00+01:00",
          "2023-04-02T00:00:00+02:00"
         ],
         "xaxis": "x",
         "y": [
          0,
          0,
          0,
          0,
          44,
          223,
          557,
          0,
          0,
          0,
          847,
          975,
          0,
          26,
          27606,
          9592,
          1354,
          131,
          3449,
          22,
          0,
          170,
          61,
          0,
          0,
          0,
          0,
          0,
          0,
          0,
          0,
          0,
          0,
          1,
          0,
          122,
          637,
          372,
          605,
          18761,
          509,
          576,
          2409,
          16,
          163,
          58,
          1,
          2053,
          0,
          195,
          0,
          0,
          409,
          3886,
          324,
          0,
          594,
          1,
          744,
          1182,
          393
         ],
         "yaxis": "y"
        },
        {
         "hovertemplate": "variable=MD<br>index=%{x}<br>value=%{y}<extra></extra>",
         "legendgroup": "MD",
         "line": {
          "color": "#EF553B",
          "dash": "solid"
         },
         "marker": {
          "symbol": "circle"
         },
         "mode": "lines",
         "name": "MD",
         "orientation": "v",
         "showlegend": true,
         "type": "scatter",
         "x": [
          "2022-02-06T00:00:00+01:00",
          "2022-02-13T00:00:00+01:00",
          "2022-02-20T00:00:00+01:00",
          "2022-02-27T00:00:00+01:00",
          "2022-03-06T00:00:00+01:00",
          "2022-03-13T00:00:00+01:00",
          "2022-03-20T00:00:00+01:00",
          "2022-03-27T00:00:00+01:00",
          "2022-04-03T00:00:00+02:00",
          "2022-04-10T00:00:00+02:00",
          "2022-04-17T00:00:00+02:00",
          "2022-04-24T00:00:00+02:00",
          "2022-05-01T00:00:00+02:00",
          "2022-05-08T00:00:00+02:00",
          "2022-05-15T00:00:00+02:00",
          "2022-05-22T00:00:00+02:00",
          "2022-05-29T00:00:00+02:00",
          "2022-06-05T00:00:00+02:00",
          "2022-06-12T00:00:00+02:00",
          "2022-06-19T00:00:00+02:00",
          "2022-06-26T00:00:00+02:00",
          "2022-07-03T00:00:00+02:00",
          "2022-07-10T00:00:00+02:00",
          "2022-07-17T00:00:00+02:00",
          "2022-07-24T00:00:00+02:00",
          "2022-07-31T00:00:00+02:00",
          "2022-08-07T00:00:00+02:00",
          "2022-08-14T00:00:00+02:00",
          "2022-08-21T00:00:00+02:00",
          "2022-08-28T00:00:00+02:00",
          "2022-09-04T00:00:00+02:00",
          "2022-09-11T00:00:00+02:00",
          "2022-09-18T00:00:00+02:00",
          "2022-09-25T00:00:00+02:00",
          "2022-10-02T00:00:00+02:00",
          "2022-10-09T00:00:00+02:00",
          "2022-10-16T00:00:00+02:00",
          "2022-10-23T00:00:00+02:00",
          "2022-10-30T00:00:00+02:00",
          "2022-11-06T00:00:00+01:00",
          "2022-11-13T00:00:00+01:00",
          "2022-11-20T00:00:00+01:00",
          "2022-11-27T00:00:00+01:00",
          "2022-12-04T00:00:00+01:00",
          "2022-12-11T00:00:00+01:00",
          "2022-12-18T00:00:00+01:00",
          "2022-12-25T00:00:00+01:00",
          "2023-01-01T00:00:00+01:00",
          "2023-01-08T00:00:00+01:00",
          "2023-01-15T00:00:00+01:00",
          "2023-01-22T00:00:00+01:00",
          "2023-01-29T00:00:00+01:00",
          "2023-02-05T00:00:00+01:00",
          "2023-02-12T00:00:00+01:00",
          "2023-02-19T00:00:00+01:00",
          "2023-02-26T00:00:00+01:00",
          "2023-03-05T00:00:00+01:00",
          "2023-03-12T00:00:00+01:00",
          "2023-03-19T00:00:00+01:00",
          "2023-03-26T00:00:00+01:00",
          "2023-04-02T00:00:00+02:00"
         ],
         "xaxis": "x",
         "y": [
          3606,
          3963,
          3424,
          2989,
          1565,
          1283,
          34715,
          62355,
          67924,
          36615,
          50297,
          19454,
          34731,
          26077,
          2119,
          14399,
          1171,
          1971,
          3543,
          11270,
          12756,
          12535,
          20039,
          24981,
          25068,
          12320,
          17583,
          26489,
          19822,
          18316,
          19133,
          34925,
          15992,
          11807,
          15100,
          3608,
          33352,
          50378,
          23496,
          26653,
          26650,
          30493,
          55512,
          69040,
          79344,
          76679,
          81456,
          36045,
          39126,
          46182,
          76933,
          84945,
          69696,
          70304,
          67298,
          75789,
          43447,
          65544,
          59810,
          28109,
          36112
         ],
         "yaxis": "y"
        },
        {
         "hovertemplate": "variable=PL<br>index=%{x}<br>value=%{y}<extra></extra>",
         "legendgroup": "PL",
         "line": {
          "color": "#00cc96",
          "dash": "solid"
         },
         "marker": {
          "symbol": "circle"
         },
         "mode": "lines",
         "name": "PL",
         "orientation": "v",
         "showlegend": true,
         "type": "scatter",
         "x": [
          "2022-02-06T00:00:00+01:00",
          "2022-02-13T00:00:00+01:00",
          "2022-02-20T00:00:00+01:00",
          "2022-02-27T00:00:00+01:00",
          "2022-03-06T00:00:00+01:00",
          "2022-03-13T00:00:00+01:00",
          "2022-03-20T00:00:00+01:00",
          "2022-03-27T00:00:00+01:00",
          "2022-04-03T00:00:00+02:00",
          "2022-04-10T00:00:00+02:00",
          "2022-04-17T00:00:00+02:00",
          "2022-04-24T00:00:00+02:00",
          "2022-05-01T00:00:00+02:00",
          "2022-05-08T00:00:00+02:00",
          "2022-05-15T00:00:00+02:00",
          "2022-05-22T00:00:00+02:00",
          "2022-05-29T00:00:00+02:00",
          "2022-06-05T00:00:00+02:00",
          "2022-06-12T00:00:00+02:00",
          "2022-06-19T00:00:00+02:00",
          "2022-06-26T00:00:00+02:00",
          "2022-07-03T00:00:00+02:00",
          "2022-07-10T00:00:00+02:00",
          "2022-07-17T00:00:00+02:00",
          "2022-07-24T00:00:00+02:00",
          "2022-07-31T00:00:00+02:00",
          "2022-08-07T00:00:00+02:00",
          "2022-08-14T00:00:00+02:00",
          "2022-08-21T00:00:00+02:00",
          "2022-08-28T00:00:00+02:00",
          "2022-09-04T00:00:00+02:00",
          "2022-09-11T00:00:00+02:00",
          "2022-09-18T00:00:00+02:00",
          "2022-09-25T00:00:00+02:00",
          "2022-10-02T00:00:00+02:00",
          "2022-10-09T00:00:00+02:00",
          "2022-10-16T00:00:00+02:00",
          "2022-10-23T00:00:00+02:00",
          "2022-10-30T00:00:00+02:00",
          "2022-11-06T00:00:00+01:00",
          "2022-11-13T00:00:00+01:00",
          "2022-11-20T00:00:00+01:00",
          "2022-11-27T00:00:00+01:00",
          "2022-12-04T00:00:00+01:00",
          "2022-12-11T00:00:00+01:00",
          "2022-12-18T00:00:00+01:00",
          "2022-12-25T00:00:00+01:00",
          "2023-01-01T00:00:00+01:00",
          "2023-01-08T00:00:00+01:00",
          "2023-01-15T00:00:00+01:00",
          "2023-01-22T00:00:00+01:00",
          "2023-01-29T00:00:00+01:00",
          "2023-02-05T00:00:00+01:00",
          "2023-02-12T00:00:00+01:00",
          "2023-02-19T00:00:00+01:00",
          "2023-02-26T00:00:00+01:00",
          "2023-03-05T00:00:00+01:00",
          "2023-03-12T00:00:00+01:00",
          "2023-03-19T00:00:00+01:00",
          "2023-03-26T00:00:00+01:00",
          "2023-04-02T00:00:00+02:00"
         ],
         "xaxis": "x",
         "y": [
          0,
          0,
          0,
          0,
          0,
          0,
          0,
          0,
          0,
          0,
          0,
          0,
          0,
          0,
          0,
          0,
          0,
          0,
          0,
          0,
          0,
          0,
          0,
          0,
          0,
          0,
          0,
          0,
          0,
          0,
          0,
          0,
          0,
          0,
          0,
          0,
          0,
          0,
          0,
          0,
          0,
          0,
          0,
          0,
          0,
          0,
          0,
          0,
          0,
          0,
          0,
          0,
          0,
          0,
          0,
          0,
          0,
          0,
          0,
          0,
          0
         ],
         "yaxis": "y"
        },
        {
         "hovertemplate": "variable=RO<br>index=%{x}<br>value=%{y}<extra></extra>",
         "legendgroup": "RO",
         "line": {
          "color": "#ab63fa",
          "dash": "solid"
         },
         "marker": {
          "symbol": "circle"
         },
         "mode": "lines",
         "name": "RO",
         "orientation": "v",
         "showlegend": true,
         "type": "scatter",
         "x": [
          "2022-02-06T00:00:00+01:00",
          "2022-02-13T00:00:00+01:00",
          "2022-02-20T00:00:00+01:00",
          "2022-02-27T00:00:00+01:00",
          "2022-03-06T00:00:00+01:00",
          "2022-03-13T00:00:00+01:00",
          "2022-03-20T00:00:00+01:00",
          "2022-03-27T00:00:00+01:00",
          "2022-04-03T00:00:00+02:00",
          "2022-04-10T00:00:00+02:00",
          "2022-04-17T00:00:00+02:00",
          "2022-04-24T00:00:00+02:00",
          "2022-05-01T00:00:00+02:00",
          "2022-05-08T00:00:00+02:00",
          "2022-05-15T00:00:00+02:00",
          "2022-05-22T00:00:00+02:00",
          "2022-05-29T00:00:00+02:00",
          "2022-06-05T00:00:00+02:00",
          "2022-06-12T00:00:00+02:00",
          "2022-06-19T00:00:00+02:00",
          "2022-06-26T00:00:00+02:00",
          "2022-07-03T00:00:00+02:00",
          "2022-07-10T00:00:00+02:00",
          "2022-07-17T00:00:00+02:00",
          "2022-07-24T00:00:00+02:00",
          "2022-07-31T00:00:00+02:00",
          "2022-08-07T00:00:00+02:00",
          "2022-08-14T00:00:00+02:00",
          "2022-08-21T00:00:00+02:00",
          "2022-08-28T00:00:00+02:00",
          "2022-09-04T00:00:00+02:00",
          "2022-09-11T00:00:00+02:00",
          "2022-09-18T00:00:00+02:00",
          "2022-09-25T00:00:00+02:00",
          "2022-10-02T00:00:00+02:00",
          "2022-10-09T00:00:00+02:00",
          "2022-10-16T00:00:00+02:00",
          "2022-10-23T00:00:00+02:00",
          "2022-10-30T00:00:00+02:00",
          "2022-11-06T00:00:00+01:00",
          "2022-11-13T00:00:00+01:00",
          "2022-11-20T00:00:00+01:00",
          "2022-11-27T00:00:00+01:00",
          "2022-12-04T00:00:00+01:00",
          "2022-12-11T00:00:00+01:00",
          "2022-12-18T00:00:00+01:00",
          "2022-12-25T00:00:00+01:00",
          "2023-01-01T00:00:00+01:00",
          "2023-01-08T00:00:00+01:00",
          "2023-01-15T00:00:00+01:00",
          "2023-01-22T00:00:00+01:00",
          "2023-01-29T00:00:00+01:00",
          "2023-02-05T00:00:00+01:00",
          "2023-02-12T00:00:00+01:00",
          "2023-02-19T00:00:00+01:00",
          "2023-02-26T00:00:00+01:00",
          "2023-03-05T00:00:00+01:00",
          "2023-03-12T00:00:00+01:00",
          "2023-03-19T00:00:00+01:00",
          "2023-03-26T00:00:00+01:00",
          "2023-04-02T00:00:00+02:00"
         ],
         "xaxis": "x",
         "y": [
          0,
          0,
          0,
          38,
          5050,
          2235,
          81,
          0,
          9399,
          405,
          626,
          209,
          3130,
          1743,
          0,
          2259,
          2,
          3,
          360,
          6368,
          1978,
          4963,
          1450,
          2581,
          2365,
          122,
          303,
          1985,
          3352,
          1794,
          553,
          1376,
          1199,
          4,
          1412,
          0,
          0,
          0,
          50,
          0,
          0,
          5914,
          14080,
          2546,
          11291,
          13121,
          2629,
          0,
          0,
          2002,
          38493,
          22927,
          11488,
          9885,
          1715,
          10225,
          3598,
          31251,
          7978,
          4249,
          12175
         ],
         "yaxis": "y"
        },
        {
         "hovertemplate": "variable=SK<br>index=%{x}<br>value=%{y}<extra></extra>",
         "legendgroup": "SK",
         "line": {
          "color": "#FFA15A",
          "dash": "solid"
         },
         "marker": {
          "symbol": "circle"
         },
         "mode": "lines",
         "name": "SK",
         "orientation": "v",
         "showlegend": true,
         "type": "scatter",
         "x": [
          "2022-02-06T00:00:00+01:00",
          "2022-02-13T00:00:00+01:00",
          "2022-02-20T00:00:00+01:00",
          "2022-02-27T00:00:00+01:00",
          "2022-03-06T00:00:00+01:00",
          "2022-03-13T00:00:00+01:00",
          "2022-03-20T00:00:00+01:00",
          "2022-03-27T00:00:00+01:00",
          "2022-04-03T00:00:00+02:00",
          "2022-04-10T00:00:00+02:00",
          "2022-04-17T00:00:00+02:00",
          "2022-04-24T00:00:00+02:00",
          "2022-05-01T00:00:00+02:00",
          "2022-05-08T00:00:00+02:00",
          "2022-05-15T00:00:00+02:00",
          "2022-05-22T00:00:00+02:00",
          "2022-05-29T00:00:00+02:00",
          "2022-06-05T00:00:00+02:00",
          "2022-06-12T00:00:00+02:00",
          "2022-06-19T00:00:00+02:00",
          "2022-06-26T00:00:00+02:00",
          "2022-07-03T00:00:00+02:00",
          "2022-07-10T00:00:00+02:00",
          "2022-07-17T00:00:00+02:00",
          "2022-07-24T00:00:00+02:00",
          "2022-07-31T00:00:00+02:00",
          "2022-08-07T00:00:00+02:00",
          "2022-08-14T00:00:00+02:00",
          "2022-08-21T00:00:00+02:00",
          "2022-08-28T00:00:00+02:00",
          "2022-09-04T00:00:00+02:00",
          "2022-09-11T00:00:00+02:00",
          "2022-09-18T00:00:00+02:00",
          "2022-09-25T00:00:00+02:00",
          "2022-10-02T00:00:00+02:00",
          "2022-10-09T00:00:00+02:00",
          "2022-10-16T00:00:00+02:00",
          "2022-10-23T00:00:00+02:00",
          "2022-10-30T00:00:00+02:00",
          "2022-11-06T00:00:00+01:00",
          "2022-11-13T00:00:00+01:00",
          "2022-11-20T00:00:00+01:00",
          "2022-11-27T00:00:00+01:00",
          "2022-12-04T00:00:00+01:00",
          "2022-12-11T00:00:00+01:00",
          "2022-12-18T00:00:00+01:00",
          "2022-12-25T00:00:00+01:00",
          "2023-01-01T00:00:00+01:00",
          "2023-01-08T00:00:00+01:00",
          "2023-01-15T00:00:00+01:00",
          "2023-01-22T00:00:00+01:00",
          "2023-01-29T00:00:00+01:00",
          "2023-02-05T00:00:00+01:00",
          "2023-02-12T00:00:00+01:00",
          "2023-02-19T00:00:00+01:00",
          "2023-02-26T00:00:00+01:00",
          "2023-03-05T00:00:00+01:00",
          "2023-03-12T00:00:00+01:00",
          "2023-03-19T00:00:00+01:00",
          "2023-03-26T00:00:00+01:00",
          "2023-04-02T00:00:00+02:00"
         ],
         "xaxis": "x",
         "y": [
          64280,
          64245,
          71655,
          60028,
          38492,
          49857,
          63769,
          47643,
          26114,
          67756,
          37689,
          78440,
          36225,
          34080,
          2206,
          21523,
          57639,
          58480,
          36610,
          24464,
          46199,
          27116,
          8997,
          0,
          0,
          0,
          0,
          0,
          0,
          0,
          0,
          0,
          0,
          22410,
          28265,
          35648,
          53621,
          46050,
          71290,
          40619,
          54389,
          37118,
          22758,
          22413,
          10449,
          8440,
          21876,
          67692,
          77027,
          63103,
          8500,
          13481,
          49098,
          56977,
          53402,
          25190,
          32727,
          10179,
          24019,
          35480,
          13004
         ],
         "yaxis": "y"
        }
       ],
       "layout": {
        "legend": {
         "title": {
          "text": "variable"
         },
         "tracegroupgap": 0
        },
        "margin": {
         "t": 60
        },
        "template": {
         "data": {
          "bar": [
           {
            "error_x": {
             "color": "#2a3f5f"
            },
            "error_y": {
             "color": "#2a3f5f"
            },
            "marker": {
             "line": {
              "color": "#E5ECF6",
              "width": 0.5
             },
             "pattern": {
              "fillmode": "overlay",
              "size": 10,
              "solidity": 0.2
             }
            },
            "type": "bar"
           }
          ],
          "barpolar": [
           {
            "marker": {
             "line": {
              "color": "#E5ECF6",
              "width": 0.5
             },
             "pattern": {
              "fillmode": "overlay",
              "size": 10,
              "solidity": 0.2
             }
            },
            "type": "barpolar"
           }
          ],
          "carpet": [
           {
            "aaxis": {
             "endlinecolor": "#2a3f5f",
             "gridcolor": "white",
             "linecolor": "white",
             "minorgridcolor": "white",
             "startlinecolor": "#2a3f5f"
            },
            "baxis": {
             "endlinecolor": "#2a3f5f",
             "gridcolor": "white",
             "linecolor": "white",
             "minorgridcolor": "white",
             "startlinecolor": "#2a3f5f"
            },
            "type": "carpet"
           }
          ],
          "choropleth": [
           {
            "colorbar": {
             "outlinewidth": 0,
             "ticks": ""
            },
            "type": "choropleth"
           }
          ],
          "contour": [
           {
            "colorbar": {
             "outlinewidth": 0,
             "ticks": ""
            },
            "colorscale": [
             [
              0,
              "#0d0887"
             ],
             [
              0.1111111111111111,
              "#46039f"
             ],
             [
              0.2222222222222222,
              "#7201a8"
             ],
             [
              0.3333333333333333,
              "#9c179e"
             ],
             [
              0.4444444444444444,
              "#bd3786"
             ],
             [
              0.5555555555555556,
              "#d8576b"
             ],
             [
              0.6666666666666666,
              "#ed7953"
             ],
             [
              0.7777777777777778,
              "#fb9f3a"
             ],
             [
              0.8888888888888888,
              "#fdca26"
             ],
             [
              1,
              "#f0f921"
             ]
            ],
            "type": "contour"
           }
          ],
          "contourcarpet": [
           {
            "colorbar": {
             "outlinewidth": 0,
             "ticks": ""
            },
            "type": "contourcarpet"
           }
          ],
          "heatmap": [
           {
            "colorbar": {
             "outlinewidth": 0,
             "ticks": ""
            },
            "colorscale": [
             [
              0,
              "#0d0887"
             ],
             [
              0.1111111111111111,
              "#46039f"
             ],
             [
              0.2222222222222222,
              "#7201a8"
             ],
             [
              0.3333333333333333,
              "#9c179e"
             ],
             [
              0.4444444444444444,
              "#bd3786"
             ],
             [
              0.5555555555555556,
              "#d8576b"
             ],
             [
              0.6666666666666666,
              "#ed7953"
             ],
             [
              0.7777777777777778,
              "#fb9f3a"
             ],
             [
              0.8888888888888888,
              "#fdca26"
             ],
             [
              1,
              "#f0f921"
             ]
            ],
            "type": "heatmap"
           }
          ],
          "heatmapgl": [
           {
            "colorbar": {
             "outlinewidth": 0,
             "ticks": ""
            },
            "colorscale": [
             [
              0,
              "#0d0887"
             ],
             [
              0.1111111111111111,
              "#46039f"
             ],
             [
              0.2222222222222222,
              "#7201a8"
             ],
             [
              0.3333333333333333,
              "#9c179e"
             ],
             [
              0.4444444444444444,
              "#bd3786"
             ],
             [
              0.5555555555555556,
              "#d8576b"
             ],
             [
              0.6666666666666666,
              "#ed7953"
             ],
             [
              0.7777777777777778,
              "#fb9f3a"
             ],
             [
              0.8888888888888888,
              "#fdca26"
             ],
             [
              1,
              "#f0f921"
             ]
            ],
            "type": "heatmapgl"
           }
          ],
          "histogram": [
           {
            "marker": {
             "pattern": {
              "fillmode": "overlay",
              "size": 10,
              "solidity": 0.2
             }
            },
            "type": "histogram"
           }
          ],
          "histogram2d": [
           {
            "colorbar": {
             "outlinewidth": 0,
             "ticks": ""
            },
            "colorscale": [
             [
              0,
              "#0d0887"
             ],
             [
              0.1111111111111111,
              "#46039f"
             ],
             [
              0.2222222222222222,
              "#7201a8"
             ],
             [
              0.3333333333333333,
              "#9c179e"
             ],
             [
              0.4444444444444444,
              "#bd3786"
             ],
             [
              0.5555555555555556,
              "#d8576b"
             ],
             [
              0.6666666666666666,
              "#ed7953"
             ],
             [
              0.7777777777777778,
              "#fb9f3a"
             ],
             [
              0.8888888888888888,
              "#fdca26"
             ],
             [
              1,
              "#f0f921"
             ]
            ],
            "type": "histogram2d"
           }
          ],
          "histogram2dcontour": [
           {
            "colorbar": {
             "outlinewidth": 0,
             "ticks": ""
            },
            "colorscale": [
             [
              0,
              "#0d0887"
             ],
             [
              0.1111111111111111,
              "#46039f"
             ],
             [
              0.2222222222222222,
              "#7201a8"
             ],
             [
              0.3333333333333333,
              "#9c179e"
             ],
             [
              0.4444444444444444,
              "#bd3786"
             ],
             [
              0.5555555555555556,
              "#d8576b"
             ],
             [
              0.6666666666666666,
              "#ed7953"
             ],
             [
              0.7777777777777778,
              "#fb9f3a"
             ],
             [
              0.8888888888888888,
              "#fdca26"
             ],
             [
              1,
              "#f0f921"
             ]
            ],
            "type": "histogram2dcontour"
           }
          ],
          "mesh3d": [
           {
            "colorbar": {
             "outlinewidth": 0,
             "ticks": ""
            },
            "type": "mesh3d"
           }
          ],
          "parcoords": [
           {
            "line": {
             "colorbar": {
              "outlinewidth": 0,
              "ticks": ""
             }
            },
            "type": "parcoords"
           }
          ],
          "pie": [
           {
            "automargin": true,
            "type": "pie"
           }
          ],
          "scatter": [
           {
            "fillpattern": {
             "fillmode": "overlay",
             "size": 10,
             "solidity": 0.2
            },
            "type": "scatter"
           }
          ],
          "scatter3d": [
           {
            "line": {
             "colorbar": {
              "outlinewidth": 0,
              "ticks": ""
             }
            },
            "marker": {
             "colorbar": {
              "outlinewidth": 0,
              "ticks": ""
             }
            },
            "type": "scatter3d"
           }
          ],
          "scattercarpet": [
           {
            "marker": {
             "colorbar": {
              "outlinewidth": 0,
              "ticks": ""
             }
            },
            "type": "scattercarpet"
           }
          ],
          "scattergeo": [
           {
            "marker": {
             "colorbar": {
              "outlinewidth": 0,
              "ticks": ""
             }
            },
            "type": "scattergeo"
           }
          ],
          "scattergl": [
           {
            "marker": {
             "colorbar": {
              "outlinewidth": 0,
              "ticks": ""
             }
            },
            "type": "scattergl"
           }
          ],
          "scattermapbox": [
           {
            "marker": {
             "colorbar": {
              "outlinewidth": 0,
              "ticks": ""
             }
            },
            "type": "scattermapbox"
           }
          ],
          "scatterpolar": [
           {
            "marker": {
             "colorbar": {
              "outlinewidth": 0,
              "ticks": ""
             }
            },
            "type": "scatterpolar"
           }
          ],
          "scatterpolargl": [
           {
            "marker": {
             "colorbar": {
              "outlinewidth": 0,
              "ticks": ""
             }
            },
            "type": "scatterpolargl"
           }
          ],
          "scatterternary": [
           {
            "marker": {
             "colorbar": {
              "outlinewidth": 0,
              "ticks": ""
             }
            },
            "type": "scatterternary"
           }
          ],
          "surface": [
           {
            "colorbar": {
             "outlinewidth": 0,
             "ticks": ""
            },
            "colorscale": [
             [
              0,
              "#0d0887"
             ],
             [
              0.1111111111111111,
              "#46039f"
             ],
             [
              0.2222222222222222,
              "#7201a8"
             ],
             [
              0.3333333333333333,
              "#9c179e"
             ],
             [
              0.4444444444444444,
              "#bd3786"
             ],
             [
              0.5555555555555556,
              "#d8576b"
             ],
             [
              0.6666666666666666,
              "#ed7953"
             ],
             [
              0.7777777777777778,
              "#fb9f3a"
             ],
             [
              0.8888888888888888,
              "#fdca26"
             ],
             [
              1,
              "#f0f921"
             ]
            ],
            "type": "surface"
           }
          ],
          "table": [
           {
            "cells": {
             "fill": {
              "color": "#EBF0F8"
             },
             "line": {
              "color": "white"
             }
            },
            "header": {
             "fill": {
              "color": "#C8D4E3"
             },
             "line": {
              "color": "white"
             }
            },
            "type": "table"
           }
          ]
         },
         "layout": {
          "annotationdefaults": {
           "arrowcolor": "#2a3f5f",
           "arrowhead": 0,
           "arrowwidth": 1
          },
          "autotypenumbers": "strict",
          "coloraxis": {
           "colorbar": {
            "outlinewidth": 0,
            "ticks": ""
           }
          },
          "colorscale": {
           "diverging": [
            [
             0,
             "#8e0152"
            ],
            [
             0.1,
             "#c51b7d"
            ],
            [
             0.2,
             "#de77ae"
            ],
            [
             0.3,
             "#f1b6da"
            ],
            [
             0.4,
             "#fde0ef"
            ],
            [
             0.5,
             "#f7f7f7"
            ],
            [
             0.6,
             "#e6f5d0"
            ],
            [
             0.7,
             "#b8e186"
            ],
            [
             0.8,
             "#7fbc41"
            ],
            [
             0.9,
             "#4d9221"
            ],
            [
             1,
             "#276419"
            ]
           ],
           "sequential": [
            [
             0,
             "#0d0887"
            ],
            [
             0.1111111111111111,
             "#46039f"
            ],
            [
             0.2222222222222222,
             "#7201a8"
            ],
            [
             0.3333333333333333,
             "#9c179e"
            ],
            [
             0.4444444444444444,
             "#bd3786"
            ],
            [
             0.5555555555555556,
             "#d8576b"
            ],
            [
             0.6666666666666666,
             "#ed7953"
            ],
            [
             0.7777777777777778,
             "#fb9f3a"
            ],
            [
             0.8888888888888888,
             "#fdca26"
            ],
            [
             1,
             "#f0f921"
            ]
           ],
           "sequentialminus": [
            [
             0,
             "#0d0887"
            ],
            [
             0.1111111111111111,
             "#46039f"
            ],
            [
             0.2222222222222222,
             "#7201a8"
            ],
            [
             0.3333333333333333,
             "#9c179e"
            ],
            [
             0.4444444444444444,
             "#bd3786"
            ],
            [
             0.5555555555555556,
             "#d8576b"
            ],
            [
             0.6666666666666666,
             "#ed7953"
            ],
            [
             0.7777777777777778,
             "#fb9f3a"
            ],
            [
             0.8888888888888888,
             "#fdca26"
            ],
            [
             1,
             "#f0f921"
            ]
           ]
          },
          "colorway": [
           "#636efa",
           "#EF553B",
           "#00cc96",
           "#ab63fa",
           "#FFA15A",
           "#19d3f3",
           "#FF6692",
           "#B6E880",
           "#FF97FF",
           "#FECB52"
          ],
          "font": {
           "color": "#2a3f5f"
          },
          "geo": {
           "bgcolor": "white",
           "lakecolor": "white",
           "landcolor": "#E5ECF6",
           "showlakes": true,
           "showland": true,
           "subunitcolor": "white"
          },
          "hoverlabel": {
           "align": "left"
          },
          "hovermode": "closest",
          "mapbox": {
           "style": "light"
          },
          "paper_bgcolor": "white",
          "plot_bgcolor": "#E5ECF6",
          "polar": {
           "angularaxis": {
            "gridcolor": "white",
            "linecolor": "white",
            "ticks": ""
           },
           "bgcolor": "#E5ECF6",
           "radialaxis": {
            "gridcolor": "white",
            "linecolor": "white",
            "ticks": ""
           }
          },
          "scene": {
           "xaxis": {
            "backgroundcolor": "#E5ECF6",
            "gridcolor": "white",
            "gridwidth": 2,
            "linecolor": "white",
            "showbackground": true,
            "ticks": "",
            "zerolinecolor": "white"
           },
           "yaxis": {
            "backgroundcolor": "#E5ECF6",
            "gridcolor": "white",
            "gridwidth": 2,
            "linecolor": "white",
            "showbackground": true,
            "ticks": "",
            "zerolinecolor": "white"
           },
           "zaxis": {
            "backgroundcolor": "#E5ECF6",
            "gridcolor": "white",
            "gridwidth": 2,
            "linecolor": "white",
            "showbackground": true,
            "ticks": "",
            "zerolinecolor": "white"
           }
          },
          "shapedefaults": {
           "line": {
            "color": "#2a3f5f"
           }
          },
          "ternary": {
           "aaxis": {
            "gridcolor": "white",
            "linecolor": "white",
            "ticks": ""
           },
           "baxis": {
            "gridcolor": "white",
            "linecolor": "white",
            "ticks": ""
           },
           "bgcolor": "#E5ECF6",
           "caxis": {
            "gridcolor": "white",
            "linecolor": "white",
            "ticks": ""
           }
          },
          "title": {
           "x": 0.05
          },
          "xaxis": {
           "automargin": true,
           "gridcolor": "white",
           "linecolor": "white",
           "ticks": "",
           "title": {
            "standoff": 15
           },
           "zerolinecolor": "white",
           "zerolinewidth": 2
          },
          "yaxis": {
           "automargin": true,
           "gridcolor": "white",
           "linecolor": "white",
           "ticks": "",
           "title": {
            "standoff": 15
           },
           "zerolinecolor": "white",
           "zerolinewidth": 2
          }
         }
        },
        "xaxis": {
         "anchor": "y",
         "domain": [
          0,
          1
         ],
         "title": {
          "text": "index"
         }
        },
        "yaxis": {
         "anchor": "x",
         "domain": [
          0,
          1
         ],
         "title": {
          "text": "value"
         }
        }
       }
      },
      "text/html": [
       "<div>                            <div id=\"c69856fd-f14b-47c1-989d-3bf79784eb85\" class=\"plotly-graph-div\" style=\"height:525px; width:100%;\"></div>            <script type=\"text/javascript\">                require([\"plotly\"], function(Plotly) {                    window.PLOTLYENV=window.PLOTLYENV || {};                                    if (document.getElementById(\"c69856fd-f14b-47c1-989d-3bf79784eb85\")) {                    Plotly.newPlot(                        \"c69856fd-f14b-47c1-989d-3bf79784eb85\",                        [{\"hovertemplate\":\"variable=HU<br>index=%{x}<br>value=%{y}<extra></extra>\",\"legendgroup\":\"HU\",\"line\":{\"color\":\"#636efa\",\"dash\":\"solid\"},\"marker\":{\"symbol\":\"circle\"},\"mode\":\"lines\",\"name\":\"HU\",\"orientation\":\"v\",\"showlegend\":true,\"x\":[\"2022-02-06T00:00:00+01:00\",\"2022-02-13T00:00:00+01:00\",\"2022-02-20T00:00:00+01:00\",\"2022-02-27T00:00:00+01:00\",\"2022-03-06T00:00:00+01:00\",\"2022-03-13T00:00:00+01:00\",\"2022-03-20T00:00:00+01:00\",\"2022-03-27T00:00:00+01:00\",\"2022-04-03T00:00:00+02:00\",\"2022-04-10T00:00:00+02:00\",\"2022-04-17T00:00:00+02:00\",\"2022-04-24T00:00:00+02:00\",\"2022-05-01T00:00:00+02:00\",\"2022-05-08T00:00:00+02:00\",\"2022-05-15T00:00:00+02:00\",\"2022-05-22T00:00:00+02:00\",\"2022-05-29T00:00:00+02:00\",\"2022-06-05T00:00:00+02:00\",\"2022-06-12T00:00:00+02:00\",\"2022-06-19T00:00:00+02:00\",\"2022-06-26T00:00:00+02:00\",\"2022-07-03T00:00:00+02:00\",\"2022-07-10T00:00:00+02:00\",\"2022-07-17T00:00:00+02:00\",\"2022-07-24T00:00:00+02:00\",\"2022-07-31T00:00:00+02:00\",\"2022-08-07T00:00:00+02:00\",\"2022-08-14T00:00:00+02:00\",\"2022-08-21T00:00:00+02:00\",\"2022-08-28T00:00:00+02:00\",\"2022-09-04T00:00:00+02:00\",\"2022-09-11T00:00:00+02:00\",\"2022-09-18T00:00:00+02:00\",\"2022-09-25T00:00:00+02:00\",\"2022-10-02T00:00:00+02:00\",\"2022-10-09T00:00:00+02:00\",\"2022-10-16T00:00:00+02:00\",\"2022-10-23T00:00:00+02:00\",\"2022-10-30T00:00:00+02:00\",\"2022-11-06T00:00:00+01:00\",\"2022-11-13T00:00:00+01:00\",\"2022-11-20T00:00:00+01:00\",\"2022-11-27T00:00:00+01:00\",\"2022-12-04T00:00:00+01:00\",\"2022-12-11T00:00:00+01:00\",\"2022-12-18T00:00:00+01:00\",\"2022-12-25T00:00:00+01:00\",\"2023-01-01T00:00:00+01:00\",\"2023-01-08T00:00:00+01:00\",\"2023-01-15T00:00:00+01:00\",\"2023-01-22T00:00:00+01:00\",\"2023-01-29T00:00:00+01:00\",\"2023-02-05T00:00:00+01:00\",\"2023-02-12T00:00:00+01:00\",\"2023-02-19T00:00:00+01:00\",\"2023-02-26T00:00:00+01:00\",\"2023-03-05T00:00:00+01:00\",\"2023-03-12T00:00:00+01:00\",\"2023-03-19T00:00:00+01:00\",\"2023-03-26T00:00:00+01:00\",\"2023-04-02T00:00:00+02:00\"],\"xaxis\":\"x\",\"y\":[0.0,0.0,0.0,0.0,44.0,223.0,557.0,0.0,0.0,0.0,847.0,975.0,0.0,26.0,27606.0,9592.0,1354.0,131.0,3449.0,22.0,0.0,170.0,61.0,0.0,0.0,0.0,0.0,0.0,0.0,0.0,0.0,0.0,0.0,1.0,0.0,122.0,637.0,372.0,605.0,18761.0,509.0,576.0,2409.0,16.0,163.0,58.0,1.0,2053.0,0.0,195.0,0.0,0.0,409.0,3886.0,324.0,0.0,594.0,1.0,744.0,1182.0,393.0],\"yaxis\":\"y\",\"type\":\"scatter\"},{\"hovertemplate\":\"variable=MD<br>index=%{x}<br>value=%{y}<extra></extra>\",\"legendgroup\":\"MD\",\"line\":{\"color\":\"#EF553B\",\"dash\":\"solid\"},\"marker\":{\"symbol\":\"circle\"},\"mode\":\"lines\",\"name\":\"MD\",\"orientation\":\"v\",\"showlegend\":true,\"x\":[\"2022-02-06T00:00:00+01:00\",\"2022-02-13T00:00:00+01:00\",\"2022-02-20T00:00:00+01:00\",\"2022-02-27T00:00:00+01:00\",\"2022-03-06T00:00:00+01:00\",\"2022-03-13T00:00:00+01:00\",\"2022-03-20T00:00:00+01:00\",\"2022-03-27T00:00:00+01:00\",\"2022-04-03T00:00:00+02:00\",\"2022-04-10T00:00:00+02:00\",\"2022-04-17T00:00:00+02:00\",\"2022-04-24T00:00:00+02:00\",\"2022-05-01T00:00:00+02:00\",\"2022-05-08T00:00:00+02:00\",\"2022-05-15T00:00:00+02:00\",\"2022-05-22T00:00:00+02:00\",\"2022-05-29T00:00:00+02:00\",\"2022-06-05T00:00:00+02:00\",\"2022-06-12T00:00:00+02:00\",\"2022-06-19T00:00:00+02:00\",\"2022-06-26T00:00:00+02:00\",\"2022-07-03T00:00:00+02:00\",\"2022-07-10T00:00:00+02:00\",\"2022-07-17T00:00:00+02:00\",\"2022-07-24T00:00:00+02:00\",\"2022-07-31T00:00:00+02:00\",\"2022-08-07T00:00:00+02:00\",\"2022-08-14T00:00:00+02:00\",\"2022-08-21T00:00:00+02:00\",\"2022-08-28T00:00:00+02:00\",\"2022-09-04T00:00:00+02:00\",\"2022-09-11T00:00:00+02:00\",\"2022-09-18T00:00:00+02:00\",\"2022-09-25T00:00:00+02:00\",\"2022-10-02T00:00:00+02:00\",\"2022-10-09T00:00:00+02:00\",\"2022-10-16T00:00:00+02:00\",\"2022-10-23T00:00:00+02:00\",\"2022-10-30T00:00:00+02:00\",\"2022-11-06T00:00:00+01:00\",\"2022-11-13T00:00:00+01:00\",\"2022-11-20T00:00:00+01:00\",\"2022-11-27T00:00:00+01:00\",\"2022-12-04T00:00:00+01:00\",\"2022-12-11T00:00:00+01:00\",\"2022-12-18T00:00:00+01:00\",\"2022-12-25T00:00:00+01:00\",\"2023-01-01T00:00:00+01:00\",\"2023-01-08T00:00:00+01:00\",\"2023-01-15T00:00:00+01:00\",\"2023-01-22T00:00:00+01:00\",\"2023-01-29T00:00:00+01:00\",\"2023-02-05T00:00:00+01:00\",\"2023-02-12T00:00:00+01:00\",\"2023-02-19T00:00:00+01:00\",\"2023-02-26T00:00:00+01:00\",\"2023-03-05T00:00:00+01:00\",\"2023-03-12T00:00:00+01:00\",\"2023-03-19T00:00:00+01:00\",\"2023-03-26T00:00:00+01:00\",\"2023-04-02T00:00:00+02:00\"],\"xaxis\":\"x\",\"y\":[3606.0,3963.0,3424.0,2989.0,1565.0,1283.0,34715.0,62355.0,67924.0,36615.0,50297.0,19454.0,34731.0,26077.0,2119.0,14399.0,1171.0,1971.0,3543.0,11270.0,12756.0,12535.0,20039.0,24981.0,25068.0,12320.0,17583.0,26489.0,19822.0,18316.0,19133.0,34925.0,15992.0,11807.0,15100.0,3608.0,33352.0,50378.0,23496.0,26653.0,26650.0,30493.0,55512.0,69040.0,79344.0,76679.0,81456.0,36045.0,39126.0,46182.0,76933.0,84945.0,69696.0,70304.0,67298.0,75789.0,43447.0,65544.0,59810.0,28109.0,36112.0],\"yaxis\":\"y\",\"type\":\"scatter\"},{\"hovertemplate\":\"variable=PL<br>index=%{x}<br>value=%{y}<extra></extra>\",\"legendgroup\":\"PL\",\"line\":{\"color\":\"#00cc96\",\"dash\":\"solid\"},\"marker\":{\"symbol\":\"circle\"},\"mode\":\"lines\",\"name\":\"PL\",\"orientation\":\"v\",\"showlegend\":true,\"x\":[\"2022-02-06T00:00:00+01:00\",\"2022-02-13T00:00:00+01:00\",\"2022-02-20T00:00:00+01:00\",\"2022-02-27T00:00:00+01:00\",\"2022-03-06T00:00:00+01:00\",\"2022-03-13T00:00:00+01:00\",\"2022-03-20T00:00:00+01:00\",\"2022-03-27T00:00:00+01:00\",\"2022-04-03T00:00:00+02:00\",\"2022-04-10T00:00:00+02:00\",\"2022-04-17T00:00:00+02:00\",\"2022-04-24T00:00:00+02:00\",\"2022-05-01T00:00:00+02:00\",\"2022-05-08T00:00:00+02:00\",\"2022-05-15T00:00:00+02:00\",\"2022-05-22T00:00:00+02:00\",\"2022-05-29T00:00:00+02:00\",\"2022-06-05T00:00:00+02:00\",\"2022-06-12T00:00:00+02:00\",\"2022-06-19T00:00:00+02:00\",\"2022-06-26T00:00:00+02:00\",\"2022-07-03T00:00:00+02:00\",\"2022-07-10T00:00:00+02:00\",\"2022-07-17T00:00:00+02:00\",\"2022-07-24T00:00:00+02:00\",\"2022-07-31T00:00:00+02:00\",\"2022-08-07T00:00:00+02:00\",\"2022-08-14T00:00:00+02:00\",\"2022-08-21T00:00:00+02:00\",\"2022-08-28T00:00:00+02:00\",\"2022-09-04T00:00:00+02:00\",\"2022-09-11T00:00:00+02:00\",\"2022-09-18T00:00:00+02:00\",\"2022-09-25T00:00:00+02:00\",\"2022-10-02T00:00:00+02:00\",\"2022-10-09T00:00:00+02:00\",\"2022-10-16T00:00:00+02:00\",\"2022-10-23T00:00:00+02:00\",\"2022-10-30T00:00:00+02:00\",\"2022-11-06T00:00:00+01:00\",\"2022-11-13T00:00:00+01:00\",\"2022-11-20T00:00:00+01:00\",\"2022-11-27T00:00:00+01:00\",\"2022-12-04T00:00:00+01:00\",\"2022-12-11T00:00:00+01:00\",\"2022-12-18T00:00:00+01:00\",\"2022-12-25T00:00:00+01:00\",\"2023-01-01T00:00:00+01:00\",\"2023-01-08T00:00:00+01:00\",\"2023-01-15T00:00:00+01:00\",\"2023-01-22T00:00:00+01:00\",\"2023-01-29T00:00:00+01:00\",\"2023-02-05T00:00:00+01:00\",\"2023-02-12T00:00:00+01:00\",\"2023-02-19T00:00:00+01:00\",\"2023-02-26T00:00:00+01:00\",\"2023-03-05T00:00:00+01:00\",\"2023-03-12T00:00:00+01:00\",\"2023-03-19T00:00:00+01:00\",\"2023-03-26T00:00:00+01:00\",\"2023-04-02T00:00:00+02:00\"],\"xaxis\":\"x\",\"y\":[0.0,0.0,0.0,0.0,0.0,0.0,0.0,0.0,0.0,0.0,0.0,0.0,0.0,0.0,0.0,0.0,0.0,0.0,0.0,0.0,0.0,0.0,0.0,0.0,0.0,0.0,0.0,0.0,0.0,0.0,0.0,0.0,0.0,0.0,0.0,0.0,0.0,0.0,0.0,0.0,0.0,0.0,0.0,0.0,0.0,0.0,0.0,0.0,0.0,0.0,0.0,0.0,0.0,0.0,0.0,0.0,0.0,0.0,0.0,0.0,0.0],\"yaxis\":\"y\",\"type\":\"scatter\"},{\"hovertemplate\":\"variable=RO<br>index=%{x}<br>value=%{y}<extra></extra>\",\"legendgroup\":\"RO\",\"line\":{\"color\":\"#ab63fa\",\"dash\":\"solid\"},\"marker\":{\"symbol\":\"circle\"},\"mode\":\"lines\",\"name\":\"RO\",\"orientation\":\"v\",\"showlegend\":true,\"x\":[\"2022-02-06T00:00:00+01:00\",\"2022-02-13T00:00:00+01:00\",\"2022-02-20T00:00:00+01:00\",\"2022-02-27T00:00:00+01:00\",\"2022-03-06T00:00:00+01:00\",\"2022-03-13T00:00:00+01:00\",\"2022-03-20T00:00:00+01:00\",\"2022-03-27T00:00:00+01:00\",\"2022-04-03T00:00:00+02:00\",\"2022-04-10T00:00:00+02:00\",\"2022-04-17T00:00:00+02:00\",\"2022-04-24T00:00:00+02:00\",\"2022-05-01T00:00:00+02:00\",\"2022-05-08T00:00:00+02:00\",\"2022-05-15T00:00:00+02:00\",\"2022-05-22T00:00:00+02:00\",\"2022-05-29T00:00:00+02:00\",\"2022-06-05T00:00:00+02:00\",\"2022-06-12T00:00:00+02:00\",\"2022-06-19T00:00:00+02:00\",\"2022-06-26T00:00:00+02:00\",\"2022-07-03T00:00:00+02:00\",\"2022-07-10T00:00:00+02:00\",\"2022-07-17T00:00:00+02:00\",\"2022-07-24T00:00:00+02:00\",\"2022-07-31T00:00:00+02:00\",\"2022-08-07T00:00:00+02:00\",\"2022-08-14T00:00:00+02:00\",\"2022-08-21T00:00:00+02:00\",\"2022-08-28T00:00:00+02:00\",\"2022-09-04T00:00:00+02:00\",\"2022-09-11T00:00:00+02:00\",\"2022-09-18T00:00:00+02:00\",\"2022-09-25T00:00:00+02:00\",\"2022-10-02T00:00:00+02:00\",\"2022-10-09T00:00:00+02:00\",\"2022-10-16T00:00:00+02:00\",\"2022-10-23T00:00:00+02:00\",\"2022-10-30T00:00:00+02:00\",\"2022-11-06T00:00:00+01:00\",\"2022-11-13T00:00:00+01:00\",\"2022-11-20T00:00:00+01:00\",\"2022-11-27T00:00:00+01:00\",\"2022-12-04T00:00:00+01:00\",\"2022-12-11T00:00:00+01:00\",\"2022-12-18T00:00:00+01:00\",\"2022-12-25T00:00:00+01:00\",\"2023-01-01T00:00:00+01:00\",\"2023-01-08T00:00:00+01:00\",\"2023-01-15T00:00:00+01:00\",\"2023-01-22T00:00:00+01:00\",\"2023-01-29T00:00:00+01:00\",\"2023-02-05T00:00:00+01:00\",\"2023-02-12T00:00:00+01:00\",\"2023-02-19T00:00:00+01:00\",\"2023-02-26T00:00:00+01:00\",\"2023-03-05T00:00:00+01:00\",\"2023-03-12T00:00:00+01:00\",\"2023-03-19T00:00:00+01:00\",\"2023-03-26T00:00:00+01:00\",\"2023-04-02T00:00:00+02:00\"],\"xaxis\":\"x\",\"y\":[0.0,0.0,0.0,38.0,5050.0,2235.0,81.0,0.0,9399.0,405.0,626.0,209.0,3130.0,1743.0,0.0,2259.0,2.0,3.0,360.0,6368.0,1978.0,4963.0,1450.0,2581.0,2365.0,122.0,303.0,1985.0,3352.0,1794.0,553.0,1376.0,1199.0,4.0,1412.0,0.0,0.0,0.0,50.0,0.0,0.0,5914.0,14080.0,2546.0,11291.0,13121.0,2629.0,0.0,0.0,2002.0,38493.0,22927.0,11488.0,9885.0,1715.0,10225.0,3598.0,31251.0,7978.0,4249.0,12175.0],\"yaxis\":\"y\",\"type\":\"scatter\"},{\"hovertemplate\":\"variable=SK<br>index=%{x}<br>value=%{y}<extra></extra>\",\"legendgroup\":\"SK\",\"line\":{\"color\":\"#FFA15A\",\"dash\":\"solid\"},\"marker\":{\"symbol\":\"circle\"},\"mode\":\"lines\",\"name\":\"SK\",\"orientation\":\"v\",\"showlegend\":true,\"x\":[\"2022-02-06T00:00:00+01:00\",\"2022-02-13T00:00:00+01:00\",\"2022-02-20T00:00:00+01:00\",\"2022-02-27T00:00:00+01:00\",\"2022-03-06T00:00:00+01:00\",\"2022-03-13T00:00:00+01:00\",\"2022-03-20T00:00:00+01:00\",\"2022-03-27T00:00:00+01:00\",\"2022-04-03T00:00:00+02:00\",\"2022-04-10T00:00:00+02:00\",\"2022-04-17T00:00:00+02:00\",\"2022-04-24T00:00:00+02:00\",\"2022-05-01T00:00:00+02:00\",\"2022-05-08T00:00:00+02:00\",\"2022-05-15T00:00:00+02:00\",\"2022-05-22T00:00:00+02:00\",\"2022-05-29T00:00:00+02:00\",\"2022-06-05T00:00:00+02:00\",\"2022-06-12T00:00:00+02:00\",\"2022-06-19T00:00:00+02:00\",\"2022-06-26T00:00:00+02:00\",\"2022-07-03T00:00:00+02:00\",\"2022-07-10T00:00:00+02:00\",\"2022-07-17T00:00:00+02:00\",\"2022-07-24T00:00:00+02:00\",\"2022-07-31T00:00:00+02:00\",\"2022-08-07T00:00:00+02:00\",\"2022-08-14T00:00:00+02:00\",\"2022-08-21T00:00:00+02:00\",\"2022-08-28T00:00:00+02:00\",\"2022-09-04T00:00:00+02:00\",\"2022-09-11T00:00:00+02:00\",\"2022-09-18T00:00:00+02:00\",\"2022-09-25T00:00:00+02:00\",\"2022-10-02T00:00:00+02:00\",\"2022-10-09T00:00:00+02:00\",\"2022-10-16T00:00:00+02:00\",\"2022-10-23T00:00:00+02:00\",\"2022-10-30T00:00:00+02:00\",\"2022-11-06T00:00:00+01:00\",\"2022-11-13T00:00:00+01:00\",\"2022-11-20T00:00:00+01:00\",\"2022-11-27T00:00:00+01:00\",\"2022-12-04T00:00:00+01:00\",\"2022-12-11T00:00:00+01:00\",\"2022-12-18T00:00:00+01:00\",\"2022-12-25T00:00:00+01:00\",\"2023-01-01T00:00:00+01:00\",\"2023-01-08T00:00:00+01:00\",\"2023-01-15T00:00:00+01:00\",\"2023-01-22T00:00:00+01:00\",\"2023-01-29T00:00:00+01:00\",\"2023-02-05T00:00:00+01:00\",\"2023-02-12T00:00:00+01:00\",\"2023-02-19T00:00:00+01:00\",\"2023-02-26T00:00:00+01:00\",\"2023-03-05T00:00:00+01:00\",\"2023-03-12T00:00:00+01:00\",\"2023-03-19T00:00:00+01:00\",\"2023-03-26T00:00:00+01:00\",\"2023-04-02T00:00:00+02:00\"],\"xaxis\":\"x\",\"y\":[64280.0,64245.0,71655.0,60028.0,38492.0,49857.0,63769.0,47643.0,26114.0,67756.0,37689.0,78440.0,36225.0,34080.0,2206.0,21523.0,57639.0,58480.0,36610.0,24464.0,46199.0,27116.0,8997.0,0.0,0.0,0.0,0.0,0.0,0.0,0.0,0.0,0.0,0.0,22410.0,28265.0,35648.0,53621.0,46050.0,71290.0,40619.0,54389.0,37118.0,22758.0,22413.0,10449.0,8440.0,21876.0,67692.0,77027.0,63103.0,8500.0,13481.0,49098.0,56977.0,53402.0,25190.0,32727.0,10179.0,24019.0,35480.0,13004.0],\"yaxis\":\"y\",\"type\":\"scatter\"}],                        {\"template\":{\"data\":{\"histogram2dcontour\":[{\"type\":\"histogram2dcontour\",\"colorbar\":{\"outlinewidth\":0,\"ticks\":\"\"},\"colorscale\":[[0.0,\"#0d0887\"],[0.1111111111111111,\"#46039f\"],[0.2222222222222222,\"#7201a8\"],[0.3333333333333333,\"#9c179e\"],[0.4444444444444444,\"#bd3786\"],[0.5555555555555556,\"#d8576b\"],[0.6666666666666666,\"#ed7953\"],[0.7777777777777778,\"#fb9f3a\"],[0.8888888888888888,\"#fdca26\"],[1.0,\"#f0f921\"]]}],\"choropleth\":[{\"type\":\"choropleth\",\"colorbar\":{\"outlinewidth\":0,\"ticks\":\"\"}}],\"histogram2d\":[{\"type\":\"histogram2d\",\"colorbar\":{\"outlinewidth\":0,\"ticks\":\"\"},\"colorscale\":[[0.0,\"#0d0887\"],[0.1111111111111111,\"#46039f\"],[0.2222222222222222,\"#7201a8\"],[0.3333333333333333,\"#9c179e\"],[0.4444444444444444,\"#bd3786\"],[0.5555555555555556,\"#d8576b\"],[0.6666666666666666,\"#ed7953\"],[0.7777777777777778,\"#fb9f3a\"],[0.8888888888888888,\"#fdca26\"],[1.0,\"#f0f921\"]]}],\"heatmap\":[{\"type\":\"heatmap\",\"colorbar\":{\"outlinewidth\":0,\"ticks\":\"\"},\"colorscale\":[[0.0,\"#0d0887\"],[0.1111111111111111,\"#46039f\"],[0.2222222222222222,\"#7201a8\"],[0.3333333333333333,\"#9c179e\"],[0.4444444444444444,\"#bd3786\"],[0.5555555555555556,\"#d8576b\"],[0.6666666666666666,\"#ed7953\"],[0.7777777777777778,\"#fb9f3a\"],[0.8888888888888888,\"#fdca26\"],[1.0,\"#f0f921\"]]}],\"heatmapgl\":[{\"type\":\"heatmapgl\",\"colorbar\":{\"outlinewidth\":0,\"ticks\":\"\"},\"colorscale\":[[0.0,\"#0d0887\"],[0.1111111111111111,\"#46039f\"],[0.2222222222222222,\"#7201a8\"],[0.3333333333333333,\"#9c179e\"],[0.4444444444444444,\"#bd3786\"],[0.5555555555555556,\"#d8576b\"],[0.6666666666666666,\"#ed7953\"],[0.7777777777777778,\"#fb9f3a\"],[0.8888888888888888,\"#fdca26\"],[1.0,\"#f0f921\"]]}],\"contourcarpet\":[{\"type\":\"contourcarpet\",\"colorbar\":{\"outlinewidth\":0,\"ticks\":\"\"}}],\"contour\":[{\"type\":\"contour\",\"colorbar\":{\"outlinewidth\":0,\"ticks\":\"\"},\"colorscale\":[[0.0,\"#0d0887\"],[0.1111111111111111,\"#46039f\"],[0.2222222222222222,\"#7201a8\"],[0.3333333333333333,\"#9c179e\"],[0.4444444444444444,\"#bd3786\"],[0.5555555555555556,\"#d8576b\"],[0.6666666666666666,\"#ed7953\"],[0.7777777777777778,\"#fb9f3a\"],[0.8888888888888888,\"#fdca26\"],[1.0,\"#f0f921\"]]}],\"surface\":[{\"type\":\"surface\",\"colorbar\":{\"outlinewidth\":0,\"ticks\":\"\"},\"colorscale\":[[0.0,\"#0d0887\"],[0.1111111111111111,\"#46039f\"],[0.2222222222222222,\"#7201a8\"],[0.3333333333333333,\"#9c179e\"],[0.4444444444444444,\"#bd3786\"],[0.5555555555555556,\"#d8576b\"],[0.6666666666666666,\"#ed7953\"],[0.7777777777777778,\"#fb9f3a\"],[0.8888888888888888,\"#fdca26\"],[1.0,\"#f0f921\"]]}],\"mesh3d\":[{\"type\":\"mesh3d\",\"colorbar\":{\"outlinewidth\":0,\"ticks\":\"\"}}],\"scatter\":[{\"fillpattern\":{\"fillmode\":\"overlay\",\"size\":10,\"solidity\":0.2},\"type\":\"scatter\"}],\"parcoords\":[{\"type\":\"parcoords\",\"line\":{\"colorbar\":{\"outlinewidth\":0,\"ticks\":\"\"}}}],\"scatterpolargl\":[{\"type\":\"scatterpolargl\",\"marker\":{\"colorbar\":{\"outlinewidth\":0,\"ticks\":\"\"}}}],\"bar\":[{\"error_x\":{\"color\":\"#2a3f5f\"},\"error_y\":{\"color\":\"#2a3f5f\"},\"marker\":{\"line\":{\"color\":\"#E5ECF6\",\"width\":0.5},\"pattern\":{\"fillmode\":\"overlay\",\"size\":10,\"solidity\":0.2}},\"type\":\"bar\"}],\"scattergeo\":[{\"type\":\"scattergeo\",\"marker\":{\"colorbar\":{\"outlinewidth\":0,\"ticks\":\"\"}}}],\"scatterpolar\":[{\"type\":\"scatterpolar\",\"marker\":{\"colorbar\":{\"outlinewidth\":0,\"ticks\":\"\"}}}],\"histogram\":[{\"marker\":{\"pattern\":{\"fillmode\":\"overlay\",\"size\":10,\"solidity\":0.2}},\"type\":\"histogram\"}],\"scattergl\":[{\"type\":\"scattergl\",\"marker\":{\"colorbar\":{\"outlinewidth\":0,\"ticks\":\"\"}}}],\"scatter3d\":[{\"type\":\"scatter3d\",\"line\":{\"colorbar\":{\"outlinewidth\":0,\"ticks\":\"\"}},\"marker\":{\"colorbar\":{\"outlinewidth\":0,\"ticks\":\"\"}}}],\"scattermapbox\":[{\"type\":\"scattermapbox\",\"marker\":{\"colorbar\":{\"outlinewidth\":0,\"ticks\":\"\"}}}],\"scatterternary\":[{\"type\":\"scatterternary\",\"marker\":{\"colorbar\":{\"outlinewidth\":0,\"ticks\":\"\"}}}],\"scattercarpet\":[{\"type\":\"scattercarpet\",\"marker\":{\"colorbar\":{\"outlinewidth\":0,\"ticks\":\"\"}}}],\"carpet\":[{\"aaxis\":{\"endlinecolor\":\"#2a3f5f\",\"gridcolor\":\"white\",\"linecolor\":\"white\",\"minorgridcolor\":\"white\",\"startlinecolor\":\"#2a3f5f\"},\"baxis\":{\"endlinecolor\":\"#2a3f5f\",\"gridcolor\":\"white\",\"linecolor\":\"white\",\"minorgridcolor\":\"white\",\"startlinecolor\":\"#2a3f5f\"},\"type\":\"carpet\"}],\"table\":[{\"cells\":{\"fill\":{\"color\":\"#EBF0F8\"},\"line\":{\"color\":\"white\"}},\"header\":{\"fill\":{\"color\":\"#C8D4E3\"},\"line\":{\"color\":\"white\"}},\"type\":\"table\"}],\"barpolar\":[{\"marker\":{\"line\":{\"color\":\"#E5ECF6\",\"width\":0.5},\"pattern\":{\"fillmode\":\"overlay\",\"size\":10,\"solidity\":0.2}},\"type\":\"barpolar\"}],\"pie\":[{\"automargin\":true,\"type\":\"pie\"}]},\"layout\":{\"autotypenumbers\":\"strict\",\"colorway\":[\"#636efa\",\"#EF553B\",\"#00cc96\",\"#ab63fa\",\"#FFA15A\",\"#19d3f3\",\"#FF6692\",\"#B6E880\",\"#FF97FF\",\"#FECB52\"],\"font\":{\"color\":\"#2a3f5f\"},\"hovermode\":\"closest\",\"hoverlabel\":{\"align\":\"left\"},\"paper_bgcolor\":\"white\",\"plot_bgcolor\":\"#E5ECF6\",\"polar\":{\"bgcolor\":\"#E5ECF6\",\"angularaxis\":{\"gridcolor\":\"white\",\"linecolor\":\"white\",\"ticks\":\"\"},\"radialaxis\":{\"gridcolor\":\"white\",\"linecolor\":\"white\",\"ticks\":\"\"}},\"ternary\":{\"bgcolor\":\"#E5ECF6\",\"aaxis\":{\"gridcolor\":\"white\",\"linecolor\":\"white\",\"ticks\":\"\"},\"baxis\":{\"gridcolor\":\"white\",\"linecolor\":\"white\",\"ticks\":\"\"},\"caxis\":{\"gridcolor\":\"white\",\"linecolor\":\"white\",\"ticks\":\"\"}},\"coloraxis\":{\"colorbar\":{\"outlinewidth\":0,\"ticks\":\"\"}},\"colorscale\":{\"sequential\":[[0.0,\"#0d0887\"],[0.1111111111111111,\"#46039f\"],[0.2222222222222222,\"#7201a8\"],[0.3333333333333333,\"#9c179e\"],[0.4444444444444444,\"#bd3786\"],[0.5555555555555556,\"#d8576b\"],[0.6666666666666666,\"#ed7953\"],[0.7777777777777778,\"#fb9f3a\"],[0.8888888888888888,\"#fdca26\"],[1.0,\"#f0f921\"]],\"sequentialminus\":[[0.0,\"#0d0887\"],[0.1111111111111111,\"#46039f\"],[0.2222222222222222,\"#7201a8\"],[0.3333333333333333,\"#9c179e\"],[0.4444444444444444,\"#bd3786\"],[0.5555555555555556,\"#d8576b\"],[0.6666666666666666,\"#ed7953\"],[0.7777777777777778,\"#fb9f3a\"],[0.8888888888888888,\"#fdca26\"],[1.0,\"#f0f921\"]],\"diverging\":[[0,\"#8e0152\"],[0.1,\"#c51b7d\"],[0.2,\"#de77ae\"],[0.3,\"#f1b6da\"],[0.4,\"#fde0ef\"],[0.5,\"#f7f7f7\"],[0.6,\"#e6f5d0\"],[0.7,\"#b8e186\"],[0.8,\"#7fbc41\"],[0.9,\"#4d9221\"],[1,\"#276419\"]]},\"xaxis\":{\"gridcolor\":\"white\",\"linecolor\":\"white\",\"ticks\":\"\",\"title\":{\"standoff\":15},\"zerolinecolor\":\"white\",\"automargin\":true,\"zerolinewidth\":2},\"yaxis\":{\"gridcolor\":\"white\",\"linecolor\":\"white\",\"ticks\":\"\",\"title\":{\"standoff\":15},\"zerolinecolor\":\"white\",\"automargin\":true,\"zerolinewidth\":2},\"scene\":{\"xaxis\":{\"backgroundcolor\":\"#E5ECF6\",\"gridcolor\":\"white\",\"linecolor\":\"white\",\"showbackground\":true,\"ticks\":\"\",\"zerolinecolor\":\"white\",\"gridwidth\":2},\"yaxis\":{\"backgroundcolor\":\"#E5ECF6\",\"gridcolor\":\"white\",\"linecolor\":\"white\",\"showbackground\":true,\"ticks\":\"\",\"zerolinecolor\":\"white\",\"gridwidth\":2},\"zaxis\":{\"backgroundcolor\":\"#E5ECF6\",\"gridcolor\":\"white\",\"linecolor\":\"white\",\"showbackground\":true,\"ticks\":\"\",\"zerolinecolor\":\"white\",\"gridwidth\":2}},\"shapedefaults\":{\"line\":{\"color\":\"#2a3f5f\"}},\"annotationdefaults\":{\"arrowcolor\":\"#2a3f5f\",\"arrowhead\":0,\"arrowwidth\":1},\"geo\":{\"bgcolor\":\"white\",\"landcolor\":\"#E5ECF6\",\"subunitcolor\":\"white\",\"showland\":true,\"showlakes\":true,\"lakecolor\":\"white\"},\"title\":{\"x\":0.05},\"mapbox\":{\"style\":\"light\"}}},\"xaxis\":{\"anchor\":\"y\",\"domain\":[0.0,1.0],\"title\":{\"text\":\"index\"}},\"yaxis\":{\"anchor\":\"x\",\"domain\":[0.0,1.0],\"title\":{\"text\":\"value\"}},\"legend\":{\"title\":{\"text\":\"variable\"},\"tracegroupgap\":0},\"margin\":{\"t\":60}},                        {\"responsive\": true}                    ).then(function(){\n",
       "                            \n",
       "var gd = document.getElementById('c69856fd-f14b-47c1-989d-3bf79784eb85');\n",
       "var x = new MutationObserver(function (mutations, observer) {{\n",
       "        var display = window.getComputedStyle(gd).display;\n",
       "        if (!display || display === 'none') {{\n",
       "            console.log([gd, 'removed!']);\n",
       "            Plotly.purge(gd);\n",
       "            observer.disconnect();\n",
       "        }}\n",
       "}});\n",
       "\n",
       "// Listen for the removal of the full notebook cells\n",
       "var notebookContainer = gd.closest('#notebook-container');\n",
       "if (notebookContainer) {{\n",
       "    x.observe(notebookContainer, {childList: true});\n",
       "}}\n",
       "\n",
       "// Listen for the clearing of the current output cell\n",
       "var outputEl = gd.closest('.output');\n",
       "if (outputEl) {{\n",
       "    x.observe(outputEl, {childList: true});\n",
       "}}\n",
       "\n",
       "                        })                };                });            </script>        </div>"
      ]
     },
     "metadata": {},
     "output_type": "display_data"
    }
   ],
   "source": [
    "px.line(ukraine_imports.resample('1w').sum())"
   ]
  },
  {
   "cell_type": "code",
   "execution_count": 70,
   "id": "2b4b50d6",
   "metadata": {},
   "outputs": [
    {
     "data": {
      "application/vnd.plotly.v1+json": {
       "config": {
        "plotlyServerURL": "https://plot.ly"
       },
       "data": [
        {
         "hovertemplate": "variable=HU<br>index=%{x}<br>value=%{y}<extra></extra>",
         "legendgroup": "HU",
         "line": {
          "color": "#636efa",
          "dash": "solid"
         },
         "marker": {
          "symbol": "circle"
         },
         "mode": "lines",
         "name": "HU",
         "orientation": "v",
         "showlegend": true,
         "type": "scatter",
         "x": [
          "2022-02-06T00:00:00+00:00",
          "2022-02-13T00:00:00+00:00",
          "2022-02-20T00:00:00+00:00",
          "2022-02-27T00:00:00+00:00",
          "2022-03-06T00:00:00+00:00",
          "2022-03-13T00:00:00+00:00",
          "2022-03-20T00:00:00+00:00",
          "2022-03-27T00:00:00+00:00",
          "2022-04-03T00:00:00+00:00",
          "2022-04-10T00:00:00+00:00",
          "2022-04-17T00:00:00+00:00",
          "2022-04-24T00:00:00+00:00",
          "2022-05-01T00:00:00+00:00",
          "2022-05-08T00:00:00+00:00",
          "2022-05-15T00:00:00+00:00",
          "2022-05-22T00:00:00+00:00",
          "2022-05-29T00:00:00+00:00",
          "2022-06-05T00:00:00+00:00",
          "2022-06-12T00:00:00+00:00",
          "2022-06-19T00:00:00+00:00",
          "2022-06-26T00:00:00+00:00",
          "2022-07-03T00:00:00+00:00",
          "2022-07-10T00:00:00+00:00",
          "2022-07-17T00:00:00+00:00",
          "2022-07-24T00:00:00+00:00",
          "2022-07-31T00:00:00+00:00",
          "2022-08-07T00:00:00+00:00",
          "2022-08-14T00:00:00+00:00",
          "2022-08-21T00:00:00+00:00",
          "2022-08-28T00:00:00+00:00",
          "2022-09-04T00:00:00+00:00",
          "2022-09-11T00:00:00+00:00",
          "2022-09-18T00:00:00+00:00",
          "2022-09-25T00:00:00+00:00",
          "2022-10-02T00:00:00+00:00",
          "2022-10-09T00:00:00+00:00",
          "2022-10-16T00:00:00+00:00",
          "2022-10-23T00:00:00+00:00",
          "2022-10-30T00:00:00+00:00",
          "2022-11-06T00:00:00+00:00",
          "2022-11-13T00:00:00+00:00",
          "2022-11-20T00:00:00+00:00",
          "2022-11-27T00:00:00+00:00",
          "2022-12-04T00:00:00+00:00",
          "2022-12-11T00:00:00+00:00",
          "2022-12-18T00:00:00+00:00",
          "2022-12-25T00:00:00+00:00",
          "2023-01-01T00:00:00+00:00",
          "2023-01-08T00:00:00+00:00",
          "2023-01-15T00:00:00+00:00",
          "2023-01-22T00:00:00+00:00",
          "2023-01-29T00:00:00+00:00",
          "2023-02-05T00:00:00+00:00",
          "2023-02-12T00:00:00+00:00",
          "2023-02-19T00:00:00+00:00",
          "2023-02-26T00:00:00+00:00",
          "2023-03-05T00:00:00+00:00",
          "2023-03-12T00:00:00+00:00",
          "2023-03-19T00:00:00+00:00",
          "2023-03-26T00:00:00+00:00",
          "2023-04-02T00:00:00+00:00"
         ],
         "xaxis": "x",
         "y": [
          59548,
          76735,
          76154,
          45769,
          27130,
          23742,
          46505,
          73797,
          87683,
          68823,
          61297,
          47975,
          56323,
          45699,
          -24771,
          23096,
          17332,
          33940,
          19639,
          48546,
          70314,
          65045,
          65704,
          75345,
          84249,
          59807,
          74714,
          91839,
          83464,
          76859,
          88634,
          87071,
          83790,
          66335,
          68369,
          41202,
          35877,
          37710,
          33319,
          7942,
          38713,
          43057,
          54855,
          71915,
          73255,
          72318,
          73448,
          27220,
          59416,
          51735,
          81471,
          77238,
          38586,
          39209,
          70234,
          92882,
          57908,
          77734,
          66748,
          34806,
          38930
         ],
         "yaxis": "y"
        },
        {
         "hovertemplate": "variable=MD<br>index=%{x}<br>value=%{y}<extra></extra>",
         "legendgroup": "MD",
         "line": {
          "color": "#EF553B",
          "dash": "solid"
         },
         "marker": {
          "symbol": "circle"
         },
         "mode": "lines",
         "name": "MD",
         "orientation": "v",
         "showlegend": true,
         "type": "scatter",
         "x": [
          "2022-02-06T00:00:00+00:00",
          "2022-02-13T00:00:00+00:00",
          "2022-02-20T00:00:00+00:00",
          "2022-02-27T00:00:00+00:00",
          "2022-03-06T00:00:00+00:00",
          "2022-03-13T00:00:00+00:00",
          "2022-03-20T00:00:00+00:00",
          "2022-03-27T00:00:00+00:00",
          "2022-04-03T00:00:00+00:00",
          "2022-04-10T00:00:00+00:00",
          "2022-04-17T00:00:00+00:00",
          "2022-04-24T00:00:00+00:00",
          "2022-05-01T00:00:00+00:00",
          "2022-05-08T00:00:00+00:00",
          "2022-05-15T00:00:00+00:00",
          "2022-05-22T00:00:00+00:00",
          "2022-05-29T00:00:00+00:00",
          "2022-06-05T00:00:00+00:00",
          "2022-06-12T00:00:00+00:00",
          "2022-06-19T00:00:00+00:00",
          "2022-06-26T00:00:00+00:00",
          "2022-07-03T00:00:00+00:00",
          "2022-07-10T00:00:00+00:00",
          "2022-07-17T00:00:00+00:00",
          "2022-07-24T00:00:00+00:00",
          "2022-07-31T00:00:00+00:00",
          "2022-08-07T00:00:00+00:00",
          "2022-08-14T00:00:00+00:00",
          "2022-08-21T00:00:00+00:00",
          "2022-08-28T00:00:00+00:00",
          "2022-09-04T00:00:00+00:00",
          "2022-09-11T00:00:00+00:00",
          "2022-09-18T00:00:00+00:00",
          "2022-09-25T00:00:00+00:00",
          "2022-10-02T00:00:00+00:00",
          "2022-10-09T00:00:00+00:00",
          "2022-10-16T00:00:00+00:00",
          "2022-10-23T00:00:00+00:00",
          "2022-10-30T00:00:00+00:00",
          "2022-11-06T00:00:00+00:00",
          "2022-11-13T00:00:00+00:00",
          "2022-11-20T00:00:00+00:00",
          "2022-11-27T00:00:00+00:00",
          "2022-12-04T00:00:00+00:00",
          "2022-12-11T00:00:00+00:00",
          "2022-12-18T00:00:00+00:00",
          "2022-12-25T00:00:00+00:00",
          "2023-01-01T00:00:00+00:00",
          "2023-01-08T00:00:00+00:00",
          "2023-01-15T00:00:00+00:00",
          "2023-01-22T00:00:00+00:00",
          "2023-01-29T00:00:00+00:00",
          "2023-02-05T00:00:00+00:00",
          "2023-02-12T00:00:00+00:00",
          "2023-02-19T00:00:00+00:00",
          "2023-02-26T00:00:00+00:00",
          "2023-03-05T00:00:00+00:00",
          "2023-03-12T00:00:00+00:00",
          "2023-03-19T00:00:00+00:00",
          "2023-03-26T00:00:00+00:00",
          "2023-04-02T00:00:00+00:00"
         ],
         "xaxis": "x",
         "y": [
          -1833,
          -1036,
          -1368,
          -1736,
          -987,
          -414,
          -34196,
          -62372,
          -68285,
          -36426,
          -47504,
          -15677,
          -33371,
          -24561,
          13488,
          -3028,
          28409,
          14402,
          16453,
          -6249,
          -7824,
          -8999,
          -17949,
          -23510,
          -23014,
          -7714,
          -10408,
          -19423,
          -17244,
          -8913,
          -12977,
          -34275,
          -6365,
          41,
          -6234,
          10033,
          -30862,
          -49020,
          -20508,
          -23384,
          -24918,
          -26346,
          -55132,
          -69472,
          -79368,
          -76340,
          -80657,
          -32119,
          -39502,
          -45582,
          -77191,
          -84777,
          -70132,
          -69415,
          -67595,
          -75617,
          -42769,
          -65327,
          -59433,
          -26881,
          -34840
         ],
         "yaxis": "y"
        },
        {
         "hovertemplate": "variable=PL<br>index=%{x}<br>value=%{y}<extra></extra>",
         "legendgroup": "PL",
         "line": {
          "color": "#00cc96",
          "dash": "solid"
         },
         "marker": {
          "symbol": "circle"
         },
         "mode": "lines",
         "name": "PL",
         "orientation": "v",
         "showlegend": true,
         "type": "scatter",
         "x": [
          "2022-02-06T00:00:00+00:00",
          "2022-02-13T00:00:00+00:00",
          "2022-02-20T00:00:00+00:00",
          "2022-02-27T00:00:00+00:00",
          "2022-03-06T00:00:00+00:00",
          "2022-03-13T00:00:00+00:00",
          "2022-03-20T00:00:00+00:00",
          "2022-03-27T00:00:00+00:00",
          "2022-04-03T00:00:00+00:00",
          "2022-04-10T00:00:00+00:00",
          "2022-04-17T00:00:00+00:00",
          "2022-04-24T00:00:00+00:00",
          "2022-05-01T00:00:00+00:00",
          "2022-05-08T00:00:00+00:00",
          "2022-05-15T00:00:00+00:00",
          "2022-05-22T00:00:00+00:00",
          "2022-05-29T00:00:00+00:00",
          "2022-06-05T00:00:00+00:00",
          "2022-06-12T00:00:00+00:00",
          "2022-06-19T00:00:00+00:00",
          "2022-06-26T00:00:00+00:00",
          "2022-07-03T00:00:00+00:00",
          "2022-07-10T00:00:00+00:00",
          "2022-07-17T00:00:00+00:00",
          "2022-07-24T00:00:00+00:00",
          "2022-07-31T00:00:00+00:00",
          "2022-08-07T00:00:00+00:00",
          "2022-08-14T00:00:00+00:00",
          "2022-08-21T00:00:00+00:00",
          "2022-08-28T00:00:00+00:00",
          "2022-09-04T00:00:00+00:00",
          "2022-09-11T00:00:00+00:00",
          "2022-09-18T00:00:00+00:00",
          "2022-09-25T00:00:00+00:00",
          "2022-10-02T00:00:00+00:00",
          "2022-10-09T00:00:00+00:00",
          "2022-10-16T00:00:00+00:00",
          "2022-10-23T00:00:00+00:00",
          "2022-10-30T00:00:00+00:00",
          "2022-11-06T00:00:00+00:00",
          "2022-11-13T00:00:00+00:00",
          "2022-11-20T00:00:00+00:00",
          "2022-11-27T00:00:00+00:00",
          "2022-12-04T00:00:00+00:00",
          "2022-12-11T00:00:00+00:00",
          "2022-12-18T00:00:00+00:00",
          "2022-12-25T00:00:00+00:00",
          "2023-01-01T00:00:00+00:00",
          "2023-01-08T00:00:00+00:00",
          "2023-01-15T00:00:00+00:00",
          "2023-01-22T00:00:00+00:00",
          "2023-01-29T00:00:00+00:00",
          "2023-02-05T00:00:00+00:00",
          "2023-02-12T00:00:00+00:00",
          "2023-02-19T00:00:00+00:00",
          "2023-02-26T00:00:00+00:00",
          "2023-03-05T00:00:00+00:00",
          "2023-03-12T00:00:00+00:00",
          "2023-03-19T00:00:00+00:00",
          "2023-03-26T00:00:00+00:00",
          "2023-04-02T00:00:00+00:00"
         ],
         "xaxis": "x",
         "y": [
          23463,
          35868,
          36037,
          9692,
          0,
          0,
          0,
          0,
          24362,
          32569,
          22964,
          27050,
          27535,
          25928,
          34791,
          36504,
          36499,
          36398,
          36505,
          35277,
          36413,
          34773,
          32485,
          34692,
          34910,
          34884,
          35598,
          36504,
          34450,
          36475,
          34227,
          36427,
          22168,
          29839,
          36581,
          36837,
          4877,
          0,
          0,
          0,
          0,
          0,
          0,
          0,
          0,
          0,
          0,
          0,
          0,
          0,
          0,
          0,
          0,
          0,
          0,
          0,
          0,
          0,
          0,
          0,
          0
         ],
         "yaxis": "y"
        },
        {
         "hovertemplate": "variable=RO<br>index=%{x}<br>value=%{y}<extra></extra>",
         "legendgroup": "RO",
         "line": {
          "color": "#ab63fa",
          "dash": "solid"
         },
         "marker": {
          "symbol": "circle"
         },
         "mode": "lines",
         "name": "RO",
         "orientation": "v",
         "showlegend": true,
         "type": "scatter",
         "x": [
          "2022-02-06T00:00:00+00:00",
          "2022-02-13T00:00:00+00:00",
          "2022-02-20T00:00:00+00:00",
          "2022-02-27T00:00:00+00:00",
          "2022-03-06T00:00:00+00:00",
          "2022-03-13T00:00:00+00:00",
          "2022-03-20T00:00:00+00:00",
          "2022-03-27T00:00:00+00:00",
          "2022-04-03T00:00:00+00:00",
          "2022-04-10T00:00:00+00:00",
          "2022-04-17T00:00:00+00:00",
          "2022-04-24T00:00:00+00:00",
          "2022-05-01T00:00:00+00:00",
          "2022-05-08T00:00:00+00:00",
          "2022-05-15T00:00:00+00:00",
          "2022-05-22T00:00:00+00:00",
          "2022-05-29T00:00:00+00:00",
          "2022-06-05T00:00:00+00:00",
          "2022-06-12T00:00:00+00:00",
          "2022-06-19T00:00:00+00:00",
          "2022-06-26T00:00:00+00:00",
          "2022-07-03T00:00:00+00:00",
          "2022-07-10T00:00:00+00:00",
          "2022-07-17T00:00:00+00:00",
          "2022-07-24T00:00:00+00:00",
          "2022-07-31T00:00:00+00:00",
          "2022-08-07T00:00:00+00:00",
          "2022-08-14T00:00:00+00:00",
          "2022-08-21T00:00:00+00:00",
          "2022-08-28T00:00:00+00:00",
          "2022-09-04T00:00:00+00:00",
          "2022-09-11T00:00:00+00:00",
          "2022-09-18T00:00:00+00:00",
          "2022-09-25T00:00:00+00:00",
          "2022-10-02T00:00:00+00:00",
          "2022-10-09T00:00:00+00:00",
          "2022-10-16T00:00:00+00:00",
          "2022-10-23T00:00:00+00:00",
          "2022-10-30T00:00:00+00:00",
          "2022-11-06T00:00:00+00:00",
          "2022-11-13T00:00:00+00:00",
          "2022-11-20T00:00:00+00:00",
          "2022-11-27T00:00:00+00:00",
          "2022-12-04T00:00:00+00:00",
          "2022-12-11T00:00:00+00:00",
          "2022-12-18T00:00:00+00:00",
          "2022-12-25T00:00:00+00:00",
          "2023-01-01T00:00:00+00:00",
          "2023-01-08T00:00:00+00:00",
          "2023-01-15T00:00:00+00:00",
          "2023-01-22T00:00:00+00:00",
          "2023-01-29T00:00:00+00:00",
          "2023-02-05T00:00:00+00:00",
          "2023-02-12T00:00:00+00:00",
          "2023-02-19T00:00:00+00:00",
          "2023-02-26T00:00:00+00:00",
          "2023-03-05T00:00:00+00:00",
          "2023-03-12T00:00:00+00:00",
          "2023-03-19T00:00:00+00:00",
          "2023-03-26T00:00:00+00:00",
          "2023-04-02T00:00:00+00:00"
         ],
         "xaxis": "x",
         "y": [
          62658,
          59160,
          66540,
          37621,
          10282,
          25950,
          51247,
          30858,
          3918,
          31839,
          21774,
          44996,
          9831,
          12175,
          23479,
          20915,
          33190,
          26323,
          22925,
          4325,
          8329,
          4262,
          11113,
          9044,
          13079,
          30402,
          22641,
          22177,
          10947,
          16714,
          14720,
          12929,
          12913,
          24656,
          32366,
          50020,
          60090,
          55323,
          55572,
          38351,
          39500,
          15638,
          -3024,
          14172,
          -2492,
          -2873,
          21511,
          58931,
          47433,
          46987,
          -37385,
          -20420,
          2984,
          17363,
          34933,
          2740,
          19887,
          -26731,
          6176,
          25029,
          -1557
         ],
         "yaxis": "y"
        },
        {
         "hovertemplate": "variable=SK<br>index=%{x}<br>value=%{y}<extra></extra>",
         "legendgroup": "SK",
         "line": {
          "color": "#FFA15A",
          "dash": "solid"
         },
         "marker": {
          "symbol": "circle"
         },
         "mode": "lines",
         "name": "SK",
         "orientation": "v",
         "showlegend": true,
         "type": "scatter",
         "x": [
          "2022-02-06T00:00:00+00:00",
          "2022-02-13T00:00:00+00:00",
          "2022-02-20T00:00:00+00:00",
          "2022-02-27T00:00:00+00:00",
          "2022-03-06T00:00:00+00:00",
          "2022-03-13T00:00:00+00:00",
          "2022-03-20T00:00:00+00:00",
          "2022-03-27T00:00:00+00:00",
          "2022-04-03T00:00:00+00:00",
          "2022-04-10T00:00:00+00:00",
          "2022-04-17T00:00:00+00:00",
          "2022-04-24T00:00:00+00:00",
          "2022-05-01T00:00:00+00:00",
          "2022-05-08T00:00:00+00:00",
          "2022-05-15T00:00:00+00:00",
          "2022-05-22T00:00:00+00:00",
          "2022-05-29T00:00:00+00:00",
          "2022-06-05T00:00:00+00:00",
          "2022-06-12T00:00:00+00:00",
          "2022-06-19T00:00:00+00:00",
          "2022-06-26T00:00:00+00:00",
          "2022-07-03T00:00:00+00:00",
          "2022-07-10T00:00:00+00:00",
          "2022-07-17T00:00:00+00:00",
          "2022-07-24T00:00:00+00:00",
          "2022-07-31T00:00:00+00:00",
          "2022-08-07T00:00:00+00:00",
          "2022-08-14T00:00:00+00:00",
          "2022-08-21T00:00:00+00:00",
          "2022-08-28T00:00:00+00:00",
          "2022-09-04T00:00:00+00:00",
          "2022-09-11T00:00:00+00:00",
          "2022-09-18T00:00:00+00:00",
          "2022-09-25T00:00:00+00:00",
          "2022-10-02T00:00:00+00:00",
          "2022-10-09T00:00:00+00:00",
          "2022-10-16T00:00:00+00:00",
          "2022-10-23T00:00:00+00:00",
          "2022-10-30T00:00:00+00:00",
          "2022-11-06T00:00:00+00:00",
          "2022-11-13T00:00:00+00:00",
          "2022-11-20T00:00:00+00:00",
          "2022-11-27T00:00:00+00:00",
          "2022-12-04T00:00:00+00:00",
          "2022-12-11T00:00:00+00:00",
          "2022-12-18T00:00:00+00:00",
          "2022-12-25T00:00:00+00:00",
          "2023-01-01T00:00:00+00:00",
          "2023-01-08T00:00:00+00:00",
          "2023-01-15T00:00:00+00:00",
          "2023-01-22T00:00:00+00:00",
          "2023-01-29T00:00:00+00:00",
          "2023-02-05T00:00:00+00:00",
          "2023-02-12T00:00:00+00:00",
          "2023-02-19T00:00:00+00:00",
          "2023-02-26T00:00:00+00:00",
          "2023-03-05T00:00:00+00:00",
          "2023-03-12T00:00:00+00:00",
          "2023-03-19T00:00:00+00:00",
          "2023-03-26T00:00:00+00:00",
          "2023-04-02T00:00:00+00:00"
         ],
         "xaxis": "x",
         "y": [
          -64491,
          -64368,
          -71560,
          -60029,
          -38090,
          -50247,
          -63720,
          -47838,
          -22296,
          -67252,
          -36000,
          -78273,
          -32541,
          -34181,
          -1529,
          -21951,
          -57556,
          -58740,
          -35178,
          -24288,
          -45374,
          -26337,
          -8605,
          0,
          0,
          0,
          0,
          0,
          0,
          0,
          0,
          0,
          0,
          -21951,
          -19741,
          -34949,
          -53691,
          -45038,
          -70511,
          -40311,
          -54548,
          -33419,
          -14627,
          -19575,
          4451,
          5908,
          -19069,
          -67938,
          -76845,
          -59987,
          13070,
          -6000,
          -43794,
          -52281,
          -51822,
          -13761,
          -29090,
          20609,
          -8787,
          -26621,
          1519
         ],
         "yaxis": "y"
        }
       ],
       "layout": {
        "legend": {
         "title": {
          "text": "variable"
         },
         "tracegroupgap": 0
        },
        "margin": {
         "t": 60
        },
        "template": {
         "data": {
          "bar": [
           {
            "error_x": {
             "color": "#2a3f5f"
            },
            "error_y": {
             "color": "#2a3f5f"
            },
            "marker": {
             "line": {
              "color": "#E5ECF6",
              "width": 0.5
             },
             "pattern": {
              "fillmode": "overlay",
              "size": 10,
              "solidity": 0.2
             }
            },
            "type": "bar"
           }
          ],
          "barpolar": [
           {
            "marker": {
             "line": {
              "color": "#E5ECF6",
              "width": 0.5
             },
             "pattern": {
              "fillmode": "overlay",
              "size": 10,
              "solidity": 0.2
             }
            },
            "type": "barpolar"
           }
          ],
          "carpet": [
           {
            "aaxis": {
             "endlinecolor": "#2a3f5f",
             "gridcolor": "white",
             "linecolor": "white",
             "minorgridcolor": "white",
             "startlinecolor": "#2a3f5f"
            },
            "baxis": {
             "endlinecolor": "#2a3f5f",
             "gridcolor": "white",
             "linecolor": "white",
             "minorgridcolor": "white",
             "startlinecolor": "#2a3f5f"
            },
            "type": "carpet"
           }
          ],
          "choropleth": [
           {
            "colorbar": {
             "outlinewidth": 0,
             "ticks": ""
            },
            "type": "choropleth"
           }
          ],
          "contour": [
           {
            "colorbar": {
             "outlinewidth": 0,
             "ticks": ""
            },
            "colorscale": [
             [
              0,
              "#0d0887"
             ],
             [
              0.1111111111111111,
              "#46039f"
             ],
             [
              0.2222222222222222,
              "#7201a8"
             ],
             [
              0.3333333333333333,
              "#9c179e"
             ],
             [
              0.4444444444444444,
              "#bd3786"
             ],
             [
              0.5555555555555556,
              "#d8576b"
             ],
             [
              0.6666666666666666,
              "#ed7953"
             ],
             [
              0.7777777777777778,
              "#fb9f3a"
             ],
             [
              0.8888888888888888,
              "#fdca26"
             ],
             [
              1,
              "#f0f921"
             ]
            ],
            "type": "contour"
           }
          ],
          "contourcarpet": [
           {
            "colorbar": {
             "outlinewidth": 0,
             "ticks": ""
            },
            "type": "contourcarpet"
           }
          ],
          "heatmap": [
           {
            "colorbar": {
             "outlinewidth": 0,
             "ticks": ""
            },
            "colorscale": [
             [
              0,
              "#0d0887"
             ],
             [
              0.1111111111111111,
              "#46039f"
             ],
             [
              0.2222222222222222,
              "#7201a8"
             ],
             [
              0.3333333333333333,
              "#9c179e"
             ],
             [
              0.4444444444444444,
              "#bd3786"
             ],
             [
              0.5555555555555556,
              "#d8576b"
             ],
             [
              0.6666666666666666,
              "#ed7953"
             ],
             [
              0.7777777777777778,
              "#fb9f3a"
             ],
             [
              0.8888888888888888,
              "#fdca26"
             ],
             [
              1,
              "#f0f921"
             ]
            ],
            "type": "heatmap"
           }
          ],
          "heatmapgl": [
           {
            "colorbar": {
             "outlinewidth": 0,
             "ticks": ""
            },
            "colorscale": [
             [
              0,
              "#0d0887"
             ],
             [
              0.1111111111111111,
              "#46039f"
             ],
             [
              0.2222222222222222,
              "#7201a8"
             ],
             [
              0.3333333333333333,
              "#9c179e"
             ],
             [
              0.4444444444444444,
              "#bd3786"
             ],
             [
              0.5555555555555556,
              "#d8576b"
             ],
             [
              0.6666666666666666,
              "#ed7953"
             ],
             [
              0.7777777777777778,
              "#fb9f3a"
             ],
             [
              0.8888888888888888,
              "#fdca26"
             ],
             [
              1,
              "#f0f921"
             ]
            ],
            "type": "heatmapgl"
           }
          ],
          "histogram": [
           {
            "marker": {
             "pattern": {
              "fillmode": "overlay",
              "size": 10,
              "solidity": 0.2
             }
            },
            "type": "histogram"
           }
          ],
          "histogram2d": [
           {
            "colorbar": {
             "outlinewidth": 0,
             "ticks": ""
            },
            "colorscale": [
             [
              0,
              "#0d0887"
             ],
             [
              0.1111111111111111,
              "#46039f"
             ],
             [
              0.2222222222222222,
              "#7201a8"
             ],
             [
              0.3333333333333333,
              "#9c179e"
             ],
             [
              0.4444444444444444,
              "#bd3786"
             ],
             [
              0.5555555555555556,
              "#d8576b"
             ],
             [
              0.6666666666666666,
              "#ed7953"
             ],
             [
              0.7777777777777778,
              "#fb9f3a"
             ],
             [
              0.8888888888888888,
              "#fdca26"
             ],
             [
              1,
              "#f0f921"
             ]
            ],
            "type": "histogram2d"
           }
          ],
          "histogram2dcontour": [
           {
            "colorbar": {
             "outlinewidth": 0,
             "ticks": ""
            },
            "colorscale": [
             [
              0,
              "#0d0887"
             ],
             [
              0.1111111111111111,
              "#46039f"
             ],
             [
              0.2222222222222222,
              "#7201a8"
             ],
             [
              0.3333333333333333,
              "#9c179e"
             ],
             [
              0.4444444444444444,
              "#bd3786"
             ],
             [
              0.5555555555555556,
              "#d8576b"
             ],
             [
              0.6666666666666666,
              "#ed7953"
             ],
             [
              0.7777777777777778,
              "#fb9f3a"
             ],
             [
              0.8888888888888888,
              "#fdca26"
             ],
             [
              1,
              "#f0f921"
             ]
            ],
            "type": "histogram2dcontour"
           }
          ],
          "mesh3d": [
           {
            "colorbar": {
             "outlinewidth": 0,
             "ticks": ""
            },
            "type": "mesh3d"
           }
          ],
          "parcoords": [
           {
            "line": {
             "colorbar": {
              "outlinewidth": 0,
              "ticks": ""
             }
            },
            "type": "parcoords"
           }
          ],
          "pie": [
           {
            "automargin": true,
            "type": "pie"
           }
          ],
          "scatter": [
           {
            "fillpattern": {
             "fillmode": "overlay",
             "size": 10,
             "solidity": 0.2
            },
            "type": "scatter"
           }
          ],
          "scatter3d": [
           {
            "line": {
             "colorbar": {
              "outlinewidth": 0,
              "ticks": ""
             }
            },
            "marker": {
             "colorbar": {
              "outlinewidth": 0,
              "ticks": ""
             }
            },
            "type": "scatter3d"
           }
          ],
          "scattercarpet": [
           {
            "marker": {
             "colorbar": {
              "outlinewidth": 0,
              "ticks": ""
             }
            },
            "type": "scattercarpet"
           }
          ],
          "scattergeo": [
           {
            "marker": {
             "colorbar": {
              "outlinewidth": 0,
              "ticks": ""
             }
            },
            "type": "scattergeo"
           }
          ],
          "scattergl": [
           {
            "marker": {
             "colorbar": {
              "outlinewidth": 0,
              "ticks": ""
             }
            },
            "type": "scattergl"
           }
          ],
          "scattermapbox": [
           {
            "marker": {
             "colorbar": {
              "outlinewidth": 0,
              "ticks": ""
             }
            },
            "type": "scattermapbox"
           }
          ],
          "scatterpolar": [
           {
            "marker": {
             "colorbar": {
              "outlinewidth": 0,
              "ticks": ""
             }
            },
            "type": "scatterpolar"
           }
          ],
          "scatterpolargl": [
           {
            "marker": {
             "colorbar": {
              "outlinewidth": 0,
              "ticks": ""
             }
            },
            "type": "scatterpolargl"
           }
          ],
          "scatterternary": [
           {
            "marker": {
             "colorbar": {
              "outlinewidth": 0,
              "ticks": ""
             }
            },
            "type": "scatterternary"
           }
          ],
          "surface": [
           {
            "colorbar": {
             "outlinewidth": 0,
             "ticks": ""
            },
            "colorscale": [
             [
              0,
              "#0d0887"
             ],
             [
              0.1111111111111111,
              "#46039f"
             ],
             [
              0.2222222222222222,
              "#7201a8"
             ],
             [
              0.3333333333333333,
              "#9c179e"
             ],
             [
              0.4444444444444444,
              "#bd3786"
             ],
             [
              0.5555555555555556,
              "#d8576b"
             ],
             [
              0.6666666666666666,
              "#ed7953"
             ],
             [
              0.7777777777777778,
              "#fb9f3a"
             ],
             [
              0.8888888888888888,
              "#fdca26"
             ],
             [
              1,
              "#f0f921"
             ]
            ],
            "type": "surface"
           }
          ],
          "table": [
           {
            "cells": {
             "fill": {
              "color": "#EBF0F8"
             },
             "line": {
              "color": "white"
             }
            },
            "header": {
             "fill": {
              "color": "#C8D4E3"
             },
             "line": {
              "color": "white"
             }
            },
            "type": "table"
           }
          ]
         },
         "layout": {
          "annotationdefaults": {
           "arrowcolor": "#2a3f5f",
           "arrowhead": 0,
           "arrowwidth": 1
          },
          "autotypenumbers": "strict",
          "coloraxis": {
           "colorbar": {
            "outlinewidth": 0,
            "ticks": ""
           }
          },
          "colorscale": {
           "diverging": [
            [
             0,
             "#8e0152"
            ],
            [
             0.1,
             "#c51b7d"
            ],
            [
             0.2,
             "#de77ae"
            ],
            [
             0.3,
             "#f1b6da"
            ],
            [
             0.4,
             "#fde0ef"
            ],
            [
             0.5,
             "#f7f7f7"
            ],
            [
             0.6,
             "#e6f5d0"
            ],
            [
             0.7,
             "#b8e186"
            ],
            [
             0.8,
             "#7fbc41"
            ],
            [
             0.9,
             "#4d9221"
            ],
            [
             1,
             "#276419"
            ]
           ],
           "sequential": [
            [
             0,
             "#0d0887"
            ],
            [
             0.1111111111111111,
             "#46039f"
            ],
            [
             0.2222222222222222,
             "#7201a8"
            ],
            [
             0.3333333333333333,
             "#9c179e"
            ],
            [
             0.4444444444444444,
             "#bd3786"
            ],
            [
             0.5555555555555556,
             "#d8576b"
            ],
            [
             0.6666666666666666,
             "#ed7953"
            ],
            [
             0.7777777777777778,
             "#fb9f3a"
            ],
            [
             0.8888888888888888,
             "#fdca26"
            ],
            [
             1,
             "#f0f921"
            ]
           ],
           "sequentialminus": [
            [
             0,
             "#0d0887"
            ],
            [
             0.1111111111111111,
             "#46039f"
            ],
            [
             0.2222222222222222,
             "#7201a8"
            ],
            [
             0.3333333333333333,
             "#9c179e"
            ],
            [
             0.4444444444444444,
             "#bd3786"
            ],
            [
             0.5555555555555556,
             "#d8576b"
            ],
            [
             0.6666666666666666,
             "#ed7953"
            ],
            [
             0.7777777777777778,
             "#fb9f3a"
            ],
            [
             0.8888888888888888,
             "#fdca26"
            ],
            [
             1,
             "#f0f921"
            ]
           ]
          },
          "colorway": [
           "#636efa",
           "#EF553B",
           "#00cc96",
           "#ab63fa",
           "#FFA15A",
           "#19d3f3",
           "#FF6692",
           "#B6E880",
           "#FF97FF",
           "#FECB52"
          ],
          "font": {
           "color": "#2a3f5f"
          },
          "geo": {
           "bgcolor": "white",
           "lakecolor": "white",
           "landcolor": "#E5ECF6",
           "showlakes": true,
           "showland": true,
           "subunitcolor": "white"
          },
          "hoverlabel": {
           "align": "left"
          },
          "hovermode": "closest",
          "mapbox": {
           "style": "light"
          },
          "paper_bgcolor": "white",
          "plot_bgcolor": "#E5ECF6",
          "polar": {
           "angularaxis": {
            "gridcolor": "white",
            "linecolor": "white",
            "ticks": ""
           },
           "bgcolor": "#E5ECF6",
           "radialaxis": {
            "gridcolor": "white",
            "linecolor": "white",
            "ticks": ""
           }
          },
          "scene": {
           "xaxis": {
            "backgroundcolor": "#E5ECF6",
            "gridcolor": "white",
            "gridwidth": 2,
            "linecolor": "white",
            "showbackground": true,
            "ticks": "",
            "zerolinecolor": "white"
           },
           "yaxis": {
            "backgroundcolor": "#E5ECF6",
            "gridcolor": "white",
            "gridwidth": 2,
            "linecolor": "white",
            "showbackground": true,
            "ticks": "",
            "zerolinecolor": "white"
           },
           "zaxis": {
            "backgroundcolor": "#E5ECF6",
            "gridcolor": "white",
            "gridwidth": 2,
            "linecolor": "white",
            "showbackground": true,
            "ticks": "",
            "zerolinecolor": "white"
           }
          },
          "shapedefaults": {
           "line": {
            "color": "#2a3f5f"
           }
          },
          "ternary": {
           "aaxis": {
            "gridcolor": "white",
            "linecolor": "white",
            "ticks": ""
           },
           "baxis": {
            "gridcolor": "white",
            "linecolor": "white",
            "ticks": ""
           },
           "bgcolor": "#E5ECF6",
           "caxis": {
            "gridcolor": "white",
            "linecolor": "white",
            "ticks": ""
           }
          },
          "title": {
           "x": 0.05
          },
          "xaxis": {
           "automargin": true,
           "gridcolor": "white",
           "linecolor": "white",
           "ticks": "",
           "title": {
            "standoff": 15
           },
           "zerolinecolor": "white",
           "zerolinewidth": 2
          },
          "yaxis": {
           "automargin": true,
           "gridcolor": "white",
           "linecolor": "white",
           "ticks": "",
           "title": {
            "standoff": 15
           },
           "zerolinecolor": "white",
           "zerolinewidth": 2
          }
         }
        },
        "xaxis": {
         "anchor": "y",
         "domain": [
          0,
          1
         ],
         "title": {
          "text": "index"
         }
        },
        "yaxis": {
         "anchor": "x",
         "domain": [
          0,
          1
         ],
         "title": {
          "text": "value"
         }
        }
       }
      },
      "text/html": [
       "<div>                            <div id=\"20d547a1-1ee5-4613-b39e-191831d38a36\" class=\"plotly-graph-div\" style=\"height:525px; width:100%;\"></div>            <script type=\"text/javascript\">                require([\"plotly\"], function(Plotly) {                    window.PLOTLYENV=window.PLOTLYENV || {};                                    if (document.getElementById(\"20d547a1-1ee5-4613-b39e-191831d38a36\")) {                    Plotly.newPlot(                        \"20d547a1-1ee5-4613-b39e-191831d38a36\",                        [{\"hovertemplate\":\"variable=HU<br>index=%{x}<br>value=%{y}<extra></extra>\",\"legendgroup\":\"HU\",\"line\":{\"color\":\"#636efa\",\"dash\":\"solid\"},\"marker\":{\"symbol\":\"circle\"},\"mode\":\"lines\",\"name\":\"HU\",\"orientation\":\"v\",\"showlegend\":true,\"x\":[\"2022-02-06T00:00:00+00:00\",\"2022-02-13T00:00:00+00:00\",\"2022-02-20T00:00:00+00:00\",\"2022-02-27T00:00:00+00:00\",\"2022-03-06T00:00:00+00:00\",\"2022-03-13T00:00:00+00:00\",\"2022-03-20T00:00:00+00:00\",\"2022-03-27T00:00:00+00:00\",\"2022-04-03T00:00:00+00:00\",\"2022-04-10T00:00:00+00:00\",\"2022-04-17T00:00:00+00:00\",\"2022-04-24T00:00:00+00:00\",\"2022-05-01T00:00:00+00:00\",\"2022-05-08T00:00:00+00:00\",\"2022-05-15T00:00:00+00:00\",\"2022-05-22T00:00:00+00:00\",\"2022-05-29T00:00:00+00:00\",\"2022-06-05T00:00:00+00:00\",\"2022-06-12T00:00:00+00:00\",\"2022-06-19T00:00:00+00:00\",\"2022-06-26T00:00:00+00:00\",\"2022-07-03T00:00:00+00:00\",\"2022-07-10T00:00:00+00:00\",\"2022-07-17T00:00:00+00:00\",\"2022-07-24T00:00:00+00:00\",\"2022-07-31T00:00:00+00:00\",\"2022-08-07T00:00:00+00:00\",\"2022-08-14T00:00:00+00:00\",\"2022-08-21T00:00:00+00:00\",\"2022-08-28T00:00:00+00:00\",\"2022-09-04T00:00:00+00:00\",\"2022-09-11T00:00:00+00:00\",\"2022-09-18T00:00:00+00:00\",\"2022-09-25T00:00:00+00:00\",\"2022-10-02T00:00:00+00:00\",\"2022-10-09T00:00:00+00:00\",\"2022-10-16T00:00:00+00:00\",\"2022-10-23T00:00:00+00:00\",\"2022-10-30T00:00:00+00:00\",\"2022-11-06T00:00:00+00:00\",\"2022-11-13T00:00:00+00:00\",\"2022-11-20T00:00:00+00:00\",\"2022-11-27T00:00:00+00:00\",\"2022-12-04T00:00:00+00:00\",\"2022-12-11T00:00:00+00:00\",\"2022-12-18T00:00:00+00:00\",\"2022-12-25T00:00:00+00:00\",\"2023-01-01T00:00:00+00:00\",\"2023-01-08T00:00:00+00:00\",\"2023-01-15T00:00:00+00:00\",\"2023-01-22T00:00:00+00:00\",\"2023-01-29T00:00:00+00:00\",\"2023-02-05T00:00:00+00:00\",\"2023-02-12T00:00:00+00:00\",\"2023-02-19T00:00:00+00:00\",\"2023-02-26T00:00:00+00:00\",\"2023-03-05T00:00:00+00:00\",\"2023-03-12T00:00:00+00:00\",\"2023-03-19T00:00:00+00:00\",\"2023-03-26T00:00:00+00:00\",\"2023-04-02T00:00:00+00:00\"],\"xaxis\":\"x\",\"y\":[59548.0,76735.0,76154.0,45769.0,27130.0,23742.0,46505.0,73797.0,87683.0,68823.0,61297.0,47975.0,56323.0,45699.0,-24771.0,23096.0,17332.0,33940.0,19639.0,48546.0,70314.0,65045.0,65704.0,75345.0,84249.0,59807.0,74714.0,91839.0,83464.0,76859.0,88634.0,87071.0,83790.0,66335.0,68369.0,41202.0,35877.0,37710.0,33319.0,7942.0,38713.0,43057.0,54855.0,71915.0,73255.0,72318.0,73448.0,27220.0,59416.0,51735.0,81471.0,77238.0,38586.0,39209.0,70234.0,92882.0,57908.0,77734.0,66748.0,34806.0,38930.0],\"yaxis\":\"y\",\"type\":\"scatter\"},{\"hovertemplate\":\"variable=MD<br>index=%{x}<br>value=%{y}<extra></extra>\",\"legendgroup\":\"MD\",\"line\":{\"color\":\"#EF553B\",\"dash\":\"solid\"},\"marker\":{\"symbol\":\"circle\"},\"mode\":\"lines\",\"name\":\"MD\",\"orientation\":\"v\",\"showlegend\":true,\"x\":[\"2022-02-06T00:00:00+00:00\",\"2022-02-13T00:00:00+00:00\",\"2022-02-20T00:00:00+00:00\",\"2022-02-27T00:00:00+00:00\",\"2022-03-06T00:00:00+00:00\",\"2022-03-13T00:00:00+00:00\",\"2022-03-20T00:00:00+00:00\",\"2022-03-27T00:00:00+00:00\",\"2022-04-03T00:00:00+00:00\",\"2022-04-10T00:00:00+00:00\",\"2022-04-17T00:00:00+00:00\",\"2022-04-24T00:00:00+00:00\",\"2022-05-01T00:00:00+00:00\",\"2022-05-08T00:00:00+00:00\",\"2022-05-15T00:00:00+00:00\",\"2022-05-22T00:00:00+00:00\",\"2022-05-29T00:00:00+00:00\",\"2022-06-05T00:00:00+00:00\",\"2022-06-12T00:00:00+00:00\",\"2022-06-19T00:00:00+00:00\",\"2022-06-26T00:00:00+00:00\",\"2022-07-03T00:00:00+00:00\",\"2022-07-10T00:00:00+00:00\",\"2022-07-17T00:00:00+00:00\",\"2022-07-24T00:00:00+00:00\",\"2022-07-31T00:00:00+00:00\",\"2022-08-07T00:00:00+00:00\",\"2022-08-14T00:00:00+00:00\",\"2022-08-21T00:00:00+00:00\",\"2022-08-28T00:00:00+00:00\",\"2022-09-04T00:00:00+00:00\",\"2022-09-11T00:00:00+00:00\",\"2022-09-18T00:00:00+00:00\",\"2022-09-25T00:00:00+00:00\",\"2022-10-02T00:00:00+00:00\",\"2022-10-09T00:00:00+00:00\",\"2022-10-16T00:00:00+00:00\",\"2022-10-23T00:00:00+00:00\",\"2022-10-30T00:00:00+00:00\",\"2022-11-06T00:00:00+00:00\",\"2022-11-13T00:00:00+00:00\",\"2022-11-20T00:00:00+00:00\",\"2022-11-27T00:00:00+00:00\",\"2022-12-04T00:00:00+00:00\",\"2022-12-11T00:00:00+00:00\",\"2022-12-18T00:00:00+00:00\",\"2022-12-25T00:00:00+00:00\",\"2023-01-01T00:00:00+00:00\",\"2023-01-08T00:00:00+00:00\",\"2023-01-15T00:00:00+00:00\",\"2023-01-22T00:00:00+00:00\",\"2023-01-29T00:00:00+00:00\",\"2023-02-05T00:00:00+00:00\",\"2023-02-12T00:00:00+00:00\",\"2023-02-19T00:00:00+00:00\",\"2023-02-26T00:00:00+00:00\",\"2023-03-05T00:00:00+00:00\",\"2023-03-12T00:00:00+00:00\",\"2023-03-19T00:00:00+00:00\",\"2023-03-26T00:00:00+00:00\",\"2023-04-02T00:00:00+00:00\"],\"xaxis\":\"x\",\"y\":[-1833.0,-1036.0,-1368.0,-1736.0,-987.0,-414.0,-34196.0,-62372.0,-68285.0,-36426.0,-47504.0,-15677.0,-33371.0,-24561.0,13488.0,-3028.0,28409.0,14402.0,16453.0,-6249.0,-7824.0,-8999.0,-17949.0,-23510.0,-23014.0,-7714.0,-10408.0,-19423.0,-17244.0,-8913.0,-12977.0,-34275.0,-6365.0,41.0,-6234.0,10033.0,-30862.0,-49020.0,-20508.0,-23384.0,-24918.0,-26346.0,-55132.0,-69472.0,-79368.0,-76340.0,-80657.0,-32119.0,-39502.0,-45582.0,-77191.0,-84777.0,-70132.0,-69415.0,-67595.0,-75617.0,-42769.0,-65327.0,-59433.0,-26881.0,-34840.0],\"yaxis\":\"y\",\"type\":\"scatter\"},{\"hovertemplate\":\"variable=PL<br>index=%{x}<br>value=%{y}<extra></extra>\",\"legendgroup\":\"PL\",\"line\":{\"color\":\"#00cc96\",\"dash\":\"solid\"},\"marker\":{\"symbol\":\"circle\"},\"mode\":\"lines\",\"name\":\"PL\",\"orientation\":\"v\",\"showlegend\":true,\"x\":[\"2022-02-06T00:00:00+00:00\",\"2022-02-13T00:00:00+00:00\",\"2022-02-20T00:00:00+00:00\",\"2022-02-27T00:00:00+00:00\",\"2022-03-06T00:00:00+00:00\",\"2022-03-13T00:00:00+00:00\",\"2022-03-20T00:00:00+00:00\",\"2022-03-27T00:00:00+00:00\",\"2022-04-03T00:00:00+00:00\",\"2022-04-10T00:00:00+00:00\",\"2022-04-17T00:00:00+00:00\",\"2022-04-24T00:00:00+00:00\",\"2022-05-01T00:00:00+00:00\",\"2022-05-08T00:00:00+00:00\",\"2022-05-15T00:00:00+00:00\",\"2022-05-22T00:00:00+00:00\",\"2022-05-29T00:00:00+00:00\",\"2022-06-05T00:00:00+00:00\",\"2022-06-12T00:00:00+00:00\",\"2022-06-19T00:00:00+00:00\",\"2022-06-26T00:00:00+00:00\",\"2022-07-03T00:00:00+00:00\",\"2022-07-10T00:00:00+00:00\",\"2022-07-17T00:00:00+00:00\",\"2022-07-24T00:00:00+00:00\",\"2022-07-31T00:00:00+00:00\",\"2022-08-07T00:00:00+00:00\",\"2022-08-14T00:00:00+00:00\",\"2022-08-21T00:00:00+00:00\",\"2022-08-28T00:00:00+00:00\",\"2022-09-04T00:00:00+00:00\",\"2022-09-11T00:00:00+00:00\",\"2022-09-18T00:00:00+00:00\",\"2022-09-25T00:00:00+00:00\",\"2022-10-02T00:00:00+00:00\",\"2022-10-09T00:00:00+00:00\",\"2022-10-16T00:00:00+00:00\",\"2022-10-23T00:00:00+00:00\",\"2022-10-30T00:00:00+00:00\",\"2022-11-06T00:00:00+00:00\",\"2022-11-13T00:00:00+00:00\",\"2022-11-20T00:00:00+00:00\",\"2022-11-27T00:00:00+00:00\",\"2022-12-04T00:00:00+00:00\",\"2022-12-11T00:00:00+00:00\",\"2022-12-18T00:00:00+00:00\",\"2022-12-25T00:00:00+00:00\",\"2023-01-01T00:00:00+00:00\",\"2023-01-08T00:00:00+00:00\",\"2023-01-15T00:00:00+00:00\",\"2023-01-22T00:00:00+00:00\",\"2023-01-29T00:00:00+00:00\",\"2023-02-05T00:00:00+00:00\",\"2023-02-12T00:00:00+00:00\",\"2023-02-19T00:00:00+00:00\",\"2023-02-26T00:00:00+00:00\",\"2023-03-05T00:00:00+00:00\",\"2023-03-12T00:00:00+00:00\",\"2023-03-19T00:00:00+00:00\",\"2023-03-26T00:00:00+00:00\",\"2023-04-02T00:00:00+00:00\"],\"xaxis\":\"x\",\"y\":[23463.0,35868.0,36037.0,9692.0,0.0,0.0,0.0,0.0,24362.0,32569.0,22964.0,27050.0,27535.0,25928.0,34791.0,36504.0,36499.0,36398.0,36505.0,35277.0,36413.0,34773.0,32485.0,34692.0,34910.0,34884.0,35598.0,36504.0,34450.0,36475.0,34227.0,36427.0,22168.0,29839.0,36581.0,36837.0,4877.0,0.0,0.0,0.0,0.0,0.0,0.0,0.0,0.0,0.0,0.0,0.0,0.0,0.0,0.0,0.0,0.0,0.0,0.0,0.0,0.0,0.0,0.0,0.0,0.0],\"yaxis\":\"y\",\"type\":\"scatter\"},{\"hovertemplate\":\"variable=RO<br>index=%{x}<br>value=%{y}<extra></extra>\",\"legendgroup\":\"RO\",\"line\":{\"color\":\"#ab63fa\",\"dash\":\"solid\"},\"marker\":{\"symbol\":\"circle\"},\"mode\":\"lines\",\"name\":\"RO\",\"orientation\":\"v\",\"showlegend\":true,\"x\":[\"2022-02-06T00:00:00+00:00\",\"2022-02-13T00:00:00+00:00\",\"2022-02-20T00:00:00+00:00\",\"2022-02-27T00:00:00+00:00\",\"2022-03-06T00:00:00+00:00\",\"2022-03-13T00:00:00+00:00\",\"2022-03-20T00:00:00+00:00\",\"2022-03-27T00:00:00+00:00\",\"2022-04-03T00:00:00+00:00\",\"2022-04-10T00:00:00+00:00\",\"2022-04-17T00:00:00+00:00\",\"2022-04-24T00:00:00+00:00\",\"2022-05-01T00:00:00+00:00\",\"2022-05-08T00:00:00+00:00\",\"2022-05-15T00:00:00+00:00\",\"2022-05-22T00:00:00+00:00\",\"2022-05-29T00:00:00+00:00\",\"2022-06-05T00:00:00+00:00\",\"2022-06-12T00:00:00+00:00\",\"2022-06-19T00:00:00+00:00\",\"2022-06-26T00:00:00+00:00\",\"2022-07-03T00:00:00+00:00\",\"2022-07-10T00:00:00+00:00\",\"2022-07-17T00:00:00+00:00\",\"2022-07-24T00:00:00+00:00\",\"2022-07-31T00:00:00+00:00\",\"2022-08-07T00:00:00+00:00\",\"2022-08-14T00:00:00+00:00\",\"2022-08-21T00:00:00+00:00\",\"2022-08-28T00:00:00+00:00\",\"2022-09-04T00:00:00+00:00\",\"2022-09-11T00:00:00+00:00\",\"2022-09-18T00:00:00+00:00\",\"2022-09-25T00:00:00+00:00\",\"2022-10-02T00:00:00+00:00\",\"2022-10-09T00:00:00+00:00\",\"2022-10-16T00:00:00+00:00\",\"2022-10-23T00:00:00+00:00\",\"2022-10-30T00:00:00+00:00\",\"2022-11-06T00:00:00+00:00\",\"2022-11-13T00:00:00+00:00\",\"2022-11-20T00:00:00+00:00\",\"2022-11-27T00:00:00+00:00\",\"2022-12-04T00:00:00+00:00\",\"2022-12-11T00:00:00+00:00\",\"2022-12-18T00:00:00+00:00\",\"2022-12-25T00:00:00+00:00\",\"2023-01-01T00:00:00+00:00\",\"2023-01-08T00:00:00+00:00\",\"2023-01-15T00:00:00+00:00\",\"2023-01-22T00:00:00+00:00\",\"2023-01-29T00:00:00+00:00\",\"2023-02-05T00:00:00+00:00\",\"2023-02-12T00:00:00+00:00\",\"2023-02-19T00:00:00+00:00\",\"2023-02-26T00:00:00+00:00\",\"2023-03-05T00:00:00+00:00\",\"2023-03-12T00:00:00+00:00\",\"2023-03-19T00:00:00+00:00\",\"2023-03-26T00:00:00+00:00\",\"2023-04-02T00:00:00+00:00\"],\"xaxis\":\"x\",\"y\":[62658.0,59160.0,66540.0,37621.0,10282.0,25950.0,51247.0,30858.0,3918.0,31839.0,21774.0,44996.0,9831.0,12175.0,23479.0,20915.0,33190.0,26323.0,22925.0,4325.0,8329.0,4262.0,11113.0,9044.0,13079.0,30402.0,22641.0,22177.0,10947.0,16714.0,14720.0,12929.0,12913.0,24656.0,32366.0,50020.0,60090.0,55323.0,55572.0,38351.0,39500.0,15638.0,-3024.0,14172.0,-2492.0,-2873.0,21511.0,58931.0,47433.0,46987.0,-37385.0,-20420.0,2984.0,17363.0,34933.0,2740.0,19887.0,-26731.0,6176.0,25029.0,-1557.0],\"yaxis\":\"y\",\"type\":\"scatter\"},{\"hovertemplate\":\"variable=SK<br>index=%{x}<br>value=%{y}<extra></extra>\",\"legendgroup\":\"SK\",\"line\":{\"color\":\"#FFA15A\",\"dash\":\"solid\"},\"marker\":{\"symbol\":\"circle\"},\"mode\":\"lines\",\"name\":\"SK\",\"orientation\":\"v\",\"showlegend\":true,\"x\":[\"2022-02-06T00:00:00+00:00\",\"2022-02-13T00:00:00+00:00\",\"2022-02-20T00:00:00+00:00\",\"2022-02-27T00:00:00+00:00\",\"2022-03-06T00:00:00+00:00\",\"2022-03-13T00:00:00+00:00\",\"2022-03-20T00:00:00+00:00\",\"2022-03-27T00:00:00+00:00\",\"2022-04-03T00:00:00+00:00\",\"2022-04-10T00:00:00+00:00\",\"2022-04-17T00:00:00+00:00\",\"2022-04-24T00:00:00+00:00\",\"2022-05-01T00:00:00+00:00\",\"2022-05-08T00:00:00+00:00\",\"2022-05-15T00:00:00+00:00\",\"2022-05-22T00:00:00+00:00\",\"2022-05-29T00:00:00+00:00\",\"2022-06-05T00:00:00+00:00\",\"2022-06-12T00:00:00+00:00\",\"2022-06-19T00:00:00+00:00\",\"2022-06-26T00:00:00+00:00\",\"2022-07-03T00:00:00+00:00\",\"2022-07-10T00:00:00+00:00\",\"2022-07-17T00:00:00+00:00\",\"2022-07-24T00:00:00+00:00\",\"2022-07-31T00:00:00+00:00\",\"2022-08-07T00:00:00+00:00\",\"2022-08-14T00:00:00+00:00\",\"2022-08-21T00:00:00+00:00\",\"2022-08-28T00:00:00+00:00\",\"2022-09-04T00:00:00+00:00\",\"2022-09-11T00:00:00+00:00\",\"2022-09-18T00:00:00+00:00\",\"2022-09-25T00:00:00+00:00\",\"2022-10-02T00:00:00+00:00\",\"2022-10-09T00:00:00+00:00\",\"2022-10-16T00:00:00+00:00\",\"2022-10-23T00:00:00+00:00\",\"2022-10-30T00:00:00+00:00\",\"2022-11-06T00:00:00+00:00\",\"2022-11-13T00:00:00+00:00\",\"2022-11-20T00:00:00+00:00\",\"2022-11-27T00:00:00+00:00\",\"2022-12-04T00:00:00+00:00\",\"2022-12-11T00:00:00+00:00\",\"2022-12-18T00:00:00+00:00\",\"2022-12-25T00:00:00+00:00\",\"2023-01-01T00:00:00+00:00\",\"2023-01-08T00:00:00+00:00\",\"2023-01-15T00:00:00+00:00\",\"2023-01-22T00:00:00+00:00\",\"2023-01-29T00:00:00+00:00\",\"2023-02-05T00:00:00+00:00\",\"2023-02-12T00:00:00+00:00\",\"2023-02-19T00:00:00+00:00\",\"2023-02-26T00:00:00+00:00\",\"2023-03-05T00:00:00+00:00\",\"2023-03-12T00:00:00+00:00\",\"2023-03-19T00:00:00+00:00\",\"2023-03-26T00:00:00+00:00\",\"2023-04-02T00:00:00+00:00\"],\"xaxis\":\"x\",\"y\":[-64491.0,-64368.0,-71560.0,-60029.0,-38090.0,-50247.0,-63720.0,-47838.0,-22296.0,-67252.0,-36000.0,-78273.0,-32541.0,-34181.0,-1529.0,-21951.0,-57556.0,-58740.0,-35178.0,-24288.0,-45374.0,-26337.0,-8605.0,0.0,0.0,0.0,0.0,0.0,0.0,0.0,0.0,0.0,0.0,-21951.0,-19741.0,-34949.0,-53691.0,-45038.0,-70511.0,-40311.0,-54548.0,-33419.0,-14627.0,-19575.0,4451.0,5908.0,-19069.0,-67938.0,-76845.0,-59987.0,13070.0,-6000.0,-43794.0,-52281.0,-51822.0,-13761.0,-29090.0,20609.0,-8787.0,-26621.0,1519.0],\"yaxis\":\"y\",\"type\":\"scatter\"}],                        {\"template\":{\"data\":{\"histogram2dcontour\":[{\"type\":\"histogram2dcontour\",\"colorbar\":{\"outlinewidth\":0,\"ticks\":\"\"},\"colorscale\":[[0.0,\"#0d0887\"],[0.1111111111111111,\"#46039f\"],[0.2222222222222222,\"#7201a8\"],[0.3333333333333333,\"#9c179e\"],[0.4444444444444444,\"#bd3786\"],[0.5555555555555556,\"#d8576b\"],[0.6666666666666666,\"#ed7953\"],[0.7777777777777778,\"#fb9f3a\"],[0.8888888888888888,\"#fdca26\"],[1.0,\"#f0f921\"]]}],\"choropleth\":[{\"type\":\"choropleth\",\"colorbar\":{\"outlinewidth\":0,\"ticks\":\"\"}}],\"histogram2d\":[{\"type\":\"histogram2d\",\"colorbar\":{\"outlinewidth\":0,\"ticks\":\"\"},\"colorscale\":[[0.0,\"#0d0887\"],[0.1111111111111111,\"#46039f\"],[0.2222222222222222,\"#7201a8\"],[0.3333333333333333,\"#9c179e\"],[0.4444444444444444,\"#bd3786\"],[0.5555555555555556,\"#d8576b\"],[0.6666666666666666,\"#ed7953\"],[0.7777777777777778,\"#fb9f3a\"],[0.8888888888888888,\"#fdca26\"],[1.0,\"#f0f921\"]]}],\"heatmap\":[{\"type\":\"heatmap\",\"colorbar\":{\"outlinewidth\":0,\"ticks\":\"\"},\"colorscale\":[[0.0,\"#0d0887\"],[0.1111111111111111,\"#46039f\"],[0.2222222222222222,\"#7201a8\"],[0.3333333333333333,\"#9c179e\"],[0.4444444444444444,\"#bd3786\"],[0.5555555555555556,\"#d8576b\"],[0.6666666666666666,\"#ed7953\"],[0.7777777777777778,\"#fb9f3a\"],[0.8888888888888888,\"#fdca26\"],[1.0,\"#f0f921\"]]}],\"heatmapgl\":[{\"type\":\"heatmapgl\",\"colorbar\":{\"outlinewidth\":0,\"ticks\":\"\"},\"colorscale\":[[0.0,\"#0d0887\"],[0.1111111111111111,\"#46039f\"],[0.2222222222222222,\"#7201a8\"],[0.3333333333333333,\"#9c179e\"],[0.4444444444444444,\"#bd3786\"],[0.5555555555555556,\"#d8576b\"],[0.6666666666666666,\"#ed7953\"],[0.7777777777777778,\"#fb9f3a\"],[0.8888888888888888,\"#fdca26\"],[1.0,\"#f0f921\"]]}],\"contourcarpet\":[{\"type\":\"contourcarpet\",\"colorbar\":{\"outlinewidth\":0,\"ticks\":\"\"}}],\"contour\":[{\"type\":\"contour\",\"colorbar\":{\"outlinewidth\":0,\"ticks\":\"\"},\"colorscale\":[[0.0,\"#0d0887\"],[0.1111111111111111,\"#46039f\"],[0.2222222222222222,\"#7201a8\"],[0.3333333333333333,\"#9c179e\"],[0.4444444444444444,\"#bd3786\"],[0.5555555555555556,\"#d8576b\"],[0.6666666666666666,\"#ed7953\"],[0.7777777777777778,\"#fb9f3a\"],[0.8888888888888888,\"#fdca26\"],[1.0,\"#f0f921\"]]}],\"surface\":[{\"type\":\"surface\",\"colorbar\":{\"outlinewidth\":0,\"ticks\":\"\"},\"colorscale\":[[0.0,\"#0d0887\"],[0.1111111111111111,\"#46039f\"],[0.2222222222222222,\"#7201a8\"],[0.3333333333333333,\"#9c179e\"],[0.4444444444444444,\"#bd3786\"],[0.5555555555555556,\"#d8576b\"],[0.6666666666666666,\"#ed7953\"],[0.7777777777777778,\"#fb9f3a\"],[0.8888888888888888,\"#fdca26\"],[1.0,\"#f0f921\"]]}],\"mesh3d\":[{\"type\":\"mesh3d\",\"colorbar\":{\"outlinewidth\":0,\"ticks\":\"\"}}],\"scatter\":[{\"fillpattern\":{\"fillmode\":\"overlay\",\"size\":10,\"solidity\":0.2},\"type\":\"scatter\"}],\"parcoords\":[{\"type\":\"parcoords\",\"line\":{\"colorbar\":{\"outlinewidth\":0,\"ticks\":\"\"}}}],\"scatterpolargl\":[{\"type\":\"scatterpolargl\",\"marker\":{\"colorbar\":{\"outlinewidth\":0,\"ticks\":\"\"}}}],\"bar\":[{\"error_x\":{\"color\":\"#2a3f5f\"},\"error_y\":{\"color\":\"#2a3f5f\"},\"marker\":{\"line\":{\"color\":\"#E5ECF6\",\"width\":0.5},\"pattern\":{\"fillmode\":\"overlay\",\"size\":10,\"solidity\":0.2}},\"type\":\"bar\"}],\"scattergeo\":[{\"type\":\"scattergeo\",\"marker\":{\"colorbar\":{\"outlinewidth\":0,\"ticks\":\"\"}}}],\"scatterpolar\":[{\"type\":\"scatterpolar\",\"marker\":{\"colorbar\":{\"outlinewidth\":0,\"ticks\":\"\"}}}],\"histogram\":[{\"marker\":{\"pattern\":{\"fillmode\":\"overlay\",\"size\":10,\"solidity\":0.2}},\"type\":\"histogram\"}],\"scattergl\":[{\"type\":\"scattergl\",\"marker\":{\"colorbar\":{\"outlinewidth\":0,\"ticks\":\"\"}}}],\"scatter3d\":[{\"type\":\"scatter3d\",\"line\":{\"colorbar\":{\"outlinewidth\":0,\"ticks\":\"\"}},\"marker\":{\"colorbar\":{\"outlinewidth\":0,\"ticks\":\"\"}}}],\"scattermapbox\":[{\"type\":\"scattermapbox\",\"marker\":{\"colorbar\":{\"outlinewidth\":0,\"ticks\":\"\"}}}],\"scatterternary\":[{\"type\":\"scatterternary\",\"marker\":{\"colorbar\":{\"outlinewidth\":0,\"ticks\":\"\"}}}],\"scattercarpet\":[{\"type\":\"scattercarpet\",\"marker\":{\"colorbar\":{\"outlinewidth\":0,\"ticks\":\"\"}}}],\"carpet\":[{\"aaxis\":{\"endlinecolor\":\"#2a3f5f\",\"gridcolor\":\"white\",\"linecolor\":\"white\",\"minorgridcolor\":\"white\",\"startlinecolor\":\"#2a3f5f\"},\"baxis\":{\"endlinecolor\":\"#2a3f5f\",\"gridcolor\":\"white\",\"linecolor\":\"white\",\"minorgridcolor\":\"white\",\"startlinecolor\":\"#2a3f5f\"},\"type\":\"carpet\"}],\"table\":[{\"cells\":{\"fill\":{\"color\":\"#EBF0F8\"},\"line\":{\"color\":\"white\"}},\"header\":{\"fill\":{\"color\":\"#C8D4E3\"},\"line\":{\"color\":\"white\"}},\"type\":\"table\"}],\"barpolar\":[{\"marker\":{\"line\":{\"color\":\"#E5ECF6\",\"width\":0.5},\"pattern\":{\"fillmode\":\"overlay\",\"size\":10,\"solidity\":0.2}},\"type\":\"barpolar\"}],\"pie\":[{\"automargin\":true,\"type\":\"pie\"}]},\"layout\":{\"autotypenumbers\":\"strict\",\"colorway\":[\"#636efa\",\"#EF553B\",\"#00cc96\",\"#ab63fa\",\"#FFA15A\",\"#19d3f3\",\"#FF6692\",\"#B6E880\",\"#FF97FF\",\"#FECB52\"],\"font\":{\"color\":\"#2a3f5f\"},\"hovermode\":\"closest\",\"hoverlabel\":{\"align\":\"left\"},\"paper_bgcolor\":\"white\",\"plot_bgcolor\":\"#E5ECF6\",\"polar\":{\"bgcolor\":\"#E5ECF6\",\"angularaxis\":{\"gridcolor\":\"white\",\"linecolor\":\"white\",\"ticks\":\"\"},\"radialaxis\":{\"gridcolor\":\"white\",\"linecolor\":\"white\",\"ticks\":\"\"}},\"ternary\":{\"bgcolor\":\"#E5ECF6\",\"aaxis\":{\"gridcolor\":\"white\",\"linecolor\":\"white\",\"ticks\":\"\"},\"baxis\":{\"gridcolor\":\"white\",\"linecolor\":\"white\",\"ticks\":\"\"},\"caxis\":{\"gridcolor\":\"white\",\"linecolor\":\"white\",\"ticks\":\"\"}},\"coloraxis\":{\"colorbar\":{\"outlinewidth\":0,\"ticks\":\"\"}},\"colorscale\":{\"sequential\":[[0.0,\"#0d0887\"],[0.1111111111111111,\"#46039f\"],[0.2222222222222222,\"#7201a8\"],[0.3333333333333333,\"#9c179e\"],[0.4444444444444444,\"#bd3786\"],[0.5555555555555556,\"#d8576b\"],[0.6666666666666666,\"#ed7953\"],[0.7777777777777778,\"#fb9f3a\"],[0.8888888888888888,\"#fdca26\"],[1.0,\"#f0f921\"]],\"sequentialminus\":[[0.0,\"#0d0887\"],[0.1111111111111111,\"#46039f\"],[0.2222222222222222,\"#7201a8\"],[0.3333333333333333,\"#9c179e\"],[0.4444444444444444,\"#bd3786\"],[0.5555555555555556,\"#d8576b\"],[0.6666666666666666,\"#ed7953\"],[0.7777777777777778,\"#fb9f3a\"],[0.8888888888888888,\"#fdca26\"],[1.0,\"#f0f921\"]],\"diverging\":[[0,\"#8e0152\"],[0.1,\"#c51b7d\"],[0.2,\"#de77ae\"],[0.3,\"#f1b6da\"],[0.4,\"#fde0ef\"],[0.5,\"#f7f7f7\"],[0.6,\"#e6f5d0\"],[0.7,\"#b8e186\"],[0.8,\"#7fbc41\"],[0.9,\"#4d9221\"],[1,\"#276419\"]]},\"xaxis\":{\"gridcolor\":\"white\",\"linecolor\":\"white\",\"ticks\":\"\",\"title\":{\"standoff\":15},\"zerolinecolor\":\"white\",\"automargin\":true,\"zerolinewidth\":2},\"yaxis\":{\"gridcolor\":\"white\",\"linecolor\":\"white\",\"ticks\":\"\",\"title\":{\"standoff\":15},\"zerolinecolor\":\"white\",\"automargin\":true,\"zerolinewidth\":2},\"scene\":{\"xaxis\":{\"backgroundcolor\":\"#E5ECF6\",\"gridcolor\":\"white\",\"linecolor\":\"white\",\"showbackground\":true,\"ticks\":\"\",\"zerolinecolor\":\"white\",\"gridwidth\":2},\"yaxis\":{\"backgroundcolor\":\"#E5ECF6\",\"gridcolor\":\"white\",\"linecolor\":\"white\",\"showbackground\":true,\"ticks\":\"\",\"zerolinecolor\":\"white\",\"gridwidth\":2},\"zaxis\":{\"backgroundcolor\":\"#E5ECF6\",\"gridcolor\":\"white\",\"linecolor\":\"white\",\"showbackground\":true,\"ticks\":\"\",\"zerolinecolor\":\"white\",\"gridwidth\":2}},\"shapedefaults\":{\"line\":{\"color\":\"#2a3f5f\"}},\"annotationdefaults\":{\"arrowcolor\":\"#2a3f5f\",\"arrowhead\":0,\"arrowwidth\":1},\"geo\":{\"bgcolor\":\"white\",\"landcolor\":\"#E5ECF6\",\"subunitcolor\":\"white\",\"showland\":true,\"showlakes\":true,\"lakecolor\":\"white\"},\"title\":{\"x\":0.05},\"mapbox\":{\"style\":\"light\"}}},\"xaxis\":{\"anchor\":\"y\",\"domain\":[0.0,1.0],\"title\":{\"text\":\"index\"}},\"yaxis\":{\"anchor\":\"x\",\"domain\":[0.0,1.0],\"title\":{\"text\":\"value\"}},\"legend\":{\"title\":{\"text\":\"variable\"},\"tracegroupgap\":0},\"margin\":{\"t\":60}},                        {\"responsive\": true}                    ).then(function(){\n",
       "                            \n",
       "var gd = document.getElementById('20d547a1-1ee5-4613-b39e-191831d38a36');\n",
       "var x = new MutationObserver(function (mutations, observer) {{\n",
       "        var display = window.getComputedStyle(gd).display;\n",
       "        if (!display || display === 'none') {{\n",
       "            console.log([gd, 'removed!']);\n",
       "            Plotly.purge(gd);\n",
       "            observer.disconnect();\n",
       "        }}\n",
       "}});\n",
       "\n",
       "// Listen for the removal of the full notebook cells\n",
       "var notebookContainer = gd.closest('#notebook-container');\n",
       "if (notebookContainer) {{\n",
       "    x.observe(notebookContainer, {childList: true});\n",
       "}}\n",
       "\n",
       "// Listen for the clearing of the current output cell\n",
       "var outputEl = gd.closest('.output');\n",
       "if (outputEl) {{\n",
       "    x.observe(outputEl, {childList: true});\n",
       "}}\n",
       "\n",
       "                        })                };                });            </script>        </div>"
      ]
     },
     "metadata": {},
     "output_type": "display_data"
    }
   ],
   "source": [
    "px.line(ukraine_net.resample('1w').sum())"
   ]
  },
  {
   "cell_type": "code",
   "execution_count": null,
   "id": "af4fc833",
   "metadata": {},
   "outputs": [],
   "source": []
  }
 ],
 "metadata": {
  "kernelspec": {
   "display_name": "vp",
   "language": "python",
   "name": "vp"
  },
  "language_info": {
   "codemirror_mode": {
    "name": "ipython",
    "version": 3
   },
   "file_extension": ".py",
   "mimetype": "text/x-python",
   "name": "python",
   "nbconvert_exporter": "python",
   "pygments_lexer": "ipython3",
   "version": "3.10.10"
  }
 },
 "nbformat": 4,
 "nbformat_minor": 5
}
